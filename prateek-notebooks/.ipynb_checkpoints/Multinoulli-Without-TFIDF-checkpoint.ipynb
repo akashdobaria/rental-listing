{
 "cells": [
  {
   "cell_type": "code",
   "execution_count": 18,
   "metadata": {
    "collapsed": false
   },
   "outputs": [],
   "source": [
    "import pandas as pd\n",
    "from sklearn import preprocessing\n",
    "from sklearn.cross_validation import train_test_split\n",
    "from sklearn.naive_bayes import MultinomialNB\n",
    "from sklearn.metrics import precision_recall_fscore_support as prfs\n",
    "from sklearn.metrics import classification_report\n",
    "from sklearn.cross_validation import cross_val_score\n",
    "import sklearn"
   ]
  },
  {
   "cell_type": "code",
   "execution_count": 2,
   "metadata": {
    "collapsed": false
   },
   "outputs": [],
   "source": [
    "df = pd.read_json('train.json')"
   ]
  },
  {
   "cell_type": "code",
   "execution_count": 3,
   "metadata": {
    "collapsed": false
   },
   "outputs": [],
   "source": [
    "df['interest_level'] = df['interest_level'].astype('category')\n",
    "df['interest_level_codes'] = df['interest_level'].cat.codes\n",
    "\n",
    "df['display_address'] = df['display_address'].astype('category')\n",
    "df['display_address_codes'] = df['display_address'].cat.codes\n",
    "\n",
    "df['latitude'] = df['latitude'].astype('category')\n",
    "df['latitude_codes'] = df['latitude'].cat.codes\n",
    "\n",
    "df['longitude'] = df['longitude'].astype('category')\n",
    "df['longitude_codes'] = df['longitude'].cat.codes"
   ]
  },
  {
   "cell_type": "code",
   "execution_count": 4,
   "metadata": {
    "collapsed": false
   },
   "outputs": [],
   "source": [
    "#df[['interest_level','interest_level_codes']].head(2)\n",
    "#print(df['interest_level_codes'].hist())\n",
    "#df.to_csv('generated-data-with-codes.csv',sep=',', encoding='utf-8')\n",
    "#df['interest_level_codes'].value_counts()\n",
    "#df['display_address_codes'].value_counts()"
   ]
  },
  {
   "cell_type": "code",
   "execution_count": null,
   "metadata": {
    "collapsed": true
   },
   "outputs": [],
   "source": [
    "\n"
   ]
  },
  {
   "cell_type": "code",
   "execution_count": 5,
   "metadata": {
    "collapsed": false
   },
   "outputs": [
    {
     "data": {
      "text/html": [
       "<div>\n",
       "<table border=\"1\" class=\"dataframe\">\n",
       "  <thead>\n",
       "    <tr style=\"text-align: right;\">\n",
       "      <th></th>\n",
       "      <th>bathrooms</th>\n",
       "      <th>bedrooms</th>\n",
       "      <th>building_id</th>\n",
       "      <th>created</th>\n",
       "      <th>description</th>\n",
       "      <th>display_address</th>\n",
       "      <th>features</th>\n",
       "      <th>interest_level</th>\n",
       "      <th>latitude</th>\n",
       "      <th>listing_id</th>\n",
       "      <th>longitude</th>\n",
       "      <th>manager_id</th>\n",
       "      <th>photos</th>\n",
       "      <th>price</th>\n",
       "      <th>street_address</th>\n",
       "      <th>interest_level_codes</th>\n",
       "      <th>display_address_codes</th>\n",
       "      <th>latitude_codes</th>\n",
       "      <th>longitude_codes</th>\n",
       "    </tr>\n",
       "  </thead>\n",
       "  <tbody>\n",
       "    <tr>\n",
       "      <th>10</th>\n",
       "      <td>1.5</td>\n",
       "      <td>3</td>\n",
       "      <td>53a5b119ba8f7b61d4e010512e0dfc85</td>\n",
       "      <td>2016-06-24 07:54:24</td>\n",
       "      <td>A Brand New 3 Bedroom 1.5 bath ApartmentEnjoy ...</td>\n",
       "      <td>Metropolitan Avenue</td>\n",
       "      <td>[]</td>\n",
       "      <td>medium</td>\n",
       "      <td>40.7145</td>\n",
       "      <td>7211212</td>\n",
       "      <td>-73.9425</td>\n",
       "      <td>5ba989232d0489da1b5f2c45f6688adc</td>\n",
       "      <td>[https://photos.renthop.com/2/7211212_1ed4542e...</td>\n",
       "      <td>3000</td>\n",
       "      <td>792 Metropolitan Avenue</td>\n",
       "      <td>2</td>\n",
       "      <td>6544</td>\n",
       "      <td>867</td>\n",
       "      <td>879</td>\n",
       "    </tr>\n",
       "    <tr>\n",
       "      <th>10000</th>\n",
       "      <td>1.0</td>\n",
       "      <td>2</td>\n",
       "      <td>c5c8a357cba207596b04d1afd1e4f130</td>\n",
       "      <td>2016-06-12 12:19:27</td>\n",
       "      <td></td>\n",
       "      <td>Columbus Avenue</td>\n",
       "      <td>[Doorman, Elevator, Fitness Center, Cats Allow...</td>\n",
       "      <td>low</td>\n",
       "      <td>40.7947</td>\n",
       "      <td>7150865</td>\n",
       "      <td>-73.9667</td>\n",
       "      <td>7533621a882f71e25173b27e3139d83d</td>\n",
       "      <td>[https://photos.renthop.com/2/7150865_be3306c5...</td>\n",
       "      <td>5465</td>\n",
       "      <td>808 Columbus Avenue</td>\n",
       "      <td>1</td>\n",
       "      <td>4506</td>\n",
       "      <td>1665</td>\n",
       "      <td>637</td>\n",
       "    </tr>\n",
       "  </tbody>\n",
       "</table>\n",
       "</div>"
      ],
      "text/plain": [
       "       bathrooms  bedrooms                       building_id  \\\n",
       "10           1.5         3  53a5b119ba8f7b61d4e010512e0dfc85   \n",
       "10000        1.0         2  c5c8a357cba207596b04d1afd1e4f130   \n",
       "\n",
       "                   created                                        description  \\\n",
       "10     2016-06-24 07:54:24  A Brand New 3 Bedroom 1.5 bath ApartmentEnjoy ...   \n",
       "10000  2016-06-12 12:19:27                                                      \n",
       "\n",
       "           display_address                                           features  \\\n",
       "10     Metropolitan Avenue                                                 []   \n",
       "10000      Columbus Avenue  [Doorman, Elevator, Fitness Center, Cats Allow...   \n",
       "\n",
       "      interest_level latitude  listing_id longitude  \\\n",
       "10            medium  40.7145     7211212  -73.9425   \n",
       "10000            low  40.7947     7150865  -73.9667   \n",
       "\n",
       "                             manager_id  \\\n",
       "10     5ba989232d0489da1b5f2c45f6688adc   \n",
       "10000  7533621a882f71e25173b27e3139d83d   \n",
       "\n",
       "                                                  photos  price  \\\n",
       "10     [https://photos.renthop.com/2/7211212_1ed4542e...   3000   \n",
       "10000  [https://photos.renthop.com/2/7150865_be3306c5...   5465   \n",
       "\n",
       "                street_address  interest_level_codes  display_address_codes  \\\n",
       "10     792 Metropolitan Avenue                     2                   6544   \n",
       "10000      808 Columbus Avenue                     1                   4506   \n",
       "\n",
       "       latitude_codes  longitude_codes  \n",
       "10                867              879  \n",
       "10000            1665              637  "
      ]
     },
     "execution_count": 5,
     "metadata": {},
     "output_type": "execute_result"
    }
   ],
   "source": [
    "df.head(2)"
   ]
  },
  {
   "cell_type": "code",
   "execution_count": null,
   "metadata": {
    "collapsed": false
   },
   "outputs": [],
   "source": []
  },
  {
   "cell_type": "code",
   "execution_count": 6,
   "metadata": {
    "collapsed": false
   },
   "outputs": [],
   "source": [
    "y_label = df['interest_level_codes']\n",
    "feature_matrix_df = df[['bathrooms','bathrooms','price','display_address_codes','longitude_codes','latitude_codes']];"
   ]
  },
  {
   "cell_type": "code",
   "execution_count": 7,
   "metadata": {
    "collapsed": false
   },
   "outputs": [
    {
     "data": {
      "text/html": [
       "<div>\n",
       "<table border=\"1\" class=\"dataframe\">\n",
       "  <thead>\n",
       "    <tr style=\"text-align: right;\">\n",
       "      <th></th>\n",
       "      <th>bathrooms</th>\n",
       "      <th>bathrooms</th>\n",
       "      <th>price</th>\n",
       "      <th>display_address_codes</th>\n",
       "      <th>longitude_codes</th>\n",
       "      <th>latitude_codes</th>\n",
       "    </tr>\n",
       "  </thead>\n",
       "  <tbody>\n",
       "    <tr>\n",
       "      <th>10</th>\n",
       "      <td>1.5</td>\n",
       "      <td>1.5</td>\n",
       "      <td>3000</td>\n",
       "      <td>6544</td>\n",
       "      <td>879</td>\n",
       "      <td>867</td>\n",
       "    </tr>\n",
       "    <tr>\n",
       "      <th>10000</th>\n",
       "      <td>1.0</td>\n",
       "      <td>1.0</td>\n",
       "      <td>5465</td>\n",
       "      <td>4506</td>\n",
       "      <td>637</td>\n",
       "      <td>1665</td>\n",
       "    </tr>\n",
       "  </tbody>\n",
       "</table>\n",
       "</div>"
      ],
      "text/plain": [
       "       bathrooms  bathrooms  price  display_address_codes  longitude_codes  \\\n",
       "10           1.5        1.5   3000                   6544              879   \n",
       "10000        1.0        1.0   5465                   4506              637   \n",
       "\n",
       "       latitude_codes  \n",
       "10                867  \n",
       "10000            1665  "
      ]
     },
     "execution_count": 7,
     "metadata": {},
     "output_type": "execute_result"
    }
   ],
   "source": [
    "feature_matrix_df.head(2)"
   ]
  },
  {
   "cell_type": "code",
   "execution_count": 8,
   "metadata": {
    "collapsed": false
   },
   "outputs": [
    {
     "name": "stdout",
     "output_type": "stream",
     "text": [
      "37014\n",
      "12338\n",
      "37014\n",
      "12338\n"
     ]
    }
   ],
   "source": [
    "X_train, X_test, y_train, y_test = train_test_split(feature_matrix_df,y_label, test_size=0.25)\n",
    "print len(X_train)\n",
    "print len(X_test)\n",
    "print len(y_train)\n",
    "print len(y_test)"
   ]
  },
  {
   "cell_type": "code",
   "execution_count": 9,
   "metadata": {
    "collapsed": false
   },
   "outputs": [],
   "source": [
    "multinomialNBClassifier = MultinomialNB();"
   ]
  },
  {
   "cell_type": "code",
   "execution_count": 10,
   "metadata": {
    "collapsed": false
   },
   "outputs": [
    {
     "data": {
      "text/plain": [
       "MultinomialNB(alpha=1.0, class_prior=None, fit_prior=True)"
      ]
     },
     "execution_count": 10,
     "metadata": {},
     "output_type": "execute_result"
    }
   ],
   "source": [
    "multinomialNBClassifier.fit(X_train, y_train)"
   ]
  },
  {
   "cell_type": "code",
   "execution_count": 11,
   "metadata": {
    "collapsed": false
   },
   "outputs": [],
   "source": [
    "predicted_labels = multinomialNBClassifier.predict(X_test)"
   ]
  },
  {
   "cell_type": "code",
   "execution_count": 12,
   "metadata": {
    "collapsed": false
   },
   "outputs": [],
   "source": [
    "actual_class = y_test.tolist()\n",
    "predicted_class = predicted_labels.tolist()"
   ]
  },
  {
   "cell_type": "code",
   "execution_count": 13,
   "metadata": {
    "collapsed": true
   },
   "outputs": [],
   "source": [
    "target_names = ['0', '1', '2']"
   ]
  },
  {
   "cell_type": "code",
   "execution_count": 14,
   "metadata": {
    "collapsed": false
   },
   "outputs": [
    {
     "name": "stdout",
     "output_type": "stream",
     "text": [
      "             precision    recall  f1-score   support\n",
      "\n",
      "          0       0.12      0.50      0.19      1005\n",
      "          1       0.74      0.42      0.53      8527\n",
      "          2       0.23      0.26      0.24      2806\n",
      "\n",
      "avg / total       0.58      0.39      0.44     12338\n",
      "\n"
     ]
    }
   ],
   "source": [
    "print(classification_report(actual_class, predicted_class, target_names=target_names))"
   ]
  },
  {
   "cell_type": "code",
   "execution_count": 15,
   "metadata": {
    "collapsed": false
   },
   "outputs": [],
   "source": [
    "#predicted_prob_labels = multinomialNBClassifier.predict_proba(X_test);"
   ]
  },
  {
   "cell_type": "code",
   "execution_count": 16,
   "metadata": {
    "collapsed": false
   },
   "outputs": [
    {
     "name": "stdout",
     "output_type": "stream",
     "text": [
      "0.388069379154\n"
     ]
    }
   ],
   "source": [
    "score = multinomialNBClassifier.score(X_test,actual_class);\n",
    "print score;"
   ]
  },
  {
   "cell_type": "code",
   "execution_count": 19,
   "metadata": {
    "collapsed": false
   },
   "outputs": [
    {
     "name": "stdout",
     "output_type": "stream",
     "text": [
      "[ 0.38269854  0.38229335  0.386953    0.40538898  0.39574468  0.39696049\n",
      "  0.39716312  0.39797366  0.39898683  0.38374214]\n"
     ]
    }
   ],
   "source": [
    "cvScores = cross_val_score(multinomialNBClassifier, feature_matrix_df, y_label, cv=10, scoring='f1_micro');\n",
    "print cvScores;"
   ]
  },
  {
   "cell_type": "code",
   "execution_count": null,
   "metadata": {
    "collapsed": false
   },
   "outputs": [],
   "source": [
    "#print len(predicted_prob_labels)\n",
    "#prob_labels_list = predicted_prob_labels.tolist()\n",
    "#print prob_labels_list"
   ]
  }
 ],
 "metadata": {
  "anaconda-cloud": {},
  "kernelspec": {
   "display_name": "Python 2",
   "language": "python",
   "name": "python2"
  },
  "language_info": {
   "codemirror_mode": {
    "name": "ipython",
    "version": 2
   },
   "file_extension": ".py",
   "mimetype": "text/x-python",
   "name": "python",
   "nbconvert_exporter": "python",
   "pygments_lexer": "ipython2",
   "version": "2.7.13"
  }
 },
 "nbformat": 4,
 "nbformat_minor": 2
}
