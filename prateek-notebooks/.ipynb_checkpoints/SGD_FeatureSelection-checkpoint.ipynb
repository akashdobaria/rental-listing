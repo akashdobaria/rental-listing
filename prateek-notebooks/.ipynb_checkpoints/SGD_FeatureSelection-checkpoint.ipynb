{
 "cells": [
  {
   "cell_type": "code",
   "execution_count": 1,
   "metadata": {
    "collapsed": false
   },
   "outputs": [
    {
     "name": "stderr",
     "output_type": "stream",
     "text": [
      "C:\\Users\\shekh\\Anaconda2\\lib\\site-packages\\sklearn\\cross_validation.py:44: DeprecationWarning: This module was deprecated in version 0.18 in favor of the model_selection module into which all the refactored classes and functions are moved. Also note that the interface of the new CV iterators are different from that of this module. This module will be removed in 0.20.\n",
      "  \"This module will be removed in 0.20.\", DeprecationWarning)\n"
     ]
    }
   ],
   "source": [
    "import pandas as pd\n",
    "import numpy as np\n",
    "from sklearn.linear_model import LogisticRegression, LinearRegression\n",
    "from sklearn.cross_validation import train_test_split\n",
    "from sklearn.feature_selection import VarianceThreshold\n",
    "from sklearn.feature_selection import RFE\n",
    "from sklearn.metrics import classification_report\n",
    "from sklearn.cross_validation import cross_val_score\n",
    "from sklearn.ensemble import ExtraTreesClassifier\n",
    "from sklearn.ensemble import RandomForestClassifier"
   ]
  },
  {
   "cell_type": "code",
   "execution_count": 2,
   "metadata": {
    "collapsed": false
   },
   "outputs": [],
   "source": [
    "dataFrame = pd.read_csv('C:/Users/shekh/Desktop/rentallisting/extrapolated_trained_data_new_1.csv');\n",
    "df = pd.DataFrame(dataFrame);"
   ]
  },
  {
   "cell_type": "code",
   "execution_count": 3,
   "metadata": {
    "collapsed": true
   },
   "outputs": [],
   "source": [
    "df['interest_level'] = df['interest_level'].astype('category')\n",
    "df['interest_level_codes'] = df['interest_level'].cat.codes\n",
    "\n",
    "df['display_address'] = df['display_address'].astype('category')\n",
    "df['display_address_codes'] = df['display_address'].cat.codes\n",
    "\n",
    "df['latitude'] = df['latitude'].astype('category')\n",
    "df['latitude_codes'] = df['latitude'].cat.codes\n",
    "\n",
    "df['longitude'] = df['longitude'].astype('category')\n",
    "df['longitude_codes'] = df['longitude'].cat.codes"
   ]
  },
  {
   "cell_type": "code",
   "execution_count": 4,
   "metadata": {
    "collapsed": false
   },
   "outputs": [
    {
     "data": {
      "text/plain": [
       "(45342, 289)"
      ]
     },
     "execution_count": 4,
     "metadata": {},
     "output_type": "execute_result"
    }
   ],
   "source": [
    "featuresDF = df.drop('interest_level', axis=1)\n",
    "featuresDF = featuresDF.drop('building_id', axis=1)\n",
    "featuresDF = featuresDF.drop('created', axis=1)\n",
    "featuresDF = featuresDF.drop('description', axis=1)\n",
    "featuresDF = featuresDF.drop('display_address', axis=1)\n",
    "featuresDF = featuresDF.drop('latitude', axis=1)\n",
    "featuresDF = featuresDF.drop('longitude', axis=1)\n",
    "featuresDF = featuresDF.drop('manager_id', axis=1)\n",
    "featuresDF = featuresDF.drop('photos', axis=1)\n",
    "featuresDF = featuresDF.drop('street_address', axis=1)\n",
    "featuresDF = featuresDF.drop('listing_id', axis=1)\n",
    "\n",
    "featuresDF.shape"
   ]
  },
  {
   "cell_type": "code",
   "execution_count": 5,
   "metadata": {
    "collapsed": false
   },
   "outputs": [],
   "source": [
    "#2. Using Variance Threshold for feature selection\n",
    "selector = VarianceThreshold(threshold=(.9 * (1 - .9)));\n",
    "temp = selector.fit_transform(featuresDF);"
   ]
  },
  {
   "cell_type": "code",
   "execution_count": 6,
   "metadata": {
    "collapsed": false
   },
   "outputs": [
    {
     "data": {
      "text/plain": [
       "numpy.ndarray"
      ]
     },
     "execution_count": 6,
     "metadata": {},
     "output_type": "execute_result"
    }
   ],
   "source": [
    "type(temp)"
   ]
  },
  {
   "cell_type": "code",
   "execution_count": 7,
   "metadata": {
    "collapsed": false
   },
   "outputs": [
    {
     "data": {
      "text/plain": [
       "(45342L, 22L)"
      ]
     },
     "execution_count": 7,
     "metadata": {},
     "output_type": "execute_result"
    }
   ],
   "source": [
    "temp.shape"
   ]
  },
  {
   "cell_type": "code",
   "execution_count": 8,
   "metadata": {
    "collapsed": false
   },
   "outputs": [],
   "source": [
    "selected_features = selector.get_support(indices=True)"
   ]
  },
  {
   "cell_type": "code",
   "execution_count": 9,
   "metadata": {
    "collapsed": false
   },
   "outputs": [],
   "source": [
    "reducedFeatureDF = featuresDF.iloc[:,selected_features]"
   ]
  },
  {
   "cell_type": "code",
   "execution_count": 10,
   "metadata": {
    "collapsed": false
   },
   "outputs": [
    {
     "data": {
      "text/plain": [
       "Index([u'bathrooms', u'bedrooms', u'no_of_photos', u'price', u'dish_washer',\n",
       "       u'fitness_center', u'hardwood_floors', u'dining_room', u'elevator',\n",
       "       u'doorman', u'dog_allowed', u'roof_deck', u'laundry', u'pre_war',\n",
       "       u'cat_allowed', u'outdoor_space', u'laundry_bldg', u'no_fee',\n",
       "       u'interest_level_codes', u'display_address_codes', u'latitude_codes',\n",
       "       u'longitude_codes'],\n",
       "      dtype='object')"
      ]
     },
     "execution_count": 10,
     "metadata": {},
     "output_type": "execute_result"
    }
   ],
   "source": [
    "reducedFeatureDF.columns"
   ]
  },
  {
   "cell_type": "code",
   "execution_count": 11,
   "metadata": {
    "collapsed": true
   },
   "outputs": [],
   "source": [
    "y_label = reducedFeatureDF['interest_level_codes']"
   ]
  },
  {
   "cell_type": "code",
   "execution_count": 12,
   "metadata": {
    "collapsed": false
   },
   "outputs": [
    {
     "name": "stdout",
     "output_type": "stream",
     "text": [
      "36273\n",
      "4534\n",
      "4535\n",
      "36273\n",
      "4534\n",
      "4535\n",
      "36273\n",
      "4534\n",
      "4535\n"
     ]
    }
   ],
   "source": [
    "# X_train, X_test, y_train, y_test = train_test_split(reducedFeatureDF,y_label, test_size=0.40,random_state=15,stratify=y_label)\n",
    "train, validate, test = np.split(reducedFeatureDF.sample(frac=1), [int(.8*len(df)), int(.9*len(df))])\n",
    "print len(train);\n",
    "print len(validate);\n",
    "print len(test);\n",
    "X_train = train.drop('interest_level_codes', axis=1)\n",
    "X_validate = validate.drop('interest_level_codes', axis=1)\n",
    "X_test = test.drop('interest_level_codes', axis=1)\n",
    "\n",
    "y_train = train['interest_level_codes']\n",
    "y_validate = validate['interest_level_codes']\n",
    "y_test = test['interest_level_codes']\n",
    "\n",
    "print len(X_train)\n",
    "print len(X_validate)\n",
    "print len(X_test)\n",
    "print len(y_train)\n",
    "print len(y_validate)\n",
    "print len(y_test)"
   ]
  },
  {
   "cell_type": "code",
   "execution_count": 13,
   "metadata": {
    "collapsed": false
   },
   "outputs": [
    {
     "name": "stdout",
     "output_type": "stream",
     "text": [
      "1    25721\n",
      "2     8022\n",
      "0     2530\n",
      "Name: interest_level_codes, dtype: int64\n",
      "1    3227\n",
      "2     972\n",
      "0     335\n",
      "Name: interest_level_codes, dtype: int64\n",
      "1    3268\n",
      "2     958\n",
      "0     309\n",
      "Name: interest_level_codes, dtype: int64\n"
     ]
    }
   ],
   "source": [
    "print y_train.value_counts();\n",
    "print y_validate.value_counts();\n",
    "print y_test.value_counts();"
   ]
  },
  {
   "cell_type": "code",
   "execution_count": 14,
   "metadata": {
    "collapsed": false
   },
   "outputs": [],
   "source": [
    "def generate_rf(X_train, y_train, X_validate, y_validate):\n",
    "    rf = RandomForestClassifier(n_estimators=50, min_samples_leaf=10)\n",
    "    rf.fit(X_train, y_train)\n",
    "    print \"rf score \", rf.score(X_validate, y_validate)\n",
    "    return rf\n",
    "\n",
    "def combine_rfs(rf_a, rf_b):\n",
    "    rf_a.estimators_ += rf_b.estimators_\n",
    "    rf_a.n_estimators = len(rf_a.estimators_)\n",
    "    return rf_a"
   ]
  },
  {
   "cell_type": "code",
   "execution_count": 15,
   "metadata": {
    "collapsed": false
   },
   "outputs": [
    {
     "name": "stdout",
     "output_type": "stream",
     "text": [
      "rf score  0.741508601676\n",
      "rf score  0.736876929863\n",
      "rf score  0.742170269078\n",
      "rf score  0.740626378474\n",
      "rf score  0.737538597265\n",
      "rf score  0.738641376268\n",
      "rf score  0.739523599471\n",
      "rf score  0.736656374063\n",
      "rf score  0.737759153066\n",
      "rf score  0.740185266873\n",
      "rf combined score 0.736435818262\n"
     ]
    }
   ],
   "source": [
    "rfs = [generate_rf(X_train, y_train, X_validate, y_validate) for i in xrange(10)]\n",
    "rf_combined = reduce(combine_rfs, rfs)\n",
    "\n",
    "print \"rf combined score\", rf_combined.score(X_validate, y_validate)"
   ]
  },
  {
   "cell_type": "code",
   "execution_count": 16,
   "metadata": {
    "collapsed": true
   },
   "outputs": [],
   "source": [
    "target_names = ['0', '1', '2'];"
   ]
  },
  {
   "cell_type": "code",
   "execution_count": 17,
   "metadata": {
    "collapsed": false
   },
   "outputs": [],
   "source": [
    "predicted_labels_validation = rf_combined.predict(X_validate)"
   ]
  },
  {
   "cell_type": "code",
   "execution_count": 18,
   "metadata": {
    "collapsed": false
   },
   "outputs": [
    {
     "name": "stdout",
     "output_type": "stream",
     "text": [
      "             precision    recall  f1-score   support\n",
      "\n",
      "          0       0.69      0.15      0.24       335\n",
      "          1       0.76      0.97      0.85      3227\n",
      "          2       0.48      0.17      0.25       972\n",
      "\n",
      "avg / total       0.69      0.74      0.68      4534\n",
      "\n"
     ]
    }
   ],
   "source": [
    "print(classification_report(y_validate, predicted_labels_validation, target_names=target_names))"
   ]
  },
  {
   "cell_type": "code",
   "execution_count": 19,
   "metadata": {
    "collapsed": false
   },
   "outputs": [],
   "source": [
    "predicted_labels_test = rf_combined.predict(X_test)"
   ]
  },
  {
   "cell_type": "code",
   "execution_count": 20,
   "metadata": {
    "collapsed": false
   },
   "outputs": [
    {
     "name": "stdout",
     "output_type": "stream",
     "text": [
      "             precision    recall  f1-score   support\n",
      "\n",
      "          0       0.62      0.10      0.17       309\n",
      "          1       0.77      0.97      0.86      3268\n",
      "          2       0.46      0.18      0.26       958\n",
      "\n",
      "avg / total       0.69      0.74      0.68      4535\n",
      "\n"
     ]
    }
   ],
   "source": [
    "print(classification_report(y_test, predicted_labels_test, target_names=target_names))"
   ]
  }
 ],
 "metadata": {
  "kernelspec": {
   "display_name": "Python 2",
   "language": "python",
   "name": "python2"
  },
  "language_info": {
   "codemirror_mode": {
    "name": "ipython",
    "version": 2
   },
   "file_extension": ".py",
   "mimetype": "text/x-python",
   "name": "python",
   "nbconvert_exporter": "python",
   "pygments_lexer": "ipython2",
   "version": "2.7.13"
  }
 },
 "nbformat": 4,
 "nbformat_minor": 2
}
