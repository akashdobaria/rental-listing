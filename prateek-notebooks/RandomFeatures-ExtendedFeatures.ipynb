{
 "cells": [
  {
   "cell_type": "code",
   "execution_count": 1,
   "metadata": {
    "collapsed": false
   },
   "outputs": [
    {
     "name": "stderr",
     "output_type": "stream",
     "text": [
      "C:\\Users\\shekh\\Anaconda2\\lib\\site-packages\\sklearn\\cross_validation.py:44: DeprecationWarning: This module was deprecated in version 0.18 in favor of the model_selection module into which all the refactored classes and functions are moved. Also note that the interface of the new CV iterators are different from that of this module. This module will be removed in 0.20.\n",
      "  \"This module will be removed in 0.20.\", DeprecationWarning)\n"
     ]
    }
   ],
   "source": [
    "import pandas as pd\n",
    "from sklearn import preprocessing\n",
    "from sklearn.cross_validation import train_test_split\n",
    "from sklearn import svm\n",
    "from sklearn.metrics import precision_recall_fscore_support as prfs\n",
    "from sklearn.metrics import classification_report\n",
    "from sklearn.model_selection import StratifiedShuffleSplit\n",
    "from sklearn.cross_validation import cross_val_score\n",
    "from sklearn import linear_model\n",
    "from sklearn.ensemble import ExtraTreesClassifier\n",
    "from sklearn.ensemble import RandomForestClassifier\n"
   ]
  },
  {
   "cell_type": "code",
   "execution_count": 2,
   "metadata": {
    "collapsed": false
   },
   "outputs": [],
   "source": [
    "df = pd.read_csv('extrapolated_trained_data.csv')"
   ]
  },
  {
   "cell_type": "code",
   "execution_count": 3,
   "metadata": {
    "collapsed": false
   },
   "outputs": [],
   "source": [
    "df['interest_level'] = df['interest_level'].astype('category')\n",
    "df['interest_level_codes'] = df['interest_level'].cat.codes\n",
    "\n",
    "df['display_address'] = df['display_address'].astype('category')\n",
    "df['display_address_codes'] = df['display_address'].cat.codes\n",
    "\n",
    "df['latitude'] = df['latitude'].astype('category')\n",
    "df['latitude_codes'] = df['latitude'].cat.codes\n",
    "\n",
    "df['longitude'] = df['longitude'].astype('category')\n",
    "df['longitude_codes'] = df['longitude'].cat.codes"
   ]
  },
  {
   "cell_type": "code",
   "execution_count": 4,
   "metadata": {
    "collapsed": false
   },
   "outputs": [],
   "source": [
    "featuresDF = df.drop('interest_level', axis=1)\n",
    "featuresDF = featuresDF.drop('building_id', axis=1)\n",
    "featuresDF = featuresDF.drop('created', axis=1)\n",
    "featuresDF = featuresDF.drop('description', axis=1)\n",
    "featuresDF = featuresDF.drop('display_address', axis=1)\n",
    "featuresDF = featuresDF.drop('latitude', axis=1)\n",
    "featuresDF = featuresDF.drop('longitude', axis=1)\n",
    "featuresDF = featuresDF.drop('manager_id', axis=1)\n",
    "featuresDF = featuresDF.drop('photos', axis=1)\n",
    "featuresDF = featuresDF.drop('street_address', axis=1)\n",
    "featuresDF = featuresDF.drop('listing_id', axis=1)\n",
    "featuresDF = featuresDF.drop('Unnamed: 328', axis=1)"
   ]
  },
  {
   "cell_type": "code",
   "execution_count": 5,
   "metadata": {
    "collapsed": false
   },
   "outputs": [
    {
     "data": {
      "text/plain": [
       "1    32216\n",
       "2     9952\n",
       "0     3174\n",
       "Name: interest_level_codes, dtype: int64"
      ]
     },
     "execution_count": 5,
     "metadata": {},
     "output_type": "execute_result"
    }
   ],
   "source": [
    "y_label = featuresDF['interest_level_codes']\n",
    "y_label.value_counts()"
   ]
  },
  {
   "cell_type": "code",
   "execution_count": 6,
   "metadata": {
    "collapsed": false
   },
   "outputs": [
    {
     "name": "stdout",
     "output_type": "stream",
     "text": [
      "34006\n",
      "11336\n",
      "34006\n",
      "11336\n"
     ]
    }
   ],
   "source": [
    "target_names = ['0', '1', '2'];\n",
    "X_train, X_test, y_train, y_test = train_test_split(featuresDF,y_label, test_size=0.25,random_state=15,stratify=y_label)\n",
    "print len(X_train)\n",
    "print len(X_test)\n",
    "print len(y_train)\n",
    "print len(y_test)"
   ]
  },
  {
   "cell_type": "code",
   "execution_count": 7,
   "metadata": {
    "collapsed": false
   },
   "outputs": [],
   "source": [
    "def generate_rf(X_train, y_train, X_test, y_test):\n",
    "    rf = RandomForestClassifier(n_estimators=50, min_samples_leaf=10)\n",
    "    rf.fit(X_train, y_train)\n",
    "    print \"rf score \", rf.score(X_test, y_test)\n",
    "    return rf\n",
    "\n",
    "def combine_rfs(rf_a, rf_b):\n",
    "    rf_a.estimators_ += rf_b.estimators_\n",
    "    rf_a.n_estimators = len(rf_a.estimators_)\n",
    "    return rf_a"
   ]
  },
  {
   "cell_type": "code",
   "execution_count": 8,
   "metadata": {
    "collapsed": false
   },
   "outputs": [
    {
     "name": "stdout",
     "output_type": "stream",
     "text": [
      "rf score  0.924488355681\n",
      "rf score  0.922194777699\n",
      "rf score  0.929693013409\n",
      "rf score  0.914608327452\n",
      "rf score  0.926517290049\n",
      "rf score  0.923959068454\n",
      "rf score  0.928281580805\n",
      "rf score  0.932251235004\n",
      "rf score  0.9268701482\n",
      "rf score  0.928899082569\n",
      "rf combined score 0.92845800988\n"
     ]
    }
   ],
   "source": [
    "rfs = [generate_rf(X_train, y_train, X_test, y_test) for i in xrange(10)]\n",
    "rf_combined = reduce(combine_rfs, rfs)\n",
    "\n",
    "print \"rf combined score\", rf_combined.score(X_test, y_test)"
   ]
  },
  {
   "cell_type": "code",
   "execution_count": 9,
   "metadata": {
    "collapsed": false
   },
   "outputs": [],
   "source": [
    "predicted_labels = rf_combined.predict(X_test)"
   ]
  },
  {
   "cell_type": "code",
   "execution_count": 10,
   "metadata": {
    "collapsed": false
   },
   "outputs": [],
   "source": [
    "actual_class = y_test.tolist()\n",
    "predicted_class = predicted_labels.tolist()"
   ]
  },
  {
   "cell_type": "code",
   "execution_count": 11,
   "metadata": {
    "collapsed": true
   },
   "outputs": [],
   "source": [
    "target_names = ['0', '1', '2']"
   ]
  },
  {
   "cell_type": "code",
   "execution_count": 12,
   "metadata": {
    "collapsed": false
   },
   "outputs": [
    {
     "name": "stdout",
     "output_type": "stream",
     "text": [
      "             precision    recall  f1-score   support\n",
      "\n",
      "          0       0.00      0.00      0.00       794\n",
      "          1       0.91      1.00      0.95      8054\n",
      "          2       1.00      0.99      1.00      2488\n",
      "\n",
      "avg / total       0.86      0.93      0.90     11336\n",
      "\n"
     ]
    },
    {
     "name": "stderr",
     "output_type": "stream",
     "text": [
      "C:\\Users\\shekh\\Anaconda2\\lib\\site-packages\\sklearn\\metrics\\classification.py:1113: UndefinedMetricWarning: Precision and F-score are ill-defined and being set to 0.0 in labels with no predicted samples.\n",
      "  'precision', 'predicted', average, warn_for)\n"
     ]
    }
   ],
   "source": [
    "print(classification_report(actual_class, predicted_class, target_names=target_names))"
   ]
  },
  {
   "cell_type": "code",
   "execution_count": 13,
   "metadata": {
    "collapsed": false
   },
   "outputs": [],
   "source": [
    "#predicted_prob_labels = multinomialNBClassifier.predict_proba(X_test);"
   ]
  },
  {
   "cell_type": "code",
   "execution_count": 14,
   "metadata": {
    "collapsed": false
   },
   "outputs": [
    {
     "name": "stdout",
     "output_type": "stream",
     "text": [
      "0.92845800988\n"
     ]
    }
   ],
   "source": [
    "score = rf_combined.score(X_test,actual_class);\n",
    "print score;"
   ]
  },
  {
   "cell_type": "code",
   "execution_count": 15,
   "metadata": {
    "collapsed": false
   },
   "outputs": [
    {
     "name": "stdout",
     "output_type": "stream",
     "text": [
      "[ 0.92791005  0.92768959  0.92833517  0.92546858  0.92655492  0.92655492\n",
      "  0.92653872  0.92808295  0.92764174  0.92874476]\n"
     ]
    }
   ],
   "source": [
    "cvScores = cross_val_score(rf_combined, featuresDF, y_label, cv=10, scoring='f1_micro');\n",
    "print cvScores;"
   ]
  },
  {
   "cell_type": "code",
   "execution_count": 16,
   "metadata": {
    "collapsed": false
   },
   "outputs": [],
   "source": [
    "#print len(predicted_prob_labels)\n",
    "#prob_labels_list = predicted_prob_labels.tolist()\n",
    "#print prob_labels_list"
   ]
  }
 ],
 "metadata": {
  "anaconda-cloud": {},
  "kernelspec": {
   "display_name": "Python 2",
   "language": "python",
   "name": "python2"
  },
  "language_info": {
   "codemirror_mode": {
    "name": "ipython",
    "version": 2
   },
   "file_extension": ".py",
   "mimetype": "text/x-python",
   "name": "python",
   "nbconvert_exporter": "python",
   "pygments_lexer": "ipython2",
   "version": "2.7.13"
  }
 },
 "nbformat": 4,
 "nbformat_minor": 2
}
