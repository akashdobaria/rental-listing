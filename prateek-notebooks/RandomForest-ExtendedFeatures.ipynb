{
 "cells": [
  {
   "cell_type": "code",
   "execution_count": 7,
   "metadata": {
    "collapsed": false
   },
   "outputs": [],
   "source": [
    "import pandas as pd\n",
    "from sklearn import preprocessing\n",
    "from sklearn.cross_validation import train_test_split\n",
    "from sklearn import svm\n",
    "from sklearn.metrics import precision_recall_fscore_support as prfs\n",
    "from sklearn.metrics import classification_report\n",
    "from sklearn.model_selection import StratifiedShuffleSplit\n",
    "from sklearn.cross_validation import cross_val_score\n",
    "from sklearn import linear_model\n",
    "from sklearn.ensemble import ExtraTreesClassifier\n",
    "from sklearn.ensemble import RandomForestClassifier\n"
   ]
  },
  {
   "cell_type": "code",
   "execution_count": 9,
   "metadata": {
    "collapsed": false
   },
   "outputs": [],
   "source": [
    "df = pd.read_csv('extrapolated_trained_data_new_1.csv')"
   ]
  },
  {
   "cell_type": "code",
   "execution_count": 11,
   "metadata": {
    "collapsed": false
   },
   "outputs": [
    {
     "data": {
      "text/html": [
       "<div>\n",
       "<table border=\"1\" class=\"dataframe\">\n",
       "  <thead>\n",
       "    <tr style=\"text-align: right;\">\n",
       "      <th></th>\n",
       "      <th>bathrooms</th>\n",
       "      <th>bedrooms</th>\n",
       "      <th>building_id</th>\n",
       "      <th>created</th>\n",
       "      <th>description</th>\n",
       "      <th>display_address</th>\n",
       "      <th>interest_level</th>\n",
       "      <th>latitude</th>\n",
       "      <th>listing_id</th>\n",
       "      <th>longitude</th>\n",
       "      <th>...</th>\n",
       "      <th>high_rise</th>\n",
       "      <th>no_fee</th>\n",
       "      <th>parking_space</th>\n",
       "      <th>renovated_apt</th>\n",
       "      <th>midrise</th>\n",
       "      <th>pet_upon_approval</th>\n",
       "      <th>interest_level_codes</th>\n",
       "      <th>display_address_codes</th>\n",
       "      <th>latitude_codes</th>\n",
       "      <th>longitude_codes</th>\n",
       "    </tr>\n",
       "  </thead>\n",
       "  <tbody>\n",
       "    <tr>\n",
       "      <th>0</th>\n",
       "      <td>1.5</td>\n",
       "      <td>3</td>\n",
       "      <td>53a5b119ba8f7b61d4e010512e0dfc85</td>\n",
       "      <td>6/24/2016 7:54</td>\n",
       "      <td>A Brand New 3 Bedroom 1.5 bath ApartmentEnjoy ...</td>\n",
       "      <td>Metropolitan Avenue</td>\n",
       "      <td>medium</td>\n",
       "      <td>40.7145</td>\n",
       "      <td>7211212</td>\n",
       "      <td>-73.9425</td>\n",
       "      <td>...</td>\n",
       "      <td>0</td>\n",
       "      <td>0</td>\n",
       "      <td>0</td>\n",
       "      <td>0</td>\n",
       "      <td>0</td>\n",
       "      <td>0</td>\n",
       "      <td>2</td>\n",
       "      <td>4636</td>\n",
       "      <td>793</td>\n",
       "      <td>839</td>\n",
       "    </tr>\n",
       "  </tbody>\n",
       "</table>\n",
       "<p>1 rows × 300 columns</p>\n",
       "</div>"
      ],
      "text/plain": [
       "   bathrooms  bedrooms                       building_id         created  \\\n",
       "0        1.5         3  53a5b119ba8f7b61d4e010512e0dfc85  6/24/2016 7:54   \n",
       "\n",
       "                                         description      display_address  \\\n",
       "0  A Brand New 3 Bedroom 1.5 bath ApartmentEnjoy ...  Metropolitan Avenue   \n",
       "\n",
       "  interest_level latitude  listing_id longitude       ...        high_rise  \\\n",
       "0         medium  40.7145     7211212  -73.9425       ...                0   \n",
       "\n",
       "   no_fee parking_space  renovated_apt midrise  pet_upon_approval  \\\n",
       "0       0             0              0       0                  0   \n",
       "\n",
       "   interest_level_codes  display_address_codes  latitude_codes  \\\n",
       "0                     2                   4636             793   \n",
       "\n",
       "   longitude_codes  \n",
       "0              839  \n",
       "\n",
       "[1 rows x 300 columns]"
      ]
     },
     "execution_count": 11,
     "metadata": {},
     "output_type": "execute_result"
    }
   ],
   "source": [
    "df['interest_level'] = df['interest_level'].astype('category')\n",
    "df['interest_level_codes'] = df['interest_level'].cat.codes\n",
    "\n",
    "df['display_address'] = df['display_address'].astype('category')\n",
    "df['display_address_codes'] = df['display_address'].cat.codes\n",
    "\n",
    "df['latitude'] = df['latitude'].astype('category')\n",
    "df['latitude_codes'] = df['latitude'].cat.codes\n",
    "\n",
    "df['longitude'] = df['longitude'].astype('category')\n",
    "df['longitude_codes'] = df['longitude'].cat.codes\n",
    "\n",
    "df.head(1)"
   ]
  },
  {
   "cell_type": "code",
   "execution_count": 13,
   "metadata": {
    "collapsed": false
   },
   "outputs": [],
   "source": [
    "featuresDF = df.drop('interest_level', axis=1)\n",
    "featuresDF = featuresDF.drop('building_id', axis=1)\n",
    "featuresDF = featuresDF.drop('created', axis=1)\n",
    "featuresDF = featuresDF.drop('description', axis=1)\n",
    "featuresDF = featuresDF.drop('display_address', axis=1)\n",
    "featuresDF = featuresDF.drop('latitude', axis=1)\n",
    "featuresDF = featuresDF.drop('longitude', axis=1)\n",
    "featuresDF = featuresDF.drop('manager_id', axis=1)\n",
    "featuresDF = featuresDF.drop('photos', axis=1)\n",
    "featuresDF = featuresDF.drop('street_address', axis=1)\n",
    "featuresDF = featuresDF.drop('listing_id', axis=1)"
   ]
  },
  {
   "cell_type": "code",
   "execution_count": 14,
   "metadata": {
    "collapsed": false
   },
   "outputs": [
    {
     "data": {
      "text/plain": [
       "1    32216\n",
       "2     9952\n",
       "0     3174\n",
       "Name: interest_level_codes, dtype: int64"
      ]
     },
     "execution_count": 14,
     "metadata": {},
     "output_type": "execute_result"
    }
   ],
   "source": [
    "y_label = featuresDF['interest_level_codes']\n",
    "y_label.value_counts()"
   ]
  },
  {
   "cell_type": "code",
   "execution_count": 15,
   "metadata": {
    "collapsed": false
   },
   "outputs": [
    {
     "name": "stdout",
     "output_type": "stream",
     "text": [
      "34006\n",
      "11336\n",
      "34006\n",
      "11336\n"
     ]
    }
   ],
   "source": [
    "target_names = ['0', '1', '2'];\n",
    "X_train, X_test, y_train, y_test = train_test_split(featuresDF,y_label, test_size=0.25,random_state=15,stratify=y_label)\n",
    "print len(X_train)\n",
    "print len(X_test)\n",
    "print len(y_train)\n",
    "print len(y_test)"
   ]
  },
  {
   "cell_type": "code",
   "execution_count": 16,
   "metadata": {
    "collapsed": false
   },
   "outputs": [
    {
     "name": "stdout",
     "output_type": "stream",
     "text": [
      "1    24162\n",
      "2     7464\n",
      "0     2380\n",
      "Name: interest_level_codes, dtype: int64\n",
      "1    8054\n",
      "2    2488\n",
      "0     794\n",
      "Name: interest_level_codes, dtype: int64\n"
     ]
    }
   ],
   "source": [
    "print y_train.value_counts();\n",
    "print y_test.value_counts();"
   ]
  },
  {
   "cell_type": "code",
   "execution_count": 17,
   "metadata": {
    "collapsed": false
   },
   "outputs": [],
   "source": [
    "def generate_rf(X_train, y_train, X_test, y_test):\n",
    "    rf = RandomForestClassifier(n_estimators=50, min_samples_leaf=10)\n",
    "    rf.fit(X_train, y_train)\n",
    "    print \"rf score \", rf.score(X_test, y_test)\n",
    "    return rf\n",
    "\n",
    "def combine_rfs(rf_a, rf_b):\n",
    "    rf_a.estimators_ += rf_b.estimators_\n",
    "    rf_a.n_estimators = len(rf_a.estimators_)\n",
    "    return rf_a"
   ]
  },
  {
   "cell_type": "code",
   "execution_count": 18,
   "metadata": {
    "collapsed": false
   },
   "outputs": [
    {
     "name": "stdout",
     "output_type": "stream",
     "text": [
      "rf score  0.929693013409\n",
      "rf score  0.923517995766\n",
      "rf score  0.928634438956\n",
      "rf score  0.929516584333\n",
      "rf score  0.929957657022\n",
      "rf score  0.927487649965\n",
      "rf score  0.927399435427\n",
      "rf score  0.935338743825\n",
      "rf score  0.928546224418\n",
      "rf score  0.927311220889\n",
      "rf combined score 0.929075511644\n"
     ]
    }
   ],
   "source": [
    "rfs = [generate_rf(X_train, y_train, X_test, y_test) for i in xrange(10)]\n",
    "rf_combined = reduce(combine_rfs, rfs)\n",
    "\n",
    "print \"rf combined score\", rf_combined.score(X_test, y_test)"
   ]
  },
  {
   "cell_type": "code",
   "execution_count": 19,
   "metadata": {
    "collapsed": false
   },
   "outputs": [],
   "source": [
    "predicted_labels = rf_combined.predict(X_test)"
   ]
  },
  {
   "cell_type": "code",
   "execution_count": 20,
   "metadata": {
    "collapsed": false
   },
   "outputs": [],
   "source": [
    "actual_class = y_test.tolist()\n",
    "predicted_class = predicted_labels.tolist()"
   ]
  },
  {
   "cell_type": "code",
   "execution_count": 21,
   "metadata": {
    "collapsed": true
   },
   "outputs": [],
   "source": [
    "target_names = ['0', '1', '2']"
   ]
  },
  {
   "cell_type": "code",
   "execution_count": 22,
   "metadata": {
    "collapsed": false
   },
   "outputs": [
    {
     "name": "stdout",
     "output_type": "stream",
     "text": [
      "             precision    recall  f1-score   support\n",
      "\n",
      "          0       1.00      0.01      0.01       794\n",
      "          1       0.91      1.00      0.95      8054\n",
      "          2       1.00      1.00      1.00      2488\n",
      "\n",
      "avg / total       0.94      0.93      0.90     11336\n",
      "\n"
     ]
    }
   ],
   "source": [
    "print(classification_report(actual_class, predicted_class, target_names=target_names))"
   ]
  },
  {
   "cell_type": "code",
   "execution_count": 14,
   "metadata": {
    "collapsed": false
   },
   "outputs": [],
   "source": [
    "#predicted_prob_labels = multinomialNBClassifier.predict_proba(X_test);"
   ]
  },
  {
   "cell_type": "code",
   "execution_count": 23,
   "metadata": {
    "collapsed": false
   },
   "outputs": [
    {
     "name": "stdout",
     "output_type": "stream",
     "text": [
      "0.929075511644\n"
     ]
    }
   ],
   "source": [
    "score = rf_combined.score(X_test,actual_class);\n",
    "print score;"
   ]
  },
  {
   "cell_type": "code",
   "execution_count": null,
   "metadata": {
    "collapsed": false
   },
   "outputs": [],
   "source": [
    "cvScores = cross_val_score(rf_combined, featuresDF, y_label, cv=10, scoring='f1_micro');\n",
    "print cvScores;"
   ]
  },
  {
   "cell_type": "code",
   "execution_count": 17,
   "metadata": {
    "collapsed": false
   },
   "outputs": [],
   "source": [
    "#print len(predicted_prob_labels)\n",
    "#prob_labels_list = predicted_prob_labels.tolist()\n",
    "#print prob_labels_list"
   ]
  }
 ],
 "metadata": {
  "anaconda-cloud": {},
  "kernelspec": {
   "display_name": "Python 2",
   "language": "python",
   "name": "python2"
  },
  "language_info": {
   "codemirror_mode": {
    "name": "ipython",
    "version": 2
   },
   "file_extension": ".py",
   "mimetype": "text/x-python",
   "name": "python",
   "nbconvert_exporter": "python",
   "pygments_lexer": "ipython2",
   "version": "2.7.13"
  }
 },
 "nbformat": 4,
 "nbformat_minor": 2
}
