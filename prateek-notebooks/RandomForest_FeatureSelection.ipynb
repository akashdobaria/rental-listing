{
 "cells": [
  {
   "cell_type": "code",
   "execution_count": 1,
   "metadata": {
    "collapsed": false
   },
   "outputs": [
    {
     "name": "stderr",
     "output_type": "stream",
     "text": [
      "C:\\Users\\shekh\\Anaconda2\\lib\\site-packages\\sklearn\\cross_validation.py:44: DeprecationWarning: This module was deprecated in version 0.18 in favor of the model_selection module into which all the refactored classes and functions are moved. Also note that the interface of the new CV iterators are different from that of this module. This module will be removed in 0.20.\n",
      "  \"This module will be removed in 0.20.\", DeprecationWarning)\n"
     ]
    }
   ],
   "source": [
    "import pandas as pd\n",
    "import numpy as np\n",
    "from sklearn.linear_model import LogisticRegression, LinearRegression\n",
    "from sklearn.cross_validation import train_test_split\n",
    "from sklearn.feature_selection import VarianceThreshold\n",
    "from sklearn.feature_selection import RFE\n",
    "from sklearn.metrics import classification_report\n",
    "from sklearn.cross_validation import cross_val_score\n",
    "from sklearn.ensemble import ExtraTreesClassifier\n",
    "from sklearn.ensemble import RandomForestClassifier"
   ]
  },
  {
   "cell_type": "code",
   "execution_count": 49,
   "metadata": {
    "collapsed": false
   },
   "outputs": [
    {
     "data": {
      "text/plain": [
       "Index([u'bathrooms', u'bedrooms', u'building_id', u'created', u'description',\n",
       "       u'display_address', u'interest_level', u'latitude', u'listing_id',\n",
       "       u'longitude',\n",
       "       ...\n",
       "       u'elevator_laundry', u'incredible_views', u'real_wall_allowed',\n",
       "       u'post_war', u'high_rise', u'no_fee', u'parking_space',\n",
       "       u'renovated_apt', u'midrise', u'pet_upon_approval'],\n",
       "      dtype='object', length=296)"
      ]
     },
     "execution_count": 49,
     "metadata": {},
     "output_type": "execute_result"
    }
   ],
   "source": [
    "dataFrame = pd.read_csv('C:/Users/shekh/Desktop/rentallisting/extrapolated_trained_data_new_1.csv');\n",
    "df = pd.DataFrame(dataFrame);\n",
    "df.columns"
   ]
  },
  {
   "cell_type": "code",
   "execution_count": 3,
   "metadata": {
    "collapsed": true
   },
   "outputs": [],
   "source": [
    "df['interest_level'] = df['interest_level'].astype('category')\n",
    "df['interest_level_codes'] = df['interest_level'].cat.codes\n",
    "\n",
    "df['display_address'] = df['display_address'].astype('category')\n",
    "df['display_address_codes'] = df['display_address'].cat.codes\n",
    "\n",
    "df['latitude'] = df['latitude'].astype('category')\n",
    "df['latitude_codes'] = df['latitude'].cat.codes\n",
    "\n",
    "df['longitude'] = df['longitude'].astype('category')\n",
    "df['longitude_codes'] = df['longitude'].cat.codes"
   ]
  },
  {
   "cell_type": "code",
   "execution_count": 4,
   "metadata": {
    "collapsed": false
   },
   "outputs": [
    {
     "data": {
      "text/plain": [
       "(45342, 289)"
      ]
     },
     "execution_count": 4,
     "metadata": {},
     "output_type": "execute_result"
    }
   ],
   "source": [
    "featuresDF = df.drop('interest_level', axis=1)\n",
    "featuresDF = featuresDF.drop('building_id', axis=1)\n",
    "featuresDF = featuresDF.drop('created', axis=1)\n",
    "featuresDF = featuresDF.drop('description', axis=1)\n",
    "featuresDF = featuresDF.drop('display_address', axis=1)\n",
    "featuresDF = featuresDF.drop('latitude', axis=1)\n",
    "featuresDF = featuresDF.drop('longitude', axis=1)\n",
    "featuresDF = featuresDF.drop('manager_id', axis=1)\n",
    "featuresDF = featuresDF.drop('photos', axis=1)\n",
    "featuresDF = featuresDF.drop('street_address', axis=1)\n",
    "featuresDF = featuresDF.drop('listing_id', axis=1)\n",
    "\n",
    "featuresDF.shape"
   ]
  },
  {
   "cell_type": "code",
   "execution_count": 5,
   "metadata": {
    "collapsed": false
   },
   "outputs": [],
   "source": [
    "#2. Using Variance Threshold for feature selection\n",
    "selector = VarianceThreshold(threshold=(.9 * (1 - .9)));\n",
    "temp = selector.fit_transform(featuresDF);"
   ]
  },
  {
   "cell_type": "code",
   "execution_count": 6,
   "metadata": {
    "collapsed": false
   },
   "outputs": [
    {
     "data": {
      "text/plain": [
       "numpy.ndarray"
      ]
     },
     "execution_count": 6,
     "metadata": {},
     "output_type": "execute_result"
    }
   ],
   "source": [
    "type(temp)"
   ]
  },
  {
   "cell_type": "code",
   "execution_count": 7,
   "metadata": {
    "collapsed": false
   },
   "outputs": [
    {
     "data": {
      "text/plain": [
       "(45342L, 22L)"
      ]
     },
     "execution_count": 7,
     "metadata": {},
     "output_type": "execute_result"
    }
   ],
   "source": [
    "temp.shape"
   ]
  },
  {
   "cell_type": "code",
   "execution_count": 8,
   "metadata": {
    "collapsed": false
   },
   "outputs": [],
   "source": [
    "selected_features = selector.get_support(indices=True)"
   ]
  },
  {
   "cell_type": "code",
   "execution_count": 9,
   "metadata": {
    "collapsed": false
   },
   "outputs": [],
   "source": [
    "reducedFeatureDF = featuresDF.iloc[:,selected_features]"
   ]
  },
  {
   "cell_type": "code",
   "execution_count": 10,
   "metadata": {
    "collapsed": false
   },
   "outputs": [
    {
     "data": {
      "text/plain": [
       "Index([u'bathrooms', u'bedrooms', u'no_of_photos', u'price', u'dish_washer',\n",
       "       u'fitness_center', u'hardwood_floors', u'dining_room', u'elevator',\n",
       "       u'doorman', u'dog_allowed', u'roof_deck', u'laundry', u'pre_war',\n",
       "       u'cat_allowed', u'outdoor_space', u'laundry_bldg', u'no_fee',\n",
       "       u'interest_level_codes', u'display_address_codes', u'latitude_codes',\n",
       "       u'longitude_codes'],\n",
       "      dtype='object')"
      ]
     },
     "execution_count": 10,
     "metadata": {},
     "output_type": "execute_result"
    }
   ],
   "source": [
    "reducedFeatureDF.columns"
   ]
  },
  {
   "cell_type": "code",
   "execution_count": 11,
   "metadata": {
    "collapsed": true
   },
   "outputs": [],
   "source": [
    "y_label = reducedFeatureDF['interest_level_codes']"
   ]
  },
  {
   "cell_type": "code",
   "execution_count": 12,
   "metadata": {
    "collapsed": false
   },
   "outputs": [
    {
     "name": "stdout",
     "output_type": "stream",
     "text": [
      "31739\n",
      "13603\n",
      "31739\n",
      "13603\n"
     ]
    }
   ],
   "source": [
    "X_train, X_test, y_train, y_test = train_test_split(reducedFeatureDF,y_label, test_size=0.30,random_state=99,stratify=y_label)\n",
    "# train, validate, test = np.split(reducedFeatureDF.sample(frac=1), [int(.7*len(df)), int(.85*len(df))])\n",
    "# print len(train);\n",
    "# print len(validate);\n",
    "# print len(test);\n",
    "# X_train = train.drop('interest_level_codes', axis=1)\n",
    "# X_validate = validate.drop('interest_level_codes', axis=1)\n",
    "# X_test = test.drop('interest_level_codes', axis=1)\n",
    "\n",
    "# y_train = train['interest_level_codes']\n",
    "# y_validate = validate['interest_level_codes']\n",
    "# y_test = test['interest_level_codes']\n",
    "\n",
    "print len(X_train)\n",
    "# print len(X_validate)\n",
    "print len(X_test)\n",
    "print len(y_train)\n",
    "# print len(y_validate)\n",
    "print len(y_test)"
   ]
  },
  {
   "cell_type": "code",
   "execution_count": 13,
   "metadata": {
    "collapsed": false
   },
   "outputs": [
    {
     "name": "stdout",
     "output_type": "stream",
     "text": [
      "1    22551\n",
      "2     6966\n",
      "0     2222\n",
      "Name: interest_level_codes, dtype: int64\n",
      "1    9665\n",
      "2    2986\n",
      "0     952\n",
      "Name: interest_level_codes, dtype: int64\n"
     ]
    }
   ],
   "source": [
    "print y_train.value_counts();\n",
    "# print y_validate.value_counts();\n",
    "print y_test.value_counts();"
   ]
  },
  {
   "cell_type": "code",
   "execution_count": 14,
   "metadata": {
    "collapsed": false
   },
   "outputs": [],
   "source": [
    "# def generate_rf(X_train, y_train, X_validate, y_validate):\n",
    "#     rf = RandomForestClassifier(n_estimators=50, min_samples_leaf=10)\n",
    "#     rf.fit(X_train, y_train)\n",
    "#     print \"rf score \", rf.score(X_validate, y_validate)\n",
    "#     return rf\n",
    "\n",
    "# def combine_rfs(rf_a, rf_b):\n",
    "#     rf_a.estimators_ += rf_b.estimators_\n",
    "#     rf_a.n_estimators = len(rf_a.estimators_)\n",
    "#     return rf_a"
   ]
  },
  {
   "cell_type": "code",
   "execution_count": 15,
   "metadata": {
    "collapsed": false
   },
   "outputs": [],
   "source": [
    "# rfs = [generate_rf(X_train, y_train, X_validate, y_validate) for i in xrange(10)]\n",
    "# rf_combined = reduce(combine_rfs, rfs)\n",
    "\n",
    "# print \"rf combined score\", rf_combined.score(X_validate, y_validate)"
   ]
  },
  {
   "cell_type": "code",
   "execution_count": 16,
   "metadata": {
    "collapsed": true
   },
   "outputs": [],
   "source": [
    "target_names = ['0', '1', '2'];"
   ]
  },
  {
   "cell_type": "code",
   "execution_count": 17,
   "metadata": {
    "collapsed": false
   },
   "outputs": [],
   "source": [
    "# predicted_labels_validation = rf_combined.predict(X_validate)"
   ]
  },
  {
   "cell_type": "code",
   "execution_count": 18,
   "metadata": {
    "collapsed": false
   },
   "outputs": [],
   "source": [
    "# print(classification_report(y_validate, predicted_labels_validation, target_names=target_names))"
   ]
  },
  {
   "cell_type": "code",
   "execution_count": 19,
   "metadata": {
    "collapsed": true
   },
   "outputs": [],
   "source": [
    "def generate_rf(X_train, y_train, X_test, y_test):\n",
    "    rf = RandomForestClassifier(n_estimators=50, min_samples_leaf=10)\n",
    "    rf.fit(X_train, y_train)\n",
    "    print \"rf score \", rf.score(X_test, y_test)\n",
    "    return rf\n",
    "\n",
    "def combine_rfs(rf_a, rf_b):\n",
    "    rf_a.estimators_ += rf_b.estimators_\n",
    "    rf_a.n_estimators = len(rf_a.estimators_)\n",
    "    return rf_a"
   ]
  },
  {
   "cell_type": "code",
   "execution_count": 20,
   "metadata": {
    "collapsed": false
   },
   "outputs": [
    {
     "name": "stdout",
     "output_type": "stream",
     "text": [
      "rf score  0.999191354848\n",
      "rf score  0.999117841653\n",
      "rf score  0.999117841653\n",
      "rf score  0.998382709696\n",
      "rf score  0.999191354848\n",
      "rf score  0.999117841653\n",
      "rf score  0.998897302066\n",
      "rf score  0.999044328457\n",
      "rf score  0.999117841653\n",
      "rf score  0.998088656914\n",
      "rf combined score 0.999411894435\n"
     ]
    }
   ],
   "source": [
    "rfs = [generate_rf(X_train, y_train, X_test, y_test) for i in xrange(10)]\n",
    "rf_combined = reduce(combine_rfs, rfs)\n",
    "\n",
    "print \"rf combined score\", rf_combined.score(X_test, y_test)"
   ]
  },
  {
   "cell_type": "code",
   "execution_count": 21,
   "metadata": {
    "collapsed": false
   },
   "outputs": [],
   "source": [
    "predicted_labels_test = rf_combined.predict(X_test)"
   ]
  },
  {
   "cell_type": "code",
   "execution_count": 22,
   "metadata": {
    "collapsed": false
   },
   "outputs": [
    {
     "name": "stdout",
     "output_type": "stream",
     "text": [
      "             precision    recall  f1-score   support\n",
      "\n",
      "          0       1.00      0.99      1.00       952\n",
      "          1       1.00      1.00      1.00      9665\n",
      "          2       1.00      1.00      1.00      2986\n",
      "\n",
      "avg / total       1.00      1.00      1.00     13603\n",
      "\n"
     ]
    }
   ],
   "source": [
    "print(classification_report(y_test, predicted_labels_test, target_names=target_names))"
   ]
  },
  {
   "cell_type": "code",
   "execution_count": 23,
   "metadata": {
    "collapsed": false
   },
   "outputs": [],
   "source": [
    "testDF = pd.read_csv('C:/Users/shekh/Desktop/rentallisting/extrapolated_test_data.csv');"
   ]
  },
  {
   "cell_type": "code",
   "execution_count": 24,
   "metadata": {
    "collapsed": true
   },
   "outputs": [],
   "source": [
    "testDF['display_address'] = testDF['display_address'].astype('category')\n",
    "testDF['display_address_codes'] = testDF['display_address'].cat.codes\n",
    "\n",
    "testDF['latitude'] = testDF['latitude'].astype('category')\n",
    "testDF['latitude_codes'] = testDF['latitude'].cat.codes\n",
    "\n",
    "testDF['longitude'] = testDF['longitude'].astype('category')\n",
    "testDF['longitude_codes'] = testDF['longitude'].cat.codes\n",
    "\n",
    "testDF = testDF.drop('Unnamed: 412', axis=1);"
   ]
  },
  {
   "cell_type": "code",
   "execution_count": 25,
   "metadata": {
    "collapsed": false
   },
   "outputs": [
    {
     "data": {
      "text/html": [
       "<div>\n",
       "<table border=\"1\" class=\"dataframe\">\n",
       "  <thead>\n",
       "    <tr style=\"text-align: right;\">\n",
       "      <th></th>\n",
       "      <th>bathrooms</th>\n",
       "      <th>bedrooms</th>\n",
       "      <th>building_id</th>\n",
       "      <th>created</th>\n",
       "      <th>description</th>\n",
       "      <th>display_address</th>\n",
       "      <th>latitude</th>\n",
       "      <th>listing_id</th>\n",
       "      <th>longitude</th>\n",
       "      <th>manager_id</th>\n",
       "      <th>...</th>\n",
       "      <th>semi_floor_through</th>\n",
       "      <th>elevator_laundry</th>\n",
       "      <th>post_war</th>\n",
       "      <th>midrise</th>\n",
       "      <th>mail_room</th>\n",
       "      <th>private_roof_deck</th>\n",
       "      <th>marble_kitchen_great_city_views</th>\n",
       "      <th>display_address_codes</th>\n",
       "      <th>latitude_codes</th>\n",
       "      <th>longitude_codes</th>\n",
       "    </tr>\n",
       "  </thead>\n",
       "  <tbody>\n",
       "    <tr>\n",
       "      <th>0</th>\n",
       "      <td>1.0</td>\n",
       "      <td>1</td>\n",
       "      <td>79780be1514f645d7e6be99a3de696c5</td>\n",
       "      <td>6/11/2016 5:29</td>\n",
       "      <td>Large with awesome terrace--accessible via bed...</td>\n",
       "      <td>Suffolk Street</td>\n",
       "      <td>40.7185</td>\n",
       "      <td>7142618</td>\n",
       "      <td>-73.9865</td>\n",
       "      <td>b1b1852c416d78d7765d746cb1b8921f</td>\n",
       "      <td>...</td>\n",
       "      <td>0</td>\n",
       "      <td>0</td>\n",
       "      <td>0</td>\n",
       "      <td>0</td>\n",
       "      <td>0</td>\n",
       "      <td>0</td>\n",
       "      <td>0</td>\n",
       "      <td>6524</td>\n",
       "      <td>915</td>\n",
       "      <td>419</td>\n",
       "    </tr>\n",
       "    <tr>\n",
       "      <th>1</th>\n",
       "      <td>1.0</td>\n",
       "      <td>2</td>\n",
       "      <td>0</td>\n",
       "      <td>6/24/2016 6:36</td>\n",
       "      <td>Prime Soho - between Bleecker and Houston - Ne...</td>\n",
       "      <td>Thompson Street</td>\n",
       "      <td>40.7278</td>\n",
       "      <td>7210040</td>\n",
       "      <td>-74.0000</td>\n",
       "      <td>d0b5648017832b2427eeb9956d966a14</td>\n",
       "      <td>...</td>\n",
       "      <td>0</td>\n",
       "      <td>0</td>\n",
       "      <td>0</td>\n",
       "      <td>0</td>\n",
       "      <td>0</td>\n",
       "      <td>0</td>\n",
       "      <td>0</td>\n",
       "      <td>6576</td>\n",
       "      <td>1008</td>\n",
       "      <td>284</td>\n",
       "    </tr>\n",
       "    <tr>\n",
       "      <th>2</th>\n",
       "      <td>1.0</td>\n",
       "      <td>1</td>\n",
       "      <td>3dbbb69fd52e0d25131aa1cd459c87eb</td>\n",
       "      <td>6/3/2016 4:29</td>\n",
       "      <td>New York chic has reached a new level ...</td>\n",
       "      <td>101 East 10th Street</td>\n",
       "      <td>40.7306</td>\n",
       "      <td>7103890</td>\n",
       "      <td>-73.9890</td>\n",
       "      <td>9ca6f3baa475c37a3b3521a394d65467</td>\n",
       "      <td>...</td>\n",
       "      <td>0</td>\n",
       "      <td>0</td>\n",
       "      <td>0</td>\n",
       "      <td>0</td>\n",
       "      <td>0</td>\n",
       "      <td>0</td>\n",
       "      <td>0</td>\n",
       "      <td>412</td>\n",
       "      <td>1036</td>\n",
       "      <td>394</td>\n",
       "    </tr>\n",
       "    <tr>\n",
       "      <th>3</th>\n",
       "      <td>2.0</td>\n",
       "      <td>2</td>\n",
       "      <td>6134e7c4dd1a98d9aee36623c9872b49</td>\n",
       "      <td>4/12/2016 5:24</td>\n",
       "      <td>~Take a stroll in Central Park, enjoy the ente...</td>\n",
       "      <td>Midtown West, 8th Ave</td>\n",
       "      <td>40.7650</td>\n",
       "      <td>6860601</td>\n",
       "      <td>-73.9845</td>\n",
       "      <td>b5eda0eb31b042ce2124fd9e9fcfce2f</td>\n",
       "      <td>...</td>\n",
       "      <td>0</td>\n",
       "      <td>0</td>\n",
       "      <td>0</td>\n",
       "      <td>0</td>\n",
       "      <td>0</td>\n",
       "      <td>0</td>\n",
       "      <td>0</td>\n",
       "      <td>5996</td>\n",
       "      <td>1379</td>\n",
       "      <td>439</td>\n",
       "    </tr>\n",
       "    <tr>\n",
       "      <th>4</th>\n",
       "      <td>3.0</td>\n",
       "      <td>3</td>\n",
       "      <td>9d1a51a5df4f0b5650b46da8e5ad6910</td>\n",
       "      <td>4/7/2016 6:14</td>\n",
       "      <td>In a boutique prewar building with 24 hour doo...</td>\n",
       "      <td>Wea</td>\n",
       "      <td>40.7901</td>\n",
       "      <td>6840081</td>\n",
       "      <td>-73.9774</td>\n",
       "      <td>964dc31a872efa33fee9af11f62e843c</td>\n",
       "      <td>...</td>\n",
       "      <td>0</td>\n",
       "      <td>0</td>\n",
       "      <td>0</td>\n",
       "      <td>0</td>\n",
       "      <td>0</td>\n",
       "      <td>0</td>\n",
       "      <td>0</td>\n",
       "      <td>7508</td>\n",
       "      <td>1629</td>\n",
       "      <td>510</td>\n",
       "    </tr>\n",
       "  </tbody>\n",
       "</table>\n",
       "<p>5 rows × 415 columns</p>\n",
       "</div>"
      ],
      "text/plain": [
       "   bathrooms  bedrooms                       building_id         created  \\\n",
       "0        1.0         1  79780be1514f645d7e6be99a3de696c5  6/11/2016 5:29   \n",
       "1        1.0         2                                 0  6/24/2016 6:36   \n",
       "2        1.0         1  3dbbb69fd52e0d25131aa1cd459c87eb   6/3/2016 4:29   \n",
       "3        2.0         2  6134e7c4dd1a98d9aee36623c9872b49  4/12/2016 5:24   \n",
       "4        3.0         3  9d1a51a5df4f0b5650b46da8e5ad6910   4/7/2016 6:14   \n",
       "\n",
       "                                         description        display_address  \\\n",
       "0  Large with awesome terrace--accessible via bed...         Suffolk Street   \n",
       "1  Prime Soho - between Bleecker and Houston - Ne...        Thompson Street   \n",
       "2          New York chic has reached a new level ...   101 East 10th Street   \n",
       "3  ~Take a stroll in Central Park, enjoy the ente...  Midtown West, 8th Ave   \n",
       "4  In a boutique prewar building with 24 hour doo...                    Wea   \n",
       "\n",
       "  latitude  listing_id longitude                        manager_id  \\\n",
       "0  40.7185     7142618  -73.9865  b1b1852c416d78d7765d746cb1b8921f   \n",
       "1  40.7278     7210040  -74.0000  d0b5648017832b2427eeb9956d966a14   \n",
       "2  40.7306     7103890  -73.9890  9ca6f3baa475c37a3b3521a394d65467   \n",
       "3  40.7650     6860601  -73.9845  b5eda0eb31b042ce2124fd9e9fcfce2f   \n",
       "4  40.7901     6840081  -73.9774  964dc31a872efa33fee9af11f62e843c   \n",
       "\n",
       "        ...         semi_floor_through elevator_laundry  post_war midrise  \\\n",
       "0       ...                          0                0         0       0   \n",
       "1       ...                          0                0         0       0   \n",
       "2       ...                          0                0         0       0   \n",
       "3       ...                          0                0         0       0   \n",
       "4       ...                          0                0         0       0   \n",
       "\n",
       "   mail_room  private_roof_deck  marble_kitchen_great_city_views  \\\n",
       "0          0                  0                                0   \n",
       "1          0                  0                                0   \n",
       "2          0                  0                                0   \n",
       "3          0                  0                                0   \n",
       "4          0                  0                                0   \n",
       "\n",
       "   display_address_codes  latitude_codes  longitude_codes  \n",
       "0                   6524             915              419  \n",
       "1                   6576            1008              284  \n",
       "2                    412            1036              394  \n",
       "3                   5996            1379              439  \n",
       "4                   7508            1629              510  \n",
       "\n",
       "[5 rows x 415 columns]"
      ]
     },
     "execution_count": 25,
     "metadata": {},
     "output_type": "execute_result"
    }
   ],
   "source": [
    "testDF.head(5)"
   ]
  },
  {
   "cell_type": "code",
   "execution_count": 26,
   "metadata": {
    "collapsed": false
   },
   "outputs": [
    {
     "data": {
      "text/plain": [
       "(68406, 405)"
      ]
     },
     "execution_count": 26,
     "metadata": {},
     "output_type": "execute_result"
    }
   ],
   "source": [
    "featuresTestDF = testDF.drop('building_id', axis=1)\n",
    "featuresTestDF = featuresTestDF.drop('created', axis=1)\n",
    "featuresTestDF = featuresTestDF.drop('description', axis=1)\n",
    "featuresTestDF = featuresTestDF.drop('display_address', axis=1)\n",
    "featuresTestDF = featuresTestDF.drop('latitude', axis=1)\n",
    "featuresTestDF = featuresTestDF.drop('longitude', axis=1)\n",
    "featuresTestDF = featuresTestDF.drop('manager_id', axis=1)\n",
    "featuresTestDF = featuresTestDF.drop('photos', axis=1)\n",
    "featuresTestDF = featuresTestDF.drop('street_address', axis=1)\n",
    "featuresTestDF = featuresTestDF.drop('listing_id', axis=1)\n",
    "\n",
    "featuresTestDF.shape"
   ]
  },
  {
   "cell_type": "code",
   "execution_count": 35,
   "metadata": {
    "collapsed": false
   },
   "outputs": [],
   "source": [
    "reducedTestFeatureDF = featuresTestDF.iloc[:,selected_features]"
   ]
  },
  {
   "cell_type": "code",
   "execution_count": 37,
   "metadata": {
    "collapsed": false
   },
   "outputs": [
    {
     "data": {
      "text/plain": [
       "Index([u'bathrooms', u'bedrooms', u'no_of_photos', u'price',\n",
       "       u'barclays_center', u'balconey', u'corner', u'lofty_layout',\n",
       "       u'gym_bldg', u'high_ceilings', u'full_time_doorman',\n",
       "       u'dishwasherhardwood_floors_microwaverenovated', u'green_bldg',\n",
       "       u'skylight', u'on_site_parking_garage',\n",
       "       u'ss_appliances_d_w_m_w_recessed_lighting_hardwood_floors_high_ceilings_marble_bath',\n",
       "       u'residents_lounge', u'dish_washer_two_heating_a_c_units',\n",
       "       u'three_huge_windows_facing_east_with_unobstructed_views_over_fort_greene',\n",
       "       u'southern_exposure', u'laundry_room_on_every_other_floor',\n",
       "       u'backyard'],\n",
       "      dtype='object')"
      ]
     },
     "execution_count": 37,
     "metadata": {},
     "output_type": "execute_result"
    }
   ],
   "source": [
    "reducedTestFeatureDF.columns"
   ]
  },
  {
   "cell_type": "code",
   "execution_count": 38,
   "metadata": {
    "collapsed": false
   },
   "outputs": [
    {
     "data": {
      "text/plain": [
       "(68406, 22)"
      ]
     },
     "execution_count": 38,
     "metadata": {},
     "output_type": "execute_result"
    }
   ],
   "source": [
    "reducedTestFeatureDF.shape"
   ]
  },
  {
   "cell_type": "code",
   "execution_count": 40,
   "metadata": {
    "collapsed": false
   },
   "outputs": [],
   "source": [
    "output = rf_combined.predict_proba(reducedTestFeatureDF)"
   ]
  },
  {
   "cell_type": "code",
   "execution_count": 41,
   "metadata": {
    "collapsed": false
   },
   "outputs": [
    {
     "data": {
      "text/plain": [
       "numpy.ndarray"
      ]
     },
     "execution_count": 41,
     "metadata": {},
     "output_type": "execute_result"
    }
   ],
   "source": [
    "type(output)"
   ]
  },
  {
   "cell_type": "code",
   "execution_count": 42,
   "metadata": {
    "collapsed": false
   },
   "outputs": [
    {
     "data": {
      "text/plain": [
       "array([ 0.66866144,  0.29539538,  0.03594318])"
      ]
     },
     "execution_count": 42,
     "metadata": {},
     "output_type": "execute_result"
    }
   ],
   "source": [
    "output[1]"
   ]
  },
  {
   "cell_type": "code",
   "execution_count": 43,
   "metadata": {
    "collapsed": false
   },
   "outputs": [
    {
     "data": {
      "text/plain": [
       "array([0, 1, 2], dtype=int8)"
      ]
     },
     "execution_count": 43,
     "metadata": {},
     "output_type": "execute_result"
    }
   ],
   "source": [
    "rf_combined.classes_"
   ]
  },
  {
   "cell_type": "code",
   "execution_count": 46,
   "metadata": {
    "collapsed": false
   },
   "outputs": [],
   "source": [
    "outputDF = pd.DataFrame(output)"
   ]
  },
  {
   "cell_type": "code",
   "execution_count": 48,
   "metadata": {
    "collapsed": false
   },
   "outputs": [],
   "source": [
    "outputDF.to_csv('C:/Users/shekh/Desktop/rentallisting/output/random_forest_output_1.csv')"
   ]
  }
 ],
 "metadata": {
  "kernelspec": {
   "display_name": "Python 2",
   "language": "python",
   "name": "python2"
  },
  "language_info": {
   "codemirror_mode": {
    "name": "ipython",
    "version": 2
   },
   "file_extension": ".py",
   "mimetype": "text/x-python",
   "name": "python",
   "nbconvert_exporter": "python",
   "pygments_lexer": "ipython2",
   "version": "2.7.13"
  }
 },
 "nbformat": 4,
 "nbformat_minor": 2
}
