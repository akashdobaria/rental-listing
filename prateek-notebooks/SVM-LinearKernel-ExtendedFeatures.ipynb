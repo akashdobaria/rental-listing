{
 "cells": [
  {
   "cell_type": "code",
   "execution_count": 1,
   "metadata": {
    "collapsed": false
   },
   "outputs": [
    {
     "name": "stderr",
     "output_type": "stream",
     "text": [
      "C:\\Users\\shekh\\Anaconda2\\lib\\site-packages\\sklearn\\cross_validation.py:44: DeprecationWarning: This module was deprecated in version 0.18 in favor of the model_selection module into which all the refactored classes and functions are moved. Also note that the interface of the new CV iterators are different from that of this module. This module will be removed in 0.20.\n",
      "  \"This module will be removed in 0.20.\", DeprecationWarning)\n"
     ]
    }
   ],
   "source": [
    "import pandas as pd\n",
    "from sklearn import preprocessing\n",
    "from sklearn.cross_validation import train_test_split\n",
    "from sklearn import svm\n",
    "from sklearn.metrics import precision_recall_fscore_support as prfs\n",
    "from sklearn.metrics import classification_report\n",
    "from sklearn.model_selection import StratifiedShuffleSplit\n",
    "from sklearn.cross_validation import cross_val_score"
   ]
  },
  {
   "cell_type": "code",
   "execution_count": 2,
   "metadata": {
    "collapsed": false
   },
   "outputs": [],
   "source": [
    "df = pd.read_csv('extrapolated_trained_data.csv')"
   ]
  },
  {
   "cell_type": "code",
   "execution_count": 3,
   "metadata": {
    "collapsed": false
   },
   "outputs": [],
   "source": [
    "df.head(1);"
   ]
  },
  {
   "cell_type": "code",
   "execution_count": 4,
   "metadata": {
    "collapsed": false
   },
   "outputs": [],
   "source": [
    "df['interest_level'] = df['interest_level'].astype('category')\n",
    "df['interest_level_codes'] = df['interest_level'].cat.codes\n",
    "\n",
    "df['display_address'] = df['display_address'].astype('category')\n",
    "df['display_address_codes'] = df['display_address'].cat.codes\n",
    "\n",
    "df['latitude'] = df['latitude'].astype('category')\n",
    "df['latitude_codes'] = df['latitude'].cat.codes\n",
    "\n",
    "df['longitude'] = df['longitude'].astype('category')\n",
    "df['longitude_codes'] = df['longitude'].cat.codes"
   ]
  },
  {
   "cell_type": "code",
   "execution_count": 5,
   "metadata": {
    "collapsed": false
   },
   "outputs": [],
   "source": [
    "featuresDF = df.drop('interest_level', axis=1)\n",
    "featuresDF = featuresDF.drop('building_id', axis=1)\n",
    "featuresDF = featuresDF.drop('created', axis=1)\n",
    "featuresDF = featuresDF.drop('description', axis=1)\n",
    "featuresDF = featuresDF.drop('display_address', axis=1)\n",
    "featuresDF = featuresDF.drop('latitude', axis=1)\n",
    "featuresDF = featuresDF.drop('longitude', axis=1)\n",
    "featuresDF = featuresDF.drop('manager_id', axis=1)\n",
    "featuresDF = featuresDF.drop('photos', axis=1)\n",
    "featuresDF = featuresDF.drop('street_address', axis=1)\n",
    "featuresDF = featuresDF.drop('listing_id', axis=1)\n",
    "featuresDF = featuresDF.drop('Unnamed: 328', axis=1)\n",
    "\n",
    "#df[['interest_level','interest_level_codes']].head(2)\n",
    "#print(df['interest_level_codes'].hist())\n",
    "#df.to_csv('generated-data-with-codes.csv',sep=',', encoding='utf-8')\n",
    "#df['interest_level_codes'].value_counts()\n",
    "#df['display_address_codes'].value_counts()"
   ]
  },
  {
   "cell_type": "code",
   "execution_count": 6,
   "metadata": {
    "collapsed": false
   },
   "outputs": [
    {
     "name": "stdout",
     "output_type": "stream",
     "text": [
      "Index([u'bathrooms', u'bedrooms', u'price', u'diplomats ok', u'amazing deal!',\n",
      "       u'free month & no-fee', u'common backyard', u'pre-war small dogs',\n",
      "       u'part-time doorman', u'business center',\n",
      "       ...\n",
      "       u'fire place', u'midrise', u'union square',\n",
      "       u'and stainless steel appliances with a dishwasher well maintained hardwood floors add to the warmth and modern feel of the space.',\n",
      "       u'laundry on floor', u'cinema room', u'interest_level_codes',\n",
      "       u'display_address_codes', u'latitude_codes', u'longitude_codes'],\n",
      "      dtype='object', length=321)\n",
      "Index([u'bathrooms', u'bedrooms', u'building_id', u'created', u'description',\n",
      "       u'display_address', u'interest_level', u'latitude', u'listing_id',\n",
      "       u'longitude',\n",
      "       ...\n",
      "       u'midrise', u'union square',\n",
      "       u'and stainless steel appliances with a dishwasher well maintained hardwood floors add to the warmth and modern feel of the space.',\n",
      "       u'laundry on floor', u'cinema room', u'Unnamed: 328',\n",
      "       u'interest_level_codes', u'display_address_codes', u'latitude_codes',\n",
      "       u'longitude_codes'],\n",
      "      dtype='object', length=333)\n"
     ]
    }
   ],
   "source": [
    "print featuresDF.columns;\n",
    "print df.columns"
   ]
  },
  {
   "cell_type": "code",
   "execution_count": 7,
   "metadata": {
    "collapsed": false
   },
   "outputs": [
    {
     "data": {
      "text/plain": [
       "1    32216\n",
       "2     9952\n",
       "0     3174\n",
       "Name: interest_level_codes, dtype: int64"
      ]
     },
     "execution_count": 7,
     "metadata": {},
     "output_type": "execute_result"
    }
   ],
   "source": [
    "y_label = featuresDF['interest_level_codes']\n",
    "y_label.value_counts()\n",
    "#feature_matrix_df = df[['bathrooms','bathrooms','price','display_address_codes','longitude_codes','latitude_codes','features_codes']];"
   ]
  },
  {
   "cell_type": "code",
   "execution_count": 8,
   "metadata": {
    "collapsed": false
   },
   "outputs": [
    {
     "data": {
      "text/plain": [
       "Index([u'bathrooms', u'bedrooms', u'price', u'diplomats ok', u'amazing deal!',\n",
       "       u'free month & no-fee', u'common backyard', u'pre-war small dogs',\n",
       "       u'part-time doorman', u'business center',\n",
       "       ...\n",
       "       u'fire place', u'midrise', u'union square',\n",
       "       u'and stainless steel appliances with a dishwasher well maintained hardwood floors add to the warmth and modern feel of the space.',\n",
       "       u'laundry on floor', u'cinema room', u'interest_level_codes',\n",
       "       u'display_address_codes', u'latitude_codes', u'longitude_codes'],\n",
       "      dtype='object', length=321)"
      ]
     },
     "execution_count": 8,
     "metadata": {},
     "output_type": "execute_result"
    }
   ],
   "source": [
    "featuresDF.head(2);\n",
    "featuresDF.columns"
   ]
  },
  {
   "cell_type": "code",
   "execution_count": 9,
   "metadata": {
    "collapsed": false
   },
   "outputs": [
    {
     "name": "stdout",
     "output_type": "stream",
     "text": [
      "34006\n",
      "11336\n",
      "34006\n",
      "11336\n"
     ]
    }
   ],
   "source": [
    "target_names = ['0', '1', '2'];\n",
    "X_train, X_test, y_train, y_test = train_test_split(featuresDF,y_label, test_size=0.25,random_state=15,stratify=y_label)\n",
    "print len(X_train)\n",
    "print len(X_test)\n",
    "print len(y_train)\n",
    "print len(y_test)"
   ]
  },
  {
   "cell_type": "code",
   "execution_count": 10,
   "metadata": {
    "collapsed": false
   },
   "outputs": [],
   "source": [
    "svmLinearKernelClassifier = svm.LinearSVC();"
   ]
  },
  {
   "cell_type": "code",
   "execution_count": 11,
   "metadata": {
    "collapsed": false
   },
   "outputs": [],
   "source": [
    "svmLinearKernelClassifier.fit(X_train, y_train);"
   ]
  },
  {
   "cell_type": "code",
   "execution_count": 12,
   "metadata": {
    "collapsed": false
   },
   "outputs": [],
   "source": [
    "predicted_labels = svmLinearKernelClassifier.predict(X_test)"
   ]
  },
  {
   "cell_type": "code",
   "execution_count": 13,
   "metadata": {
    "collapsed": false
   },
   "outputs": [],
   "source": [
    "actual_class = y_test.tolist()\n",
    "predicted_class = predicted_labels.tolist()"
   ]
  },
  {
   "cell_type": "code",
   "execution_count": 14,
   "metadata": {
    "collapsed": true
   },
   "outputs": [],
   "source": [
    "target_names = ['0', '1', '2']"
   ]
  },
  {
   "cell_type": "code",
   "execution_count": 15,
   "metadata": {
    "collapsed": false
   },
   "outputs": [
    {
     "name": "stdout",
     "output_type": "stream",
     "text": [
      "             precision    recall  f1-score   support\n",
      "\n",
      "          0       0.30      0.04      0.07       794\n",
      "          1       0.72      0.99      0.83      8054\n",
      "          2       0.81      0.08      0.14      2488\n",
      "\n",
      "avg / total       0.71      0.72      0.63     11336\n",
      "\n"
     ]
    }
   ],
   "source": [
    "print(classification_report(actual_class, predicted_class, target_names=target_names))"
   ]
  },
  {
   "cell_type": "code",
   "execution_count": 16,
   "metadata": {
    "collapsed": false
   },
   "outputs": [],
   "source": [
    "#predicted_prob_labels = multinomialNBClassifier.predict_proba(X_test);"
   ]
  },
  {
   "cell_type": "code",
   "execution_count": 17,
   "metadata": {
    "collapsed": false
   },
   "outputs": [
    {
     "name": "stdout",
     "output_type": "stream",
     "text": [
      "0.720271700776\n"
     ]
    }
   ],
   "source": [
    "score = svmLinearKernelClassifier.score(X_test,actual_class);\n",
    "print score;"
   ]
  },
  {
   "cell_type": "code",
   "execution_count": 19,
   "metadata": {
    "collapsed": false
   },
   "outputs": [
    {
     "name": "stdout",
     "output_type": "stream",
     "text": [
      "[ 0.24933862  0.77469136  0.71289967  0.71466373  0.71085135  0.85002206\n",
      "  0.6982131   0.72512685  0.72225899  0.80255901]\n"
     ]
    }
   ],
   "source": [
    "cvScores = cross_val_score(svmLinearKernelClassifier, featuresDF, y_label, cv=10, scoring='f1_micro');\n",
    "print cvScores;"
   ]
  },
  {
   "cell_type": "code",
   "execution_count": null,
   "metadata": {
    "collapsed": false
   },
   "outputs": [],
   "source": [
    "#print len(predicted_prob_labels)\n",
    "#prob_labels_list = predicted_prob_labels.tolist()\n",
    "#print prob_labels_list"
   ]
  }
 ],
 "metadata": {
  "anaconda-cloud": {},
  "kernelspec": {
   "display_name": "Python 2",
   "language": "python",
   "name": "python2"
  },
  "language_info": {
   "codemirror_mode": {
    "name": "ipython",
    "version": 2
   },
   "file_extension": ".py",
   "mimetype": "text/x-python",
   "name": "python",
   "nbconvert_exporter": "python",
   "pygments_lexer": "ipython2",
   "version": "2.7.13"
  }
 },
 "nbformat": 4,
 "nbformat_minor": 2
}
