{
 "cells": [
  {
   "cell_type": "code",
   "execution_count": 2,
   "metadata": {
    "collapsed": false
   },
   "outputs": [
    {
     "name": "stderr",
     "output_type": "stream",
     "text": [
      "C:\\Users\\shekh\\Anaconda2\\lib\\site-packages\\sklearn\\cross_validation.py:44: DeprecationWarning: This module was deprecated in version 0.18 in favor of the model_selection module into which all the refactored classes and functions are moved. Also note that the interface of the new CV iterators are different from that of this module. This module will be removed in 0.20.\n",
      "  \"This module will be removed in 0.20.\", DeprecationWarning)\n"
     ]
    }
   ],
   "source": [
    "import pandas as pd\n",
    "from sklearn import preprocessing\n",
    "from sklearn.cross_validation import train_test_split\n",
    "from sklearn import svm\n",
    "from sklearn.metrics import precision_recall_fscore_support as prfs\n",
    "from sklearn.metrics import classification_report\n",
    "import sklearn\n",
    "import HTMLParser\n",
    "import re\n",
    "from nltk.stem.porter import PorterStemmer as porterStemmer\n",
    "from sklearn.feature_extraction.text import TfidfVectorizer\n",
    "from sklearn.ensemble import ExtraTreesClassifier\n",
    "from sklearn.ensemble import RandomForestClassifier\n",
    "from sklearn.metrics import precision_recall_fscore_support\n",
    "from sklearn.linear_model import LogisticRegression"
   ]
  },
  {
   "cell_type": "code",
   "execution_count": 3,
   "metadata": {
    "collapsed": true
   },
   "outputs": [],
   "source": [
    "def cleanTweet(originalTweet):\n",
    "    htmlParser = HTMLParser.HTMLParser()\n",
    "    \n",
    "    tweet = originalTweet;\n",
    "    # convert to lower case\n",
    "    tweet = tweet.lower()\n",
    "    #tweet = htmlParser.unescape(originalTweet);\n",
    "    #tweet = tweet.decode('windows-1252').encode('ascii', 'ignore')\n",
    "    #tweet = tweet.decode('windows-1252')\n",
    "    #tweet = tweet.decode(\"utf8\").encode('ascii', 'ignore')\n",
    "    #tweet = re.sub(r'[^\\x00-\\xFF]+', r'', tweet)\n",
    "    #tweet = re.sub(r'[^\\x00-\\x7F]+', r'', tweet)\n",
    "    #tweet = tweet.decode('utf-8').strip()\n",
    "    #tweet = tweet.decode('unicode_escape').encode('ascii','ignore')\n",
    "    #tweet = tweet.encode('ascii','ignore')\n",
    "    tweet = ''.join([i if ord(i) < 128 else ' ' for i in tweet])\n",
    "    \n",
    "    # remove URLs in tweet\n",
    "    tweet = re.sub(r'\\w+:\\/{2}[\\d\\w-]+(\\.[\\d\\w-]+)*(?:(?:\\/[^\\s/]*))*', '', tweet)\n",
    "\n",
    "    # remove strings starting with @ in tweet\n",
    "    tweet = re.sub(r'(\\s)@\\w+', r'', tweet)\n",
    "    tweet = re.sub(r'@\\w+', r'', tweet)\n",
    "    \n",
    "    # remove HTML tags from tweet\n",
    "    tweet = re.sub('<[^<]+?>', '', tweet)\n",
    "\n",
    "    # separates words joined with capital words.\n",
    "    # E.g. DisplayIsAweson to Display Is Awesom\n",
    "    #tweet = \" \".join(re.findall('[A-Z][^A-Z]*', tweet));\n",
    "\n",
    "    # remove exclamation and other unnecessary characters\n",
    "    tweet = re.sub(r'[<>!#@$:.,%\\?-]+', r'', tweet)\n",
    "\n",
    "    \n",
    "    \n",
    "    tweet = re.sub(r' a ', r' ', tweet)\n",
    "    tweet = re.sub(r' with ', r' ', tweet)\n",
    "    tweet = re.sub(r' is ', r' ', tweet)\n",
    "    tweet = re.sub(r' to ', r' ', tweet)\n",
    "    tweet = re.sub(r' the ', r' ', tweet)\n",
    "    tweet = re.sub(r' and ', r' ', tweet)\n",
    "    tweet = re.sub(r' of ', r' ', tweet)\n",
    "    tweet = re.sub(r' in ', r' ', tweet)\n",
    "    tweet = re.sub(r' for ', r' ', tweet)\n",
    "    tweet = re.sub(r' all ', r' ', tweet)\n",
    "    tweet = re.sub(r' it ', r' ', tweet)\n",
    "    tweet = re.sub(r' that ', r' ', tweet)\n",
    "    tweet = re.sub(r' for ', r' ', tweet)\n",
    "    tweet = re.sub(r' be ', ' ', tweet)\n",
    "    tweet = re.sub(r' your ', r' ', tweet)\n",
    "    tweet = re.sub(r' our ', r' ', tweet)\n",
    "    tweet = re.sub(r' are ', r' ', tweet)\n",
    "    tweet = re.sub(r' by ', r' ', tweet)\n",
    "    tweet = re.sub(r' this ', r' ', tweet)\n",
    "    tweet = re.sub(r' thi ', r' ', tweet)\n",
    "    tweet = re.sub(r' from ', r' ', tweet)\n",
    "    tweet = re.sub(r' or ', r' ', tweet)\n",
    "    tweet = re.sub(r' website_redact ', r' ', tweet)\n",
    "    tweet = re.sub(r' at ', r' ', tweet)\n",
    "    tweet = re.sub(r' on ', r' ', tweet)\n",
    "    tweet = re.sub(r' href= ', r' ', tweet)\n",
    "    tweet = re.sub(r'\\btarget=_blank\\b', r' ', tweet)\n",
    "    tweet = re.sub(r' also ', r' ', tweet)\n",
    "    tweet = re.sub(r' can ', r' ', tweet)\n",
    "    tweet = re.sub(r' call/text ', r' ', tweet)\n",
    "    tweet = re.sub(r' email ', r' ', tweet)\n",
    "    tweet = re.sub(r' viewingcontact ', r' ', tweet)\n",
    "    tweet = re.sub(r' id ', r' ', tweet)\n",
    "    tweet = re.sub(r' veri ', r' ', tweet)\n",
    "    tweet = re.sub(r' kagglemanagercom ', r' ', tweet)\n",
    "    tweet = re.sub(r' website_redact', r' ', tweet)\n",
    "    # remove extra white spaces\n",
    "    tweet = re.sub(r'\\s+', r' ', tweet)\n",
    "    \n",
    "    # stemming\n",
    "    stemmer = porterStemmer()\n",
    "    stemmedTweet = [stemmer.stem(word) for word in tweet.split(\" \")]\n",
    "    stemmedTweet = \" \".join(stemmedTweet)\n",
    "    \n",
    "    tweet = str(stemmedTweet)\n",
    "    tweet = tweet.replace(\"'\", \"\")\n",
    "    \n",
    "    return tweet"
   ]
  },
  {
   "cell_type": "code",
   "execution_count": 4,
   "metadata": {
    "collapsed": false
   },
   "outputs": [],
   "source": [
    "df = pd.read_json('C:/Users/shekh/Desktop/rentallisting/train.json')"
   ]
  },
  {
   "cell_type": "code",
   "execution_count": 5,
   "metadata": {
    "collapsed": false
   },
   "outputs": [],
   "source": [
    "df['display_address'] = df['display_address'].astype('category')\n",
    "df['display_address_codes'] = df['display_address'].cat.codes\n",
    "\n",
    "df['latitude'] = df['latitude'].astype('category')\n",
    "df['latitude_codes'] = df['latitude'].cat.codes\n",
    "\n",
    "df['longitude'] = df['longitude'].astype('category')\n",
    "df['longitude_codes'] = df['longitude'].cat.codes\n",
    "\n",
    "df['manager_id'] = df['manager_id'].astype('category')\n",
    "df['manager_id_codes'] = df['manager_id'].cat.codes\n",
    "\n",
    "df['interest_level'] = df['interest_level'].astype('category')\n",
    "df['interest_level_codes'] = df['interest_level'].cat.codes"
   ]
  },
  {
   "cell_type": "code",
   "execution_count": 9,
   "metadata": {
    "collapsed": true
   },
   "outputs": [],
   "source": [
    "jointFeaturesDescColumn = df[['description','features']]"
   ]
  },
  {
   "cell_type": "code",
   "execution_count": 25,
   "metadata": {
    "collapsed": false
   },
   "outputs": [
    {
     "name": "stdout",
     "output_type": "stream",
     "text": [
      "Top Top West Village location, beautiful Pre-war building with laundry in the basement and live in super!<br/><br/>Apartment features a large bedroom with closet. Separate living room, kitchen features granite tops, dishwasher and microwave included, marble bathroom and hardwood flooring. Building is very well maintained and conveniently located near A,C,E,L,1,2,3 trains. Surrounded by many local cafe?s, restaurants, available for November 1st move in!<br/><br/>To view this apartment or any other please contact me via email or call at the number listed.<br/><br/><br/><br/><br/><br/>Bond New York is a real estate broker that supports equal housing opportunity.<p><a  website_redacted \n",
      "10        A Brand New 3 Bedroom 1.5 bath ApartmentEnjoy ...\n",
      "10000                                                      \n",
      "100004    Top Top West Village location, beautiful Pre-w...\n",
      "100007    Building Amenities - Garage - Garden - fitness...\n",
      "100013    Beautifully renovated 3 bedroom flex 4 bedroom...\n",
      "100014                                                     \n",
      "100016    Stunning unit with a great location and lots o...\n",
      "100020    This huge sunny ,plenty of lights 1 bed/2 bath...\n",
      "100026                             <p><a  website_redacted \n",
      "100027    This is a spacious four bedroom with every bed...\n",
      "100030    New to the market! Spacious studio located in ...\n",
      "10004     Check out this one bedroom apartment in a grea...\n",
      "100044    ***LOW FEE. Beautiful CHERRY OAK WOODEN FLOORS...\n",
      "100048    Lincoln Square's premier full service building...\n",
      "10005     Spacious 1-Bedroom to fit King-sized bed comfo...\n",
      "100051    Stunning  full renovated studio unit. High cei...\n",
      "100052    East Village is a great community with great p...\n",
      "100053    *Location: Thayer St. &amp; Broadway, Manhatta...\n",
      "100055                                                     \n",
      "100058                                                     \n",
      "100062    BEAUTIFUL 2 BEDROOM POSSIBLE CONVERSION INTO T...\n",
      "100063    No fee huge two bedroom apartment. Great locat...\n",
      "100065                                                     \n",
      "100066    CooperCooper.com :: Web ID #179546; Access 100...\n",
      "10007     SPRAWLING 2 BEDROOM FOUND! ENJOY THE LUXURY OF...\n",
      "100071    Amazing 4 bedroom convertible. Remarkably luxu...\n",
      "100075    Don't miss out on this fantastic apartment.......\n",
      "100076    The TRUE 1 bedroom apartment features extra la...\n",
      "100079            Currently under renovation, this one b...\n",
      "100081    Gut Renovated Apartment with Stainless steel a...\n",
      "                                ...                        \n",
      "99915     Elegant, spacious one bedroom in modern luxury...\n",
      "99917                                                      \n",
      "99919     (((((IMPORTANT NOTICE))))) If you are planning...\n",
      "99921     WASHER & DRYER IN UNIT ++ 5 MINUTE WALK TO R T...\n",
      "99923     Tremendous Classic Six in a Luxurious Prewar D...\n",
      "99924     Luxury Living--- Full-Time Doorman--- Concierg...\n",
      "99931     Only one block form Washington Square Park! Ne...\n",
      "99933     THIS RESIDENCE FEATURES STAINLESS STEAL  APPLI...\n",
      "99935     This newly renovated 1 bedroom unit is recentl...\n",
      "99937     Bedroom on top, Living room on bottom<br /><br...\n",
      "9994      Don't miss out on this spacious and beautiful ...\n",
      "99953     This exquisitely appointed 1 bedroom, 1 bath r...\n",
      "99956     This spacious two bedroom apartment features e...\n",
      "99960     Great Lower East Side one bedroom.Well maintai...\n",
      "99961     THIS LARGE AND SPACIOUS 3 BD/ONE BA APARTMENT ...\n",
      "99964     77TH ST! FULLY GUT RENOV STUDIO! HI CEIL! XPSD...\n",
      "99965     Full-Time Doorman PET FRIENDLYElevator GYMLaun...\n",
      "99966     This is a Great Opportunity to Rent an Excelle...\n",
      "99979                                                      \n",
      "99980     Incredibly sunny and spacious studio apartment...\n",
      "99982     LUXURY BUILDING IN MIDTOWN WEST, 24 HR DOORMAN...\n",
      "99984     Huge true king size one bedroom in an elevator...\n",
      "99986     Charming one bedroom! Hardwood floors, sunny, ...\n",
      "99987     **89th & Park Ave! (block from the central par...\n",
      "99988     24hr Doorman Luxury building in the heart of t...\n",
      "9999      30TH/3RD, MASSIVE CONV 2BR IN LUXURY FULL SERV...\n",
      "99991     HIGH END condo finishes, swimming pool, and ki...\n",
      "99992     Large Renovated One Bedroom Apartment with Sta...\n",
      "99993     Stylishly sleek studio apartment with unsurpas...\n",
      "99994     Look no further!!!  This giant 2 bedroom apart...\n",
      "Name: description, dtype: object\n",
      "49352\n"
     ]
    }
   ],
   "source": [
    "jointFeaturesDescList = []\n",
    "for row in jointFeaturesDescColumn.iteritems():\n",
    "    tempList = row[1];\n",
    "    print tempList.iloc[2];\n",
    "#     print tempList;\n",
    "#     print tempList.size;\n",
    "    break;\n",
    "    #featureStr = ''.join(row[1]); \n",
    "#     featureStr = cleanTweet(featureStr).encode('ascii', 'ignore').strip();\n",
    "#     feature_column_list.append(featureStr);"
   ]
  },
  {
   "cell_type": "code",
   "execution_count": 5,
   "metadata": {
    "collapsed": false
   },
   "outputs": [],
   "source": [
    "features_column = df['features']\n",
    "label_column = df['interest_level_codes']"
   ]
  },
  {
   "cell_type": "code",
   "execution_count": 6,
   "metadata": {
    "collapsed": false
   },
   "outputs": [
    {
     "name": "stdout",
     "output_type": "stream",
     "text": [
      "49352\n"
     ]
    }
   ],
   "source": [
    "feature_column_list = []\n",
    "for row in features_column.iteritems():\n",
    "    tempList = row[1];\n",
    "    featureStr = ''.join(row[1]); \n",
    "    featureStr = cleanTweet(featureStr).encode('ascii', 'ignore').strip();\n",
    "    feature_column_list.append(featureStr);\n",
    "\n",
    "print len(feature_column_list)"
   ]
  },
  {
   "cell_type": "code",
   "execution_count": 7,
   "metadata": {
    "collapsed": false
   },
   "outputs": [
    {
     "name": "stdout",
     "output_type": "stream",
     "text": [
      "49352\n"
     ]
    }
   ],
   "source": [
    "label_column_list = label_column.tolist();\n",
    "print len(feature_column_list)"
   ]
  },
  {
   "cell_type": "code",
   "execution_count": 8,
   "metadata": {
    "collapsed": true
   },
   "outputs": [],
   "source": [
    "# Create feature vectors\n",
    "vectorizer = TfidfVectorizer(min_df=0.00125,\n",
    "                             max_df = 0.80,\n",
    "                             sublinear_tf=True,\n",
    "                             use_idf=True,\n",
    "                             stop_words=u'english',\n",
    "                             analyzer='word',\n",
    "                             ngram_range=(1,5),lowercase=True)"
   ]
  },
  {
   "cell_type": "code",
   "execution_count": 9,
   "metadata": {
    "collapsed": false
   },
   "outputs": [
    {
     "name": "stdout",
     "output_type": "stream",
     "text": [
      "(49352, 1248)\n"
     ]
    }
   ],
   "source": [
    "totalVectors = vectorizer.fit_transform(feature_column_list);\n",
    "print totalVectors.shape"
   ]
  },
  {
   "cell_type": "code",
   "execution_count": 10,
   "metadata": {
    "collapsed": false
   },
   "outputs": [],
   "source": [
    "X_train, X_test, y_train, y_test = train_test_split(totalVectors,label_column_list,test_size=0.25,random_state=15,stratify=label_column_list);"
   ]
  },
  {
   "cell_type": "code",
   "execution_count": 11,
   "metadata": {
    "collapsed": false
   },
   "outputs": [
    {
     "name": "stdout",
     "output_type": "stream",
     "text": [
      "(37014, 1248)\n",
      "(12338, 1248)\n"
     ]
    }
   ],
   "source": [
    "print X_train.shape\n",
    "print X_test.shape"
   ]
  },
  {
   "cell_type": "code",
   "execution_count": 12,
   "metadata": {
    "collapsed": false
   },
   "outputs": [],
   "source": [
    "def generate_rf(X_train, y_train, X_test, y_test):\n",
    "    rf = RandomForestClassifier(n_estimators=50, min_samples_leaf=10)\n",
    "    rf.fit(X_train, y_train)\n",
    "    print \"rf score \", rf.score(X_test, y_test)\n",
    "    return rf\n",
    "\n",
    "def combine_rfs(rf_a, rf_b):\n",
    "    rf_a.estimators_ += rf_b.estimators_\n",
    "    rf_a.n_estimators = len(rf_a.estimators_)\n",
    "    return rf_a"
   ]
  },
  {
   "cell_type": "code",
   "execution_count": 13,
   "metadata": {
    "collapsed": false
   },
   "outputs": [
    {
     "name": "stdout",
     "output_type": "stream",
     "text": [
      "rf score  0.697925109418\n",
      "rf score  0.697438806938\n",
      "rf score  0.696628302804\n",
      "rf score  0.696466201978\n",
      "rf score  0.696709353218\n",
      "rf score  0.696709353218\n",
      "rf score  0.696547252391\n",
      "rf score  0.697438806938\n",
      "rf score  0.696790403631\n",
      "rf score  0.696790403631\n",
      "rf combined score 0.696466201978\n"
     ]
    }
   ],
   "source": [
    "rfs = [generate_rf(X_train, y_train, X_test, y_test) for i in xrange(10)]\n",
    "rf_combined = reduce(combine_rfs, rfs)\n",
    "\n",
    "print \"rf combined score\", rf_combined.score(X_test, y_test)"
   ]
  },
  {
   "cell_type": "code",
   "execution_count": 14,
   "metadata": {
    "collapsed": false
   },
   "outputs": [],
   "source": [
    "predicted_labels = rf_combined.predict(X_test)"
   ]
  },
  {
   "cell_type": "code",
   "execution_count": 15,
   "metadata": {
    "collapsed": true
   },
   "outputs": [],
   "source": [
    "target_names = ['0', '1', '2']"
   ]
  },
  {
   "cell_type": "code",
   "execution_count": 16,
   "metadata": {
    "collapsed": false
   },
   "outputs": [],
   "source": [
    "actual_class_labels = y_test;\n",
    "predicted_class_labels = predicted_labels.tolist();"
   ]
  },
  {
   "cell_type": "code",
   "execution_count": 17,
   "metadata": {
    "collapsed": false
   },
   "outputs": [
    {
     "name": "stdout",
     "output_type": "stream",
     "text": [
      "             precision    recall  f1-score   support\n",
      "\n",
      "          0       0.55      0.01      0.01       960\n",
      "          1       0.70      0.99      0.82      8571\n",
      "          2       0.42      0.05      0.09      2807\n",
      "\n",
      "avg / total       0.63      0.70      0.59     12338\n",
      "\n"
     ]
    }
   ],
   "source": [
    "print(classification_report(actual_class_labels, predicted_class_labels, target_names=target_names))"
   ]
  },
  {
   "cell_type": "code",
   "execution_count": 18,
   "metadata": {
    "collapsed": false
   },
   "outputs": [],
   "source": [
    "description_column = df['description']"
   ]
  },
  {
   "cell_type": "code",
   "execution_count": 19,
   "metadata": {
    "collapsed": false
   },
   "outputs": [
    {
     "name": "stdout",
     "output_type": "stream",
     "text": [
      "49352\n"
     ]
    }
   ],
   "source": [
    "desc_column_list = []\n",
    "for row in description_column.iteritems():\n",
    "    tempList = row[1];\n",
    "    descStr = ''.join(row[1]); \n",
    "    descStr = cleanTweet(descStr).encode('ascii', 'ignore').strip();\n",
    "    desc_column_list.append(descStr);\n",
    "\n",
    "print len(desc_column_list)"
   ]
  },
  {
   "cell_type": "code",
   "execution_count": 20,
   "metadata": {
    "collapsed": false
   },
   "outputs": [
    {
     "name": "stdout",
     "output_type": "stream",
     "text": [
      "(49352, 13759)\n"
     ]
    }
   ],
   "source": [
    "totalDescVectors = vectorizer.fit_transform(desc_column_list);\n",
    "print totalDescVectors.shape"
   ]
  },
  {
   "cell_type": "code",
   "execution_count": 21,
   "metadata": {
    "collapsed": true
   },
   "outputs": [],
   "source": [
    "X_desc_train, X_desc_test, y_desc_train, y_desc_test = train_test_split(totalDescVectors,label_column_list,test_size=0.25,random_state=15,stratify=label_column_list);"
   ]
  },
  {
   "cell_type": "code",
   "execution_count": 22,
   "metadata": {
    "collapsed": false
   },
   "outputs": [],
   "source": [
    "def generate_rf(X_desc_train, y_desc_train, X_desc_test, y_desc_test):\n",
    "    rf = RandomForestClassifier(n_estimators=50, min_samples_leaf=10)\n",
    "    rf.fit(X_desc_train, y_desc_train)\n",
    "    print \"rf score \", rf.score(X_desc_test, y_desc_test)\n",
    "    return rf\n",
    "\n",
    "def combine_rfs(rf_a, rf_b):\n",
    "    rf_a.estimators_ += rf_b.estimators_\n",
    "    rf_a.n_estimators = len(rf_a.estimators_)\n",
    "    return rf_a"
   ]
  },
  {
   "cell_type": "code",
   "execution_count": 23,
   "metadata": {
    "collapsed": false
   },
   "outputs": [
    {
     "name": "stdout",
     "output_type": "stream",
     "text": [
      "rf score  0.703679688766\n",
      "rf score  0.703922840006\n",
      "rf score  0.7032744367\n",
      "rf score  0.70303128546\n",
      "rf score  0.70376073918\n",
      "rf score  0.703112335873\n",
      "rf score  0.7044901929\n",
      "rf score  0.703679688766\n",
      "rf score  0.704084940833\n",
      "rf score  0.702463932566\n",
      "rf combined score 0.704165991247\n"
     ]
    }
   ],
   "source": [
    "rfs = [generate_rf(X_desc_train, y_desc_train, X_desc_test, y_desc_test) for i in xrange(10)]\n",
    "rf_combined = reduce(combine_rfs, rfs)\n",
    "\n",
    "print \"rf combined score\", rf_combined.score(X_desc_test, y_desc_test)"
   ]
  },
  {
   "cell_type": "code",
   "execution_count": 24,
   "metadata": {
    "collapsed": true
   },
   "outputs": [],
   "source": [
    "desc_predicted_labels = rf_combined.predict(X_desc_test)"
   ]
  },
  {
   "cell_type": "code",
   "execution_count": 25,
   "metadata": {
    "collapsed": true
   },
   "outputs": [],
   "source": [
    "desc_actual_class_labels = y_desc_test;\n",
    "desc_predicted_class_labels = desc_predicted_labels.tolist();"
   ]
  },
  {
   "cell_type": "code",
   "execution_count": 26,
   "metadata": {
    "collapsed": false
   },
   "outputs": [
    {
     "name": "stdout",
     "output_type": "stream",
     "text": [
      "             precision    recall  f1-score   support\n",
      "\n",
      "          0       0.53      0.02      0.05       960\n",
      "          1       0.71      0.99      0.83      8571\n",
      "          2       0.55      0.07      0.12      2807\n",
      "\n",
      "avg / total       0.66      0.70      0.61     12338\n",
      "\n"
     ]
    }
   ],
   "source": [
    "print(classification_report(desc_actual_class_labels, desc_predicted_class_labels, target_names=target_names))"
   ]
  },
  {
   "cell_type": "code",
   "execution_count": 27,
   "metadata": {
    "collapsed": false
   },
   "outputs": [
    {
     "data": {
      "text/plain": [
       "Index([            u'bathrooms',              u'bedrooms',\n",
       "                 u'building_id',               u'created',\n",
       "                 u'description',       u'display_address',\n",
       "                    u'features',        u'interest_level',\n",
       "                    u'latitude',            u'listing_id',\n",
       "                   u'longitude',            u'manager_id',\n",
       "                      u'photos',                 u'price',\n",
       "              u'street_address', u'display_address_codes',\n",
       "              u'latitude_codes',       u'longitude_codes',\n",
       "            u'manager_id_codes',  u'interest_level_codes'],\n",
       "      dtype='object')"
      ]
     },
     "execution_count": 27,
     "metadata": {},
     "output_type": "execute_result"
    }
   ],
   "source": [
    "df.columns"
   ]
  },
  {
   "cell_type": "code",
   "execution_count": 28,
   "metadata": {
    "collapsed": true
   },
   "outputs": [],
   "source": [
    "featuresDF = df[['bathrooms','bedrooms','price','longitude_codes','latitude_codes','photos','display_address_codes','manager_id_codes']]"
   ]
  },
  {
   "cell_type": "code",
   "execution_count": 29,
   "metadata": {
    "collapsed": false
   },
   "outputs": [
    {
     "data": {
      "text/html": [
       "<div>\n",
       "<table border=\"1\" class=\"dataframe\">\n",
       "  <thead>\n",
       "    <tr style=\"text-align: right;\">\n",
       "      <th></th>\n",
       "      <th>bathrooms</th>\n",
       "      <th>bedrooms</th>\n",
       "      <th>price</th>\n",
       "      <th>longitude_codes</th>\n",
       "      <th>latitude_codes</th>\n",
       "      <th>photos</th>\n",
       "      <th>display_address_codes</th>\n",
       "      <th>manager_id_codes</th>\n",
       "    </tr>\n",
       "  </thead>\n",
       "  <tbody>\n",
       "    <tr>\n",
       "      <th>10</th>\n",
       "      <td>1.5</td>\n",
       "      <td>3</td>\n",
       "      <td>3000</td>\n",
       "      <td>879</td>\n",
       "      <td>867</td>\n",
       "      <td>[https://photos.renthop.com/2/7211212_1ed4542e...</td>\n",
       "      <td>6544</td>\n",
       "      <td>1239</td>\n",
       "    </tr>\n",
       "  </tbody>\n",
       "</table>\n",
       "</div>"
      ],
      "text/plain": [
       "    bathrooms  bedrooms  price  longitude_codes  latitude_codes  \\\n",
       "10        1.5         3   3000              879             867   \n",
       "\n",
       "                                               photos  display_address_codes  \\\n",
       "10  [https://photos.renthop.com/2/7211212_1ed4542e...                   6544   \n",
       "\n",
       "    manager_id_codes  \n",
       "10              1239  "
      ]
     },
     "execution_count": 29,
     "metadata": {},
     "output_type": "execute_result"
    }
   ],
   "source": [
    "featuresDF.head(1)"
   ]
  },
  {
   "cell_type": "code",
   "execution_count": 30,
   "metadata": {
    "collapsed": false
   },
   "outputs": [
    {
     "data": {
      "text/plain": [
       "(0, 0)"
      ]
     },
     "execution_count": 30,
     "metadata": {},
     "output_type": "execute_result"
    }
   ],
   "source": [
    "new_features_df = pd.DataFrame();\n",
    "type(new_features_df)\n",
    "new_features_df.shape"
   ]
  },
  {
   "cell_type": "code",
   "execution_count": 31,
   "metadata": {
    "collapsed": false
   },
   "outputs": [],
   "source": [
    "for row in featuresDF.iterrows():\n",
    "    row[1].set_value('no_of_photos',len((row[1])['photos']));\n",
    "    new_features_df = new_features_df.append(row[1]);"
   ]
  },
  {
   "cell_type": "code",
   "execution_count": 34,
   "metadata": {
    "collapsed": false
   },
   "outputs": [],
   "source": [
    "#new_features_df = new_features_df.drop('photos', axis=1)\n",
    "new_features_df['bathrooms'] = new_features_df['bathrooms'].astype('category')\n",
    "new_features_df['bedrooms'] = new_features_df['bedrooms'].astype('category')\n",
    "new_features_df['latitude_codes'] = new_features_df['latitude_codes'].astype('category')\n",
    "new_features_df['longitude_codes'] = new_features_df['longitude_codes'].astype('category')\n",
    "new_features_df['manager_id_codes'] = new_features_df['manager_id_codes'].astype('category')\n",
    "new_features_df['no_of_photos'] = new_features_df['no_of_photos'].astype('category')\n",
    "new_features_df['price'] = new_features_df['price'].astype('category')"
   ]
  },
  {
   "cell_type": "code",
   "execution_count": 35,
   "metadata": {
    "collapsed": false
   },
   "outputs": [
    {
     "data": {
      "text/html": [
       "<div>\n",
       "<table border=\"1\" class=\"dataframe\">\n",
       "  <thead>\n",
       "    <tr style=\"text-align: right;\">\n",
       "      <th></th>\n",
       "      <th>bathrooms</th>\n",
       "      <th>bedrooms</th>\n",
       "      <th>display_address_codes</th>\n",
       "      <th>latitude_codes</th>\n",
       "      <th>longitude_codes</th>\n",
       "      <th>manager_id_codes</th>\n",
       "      <th>no_of_photos</th>\n",
       "      <th>price</th>\n",
       "    </tr>\n",
       "  </thead>\n",
       "  <tbody>\n",
       "    <tr>\n",
       "      <th>10</th>\n",
       "      <td>1.5</td>\n",
       "      <td>3.0</td>\n",
       "      <td>6544.0</td>\n",
       "      <td>867.0</td>\n",
       "      <td>879.0</td>\n",
       "      <td>1239.0</td>\n",
       "      <td>5.0</td>\n",
       "      <td>3000.0</td>\n",
       "    </tr>\n",
       "  </tbody>\n",
       "</table>\n",
       "</div>"
      ],
      "text/plain": [
       "   bathrooms bedrooms  display_address_codes latitude_codes longitude_codes  \\\n",
       "10       1.5      3.0                 6544.0          867.0           879.0   \n",
       "\n",
       "   manager_id_codes no_of_photos   price  \n",
       "10           1239.0          5.0  3000.0  "
      ]
     },
     "execution_count": 35,
     "metadata": {},
     "output_type": "execute_result"
    }
   ],
   "source": [
    "new_features_df.head(1)"
   ]
  },
  {
   "cell_type": "code",
   "execution_count": 36,
   "metadata": {
    "collapsed": false
   },
   "outputs": [
    {
     "name": "stdout",
     "output_type": "stream",
     "text": [
      "37014\n",
      "12338\n",
      "37014\n",
      "12338\n"
     ]
    }
   ],
   "source": [
    "new_features_train, new_features_test, new_features_y_train, new_features_y_test = train_test_split(new_features_df,label_column_list,test_size=0.25,random_state=15,stratify=label_column_list)\n",
    "print len(new_features_train)\n",
    "print len(new_features_test)\n",
    "print len(new_features_y_train)\n",
    "print len(new_features_y_test)"
   ]
  },
  {
   "cell_type": "code",
   "execution_count": 37,
   "metadata": {
    "collapsed": false
   },
   "outputs": [],
   "source": [
    "def generate_rf(new_features_train, new_features_y_train, new_features_test, new_features_y_test):\n",
    "    rf = RandomForestClassifier(n_estimators=50, min_samples_leaf=10)\n",
    "    rf.fit(new_features_train, new_features_y_train)\n",
    "    print \"rf score \", rf.score(new_features_test, new_features_y_test)\n",
    "    return rf\n",
    "\n",
    "def combine_rfs(rf_a, rf_b):\n",
    "    rf_a.estimators_ += rf_b.estimators_\n",
    "    rf_a.n_estimators = len(rf_a.estimators_)\n",
    "    return rf_a"
   ]
  },
  {
   "cell_type": "code",
   "execution_count": 38,
   "metadata": {
    "collapsed": false
   },
   "outputs": [
    {
     "name": "stdout",
     "output_type": "stream",
     "text": [
      "rf score  0.71608040201\n",
      "rf score  0.715918301183\n",
      "rf score  0.717215107797\n",
      "rf score  0.716242502837\n",
      "rf score  0.713973091263\n",
      "rf score  0.71656670449\n",
      "rf score  0.715756200357\n",
      "rf score  0.713405738369\n",
      "rf score  0.717458259037\n",
      "rf score  0.71656670449\n",
      "rf combined score 0.715431998703\n"
     ]
    }
   ],
   "source": [
    "rfs = [generate_rf(new_features_train, new_features_y_train, new_features_test, new_features_y_test) for i in xrange(10)]\n",
    "rf_combined = reduce(combine_rfs, rfs)\n",
    "\n",
    "print \"rf combined score\", rf_combined.score(new_features_test, new_features_y_test)"
   ]
  },
  {
   "cell_type": "code",
   "execution_count": 39,
   "metadata": {
    "collapsed": true
   },
   "outputs": [],
   "source": [
    "predict_lab = rf_combined.predict(new_features_test)"
   ]
  },
  {
   "cell_type": "code",
   "execution_count": 40,
   "metadata": {
    "collapsed": true
   },
   "outputs": [],
   "source": [
    "new_features_actual_class_labels = new_features_y_test;\n",
    "new_features_predicted_class_labels = predict_lab.tolist();"
   ]
  },
  {
   "cell_type": "code",
   "execution_count": 41,
   "metadata": {
    "collapsed": false
   },
   "outputs": [
    {
     "name": "stdout",
     "output_type": "stream",
     "text": [
      "             precision    recall  f1-score   support\n",
      "\n",
      "          0       0.63      0.15      0.25       960\n",
      "          1       0.74      0.96      0.84      8571\n",
      "          2       0.44      0.16      0.23      2807\n",
      "\n",
      "avg / total       0.66      0.72      0.65     12338\n",
      "\n"
     ]
    }
   ],
   "source": [
    "print(classification_report(new_features_actual_class_labels, new_features_predicted_class_labels, target_names=target_names))"
   ]
  },
  {
   "cell_type": "code",
   "execution_count": null,
   "metadata": {
    "collapsed": true
   },
   "outputs": [],
   "source": []
  },
  {
   "cell_type": "code",
   "execution_count": null,
   "metadata": {
    "collapsed": true
   },
   "outputs": [],
   "source": []
  },
  {
   "cell_type": "code",
   "execution_count": null,
   "metadata": {
    "collapsed": true
   },
   "outputs": [],
   "source": []
  },
  {
   "cell_type": "code",
   "execution_count": null,
   "metadata": {
    "collapsed": true
   },
   "outputs": [],
   "source": []
  }
 ],
 "metadata": {
  "anaconda-cloud": {},
  "kernelspec": {
   "display_name": "Python 2",
   "language": "python",
   "name": "python2"
  },
  "language_info": {
   "codemirror_mode": {
    "name": "ipython",
    "version": 2
   },
   "file_extension": ".py",
   "mimetype": "text/x-python",
   "name": "python",
   "nbconvert_exporter": "python",
   "pygments_lexer": "ipython2",
   "version": "2.7.13"
  }
 },
 "nbformat": 4,
 "nbformat_minor": 2
}
