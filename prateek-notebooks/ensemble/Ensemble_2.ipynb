{
 "cells": [
  {
   "cell_type": "code",
   "execution_count": 39,
   "metadata": {
    "collapsed": false
   },
   "outputs": [],
   "source": [
    "import pandas as pd\n",
    "from sklearn import preprocessing\n",
    "from sklearn.cross_validation import train_test_split\n",
    "from sklearn import svm\n",
    "from sklearn.metrics import precision_recall_fscore_support as prfs\n",
    "from sklearn.metrics import classification_report\n",
    "import sklearn\n",
    "import HTMLParser\n",
    "import re\n",
    "from nltk.stem.porter import PorterStemmer as porterStemmer\n",
    "from sklearn.feature_extraction.text import TfidfVectorizer\n",
    "from sklearn.ensemble import ExtraTreesClassifier\n",
    "from sklearn.ensemble import RandomForestClassifier\n",
    "from sklearn.metrics import precision_recall_fscore_support\n",
    "from sklearn.linear_model import LogisticRegression"
   ]
  },
  {
   "cell_type": "code",
   "execution_count": 2,
   "metadata": {
    "collapsed": true
   },
   "outputs": [],
   "source": [
    "def cleanTweet(originalTweet):\n",
    "    htmlParser = HTMLParser.HTMLParser()\n",
    "    \n",
    "    tweet = originalTweet;\n",
    "    # convert to lower case\n",
    "    tweet = tweet.lower()\n",
    "    #tweet = htmlParser.unescape(originalTweet);\n",
    "    #tweet = tweet.decode('windows-1252').encode('ascii', 'ignore')\n",
    "    #tweet = tweet.decode('windows-1252')\n",
    "    #tweet = tweet.decode(\"utf8\").encode('ascii', 'ignore')\n",
    "    #tweet = re.sub(r'[^\\x00-\\xFF]+', r'', tweet)\n",
    "    #tweet = re.sub(r'[^\\x00-\\x7F]+', r'', tweet)\n",
    "    #tweet = tweet.decode('utf-8').strip()\n",
    "    #tweet = tweet.decode('unicode_escape').encode('ascii','ignore')\n",
    "    #tweet = tweet.encode('ascii','ignore')\n",
    "    tweet = ''.join([i if ord(i) < 128 else ' ' for i in tweet])\n",
    "    \n",
    "    # remove URLs in tweet\n",
    "    tweet = re.sub(r'\\w+:\\/{2}[\\d\\w-]+(\\.[\\d\\w-]+)*(?:(?:\\/[^\\s/]*))*', '', tweet)\n",
    "\n",
    "    # remove strings starting with @ in tweet\n",
    "    tweet = re.sub(r'(\\s)@\\w+', r'', tweet)\n",
    "    tweet = re.sub(r'@\\w+', r'', tweet)\n",
    "    \n",
    "    # remove HTML tags from tweet\n",
    "    tweet = re.sub('<[^<]+?>', '', tweet)\n",
    "\n",
    "    # separates words joined with capital words.\n",
    "    # E.g. DisplayIsAweson to Display Is Awesom\n",
    "    #tweet = \" \".join(re.findall('[A-Z][^A-Z]*', tweet));\n",
    "\n",
    "    # remove exclamation and other unnecessary characters\n",
    "    tweet = re.sub(r'[<>!#@$:.,%\\?-]+', r'', tweet)\n",
    "\n",
    "    \n",
    "    \n",
    "    tweet = re.sub(r' a ', r' ', tweet)\n",
    "    tweet = re.sub(r' with ', r' ', tweet)\n",
    "    tweet = re.sub(r' is ', r' ', tweet)\n",
    "    tweet = re.sub(r' to ', r' ', tweet)\n",
    "    tweet = re.sub(r' the ', r' ', tweet)\n",
    "    tweet = re.sub(r' and ', r' ', tweet)\n",
    "    tweet = re.sub(r' of ', r' ', tweet)\n",
    "    tweet = re.sub(r' in ', r' ', tweet)\n",
    "    tweet = re.sub(r' for ', r' ', tweet)\n",
    "    tweet = re.sub(r' all ', r' ', tweet)\n",
    "    tweet = re.sub(r' it ', r' ', tweet)\n",
    "    tweet = re.sub(r' that ', r' ', tweet)\n",
    "    tweet = re.sub(r' for ', r' ', tweet)\n",
    "    tweet = re.sub(r' be ', ' ', tweet)\n",
    "    tweet = re.sub(r' your ', r' ', tweet)\n",
    "    tweet = re.sub(r' our ', r' ', tweet)\n",
    "    tweet = re.sub(r' are ', r' ', tweet)\n",
    "    tweet = re.sub(r' by ', r' ', tweet)\n",
    "    tweet = re.sub(r' this ', r' ', tweet)\n",
    "    tweet = re.sub(r' thi ', r' ', tweet)\n",
    "    tweet = re.sub(r' from ', r' ', tweet)\n",
    "    tweet = re.sub(r' or ', r' ', tweet)\n",
    "    tweet = re.sub(r' website_redact ', r' ', tweet)\n",
    "    tweet = re.sub(r' at ', r' ', tweet)\n",
    "    tweet = re.sub(r' on ', r' ', tweet)\n",
    "    tweet = re.sub(r' href= ', r' ', tweet)\n",
    "    tweet = re.sub(r'\\btarget=_blank\\b', r' ', tweet)\n",
    "    tweet = re.sub(r' also ', r' ', tweet)\n",
    "    tweet = re.sub(r' can ', r' ', tweet)\n",
    "    tweet = re.sub(r' call/text ', r' ', tweet)\n",
    "    tweet = re.sub(r' email ', r' ', tweet)\n",
    "    tweet = re.sub(r' viewingcontact ', r' ', tweet)\n",
    "    tweet = re.sub(r' id ', r' ', tweet)\n",
    "    tweet = re.sub(r' veri ', r' ', tweet)\n",
    "    tweet = re.sub(r' kagglemanagercom ', r' ', tweet)\n",
    "    tweet = re.sub(r' website_redact', r' ', tweet)\n",
    "    # remove extra white spaces\n",
    "    tweet = re.sub(r'\\s+', r' ', tweet)\n",
    "    \n",
    "    # stemming\n",
    "    stemmer = porterStemmer()\n",
    "    stemmedTweet = [stemmer.stem(word) for word in tweet.split(\" \")]\n",
    "    stemmedTweet = \" \".join(stemmedTweet)\n",
    "    \n",
    "    tweet = str(stemmedTweet)\n",
    "    tweet = tweet.replace(\"'\", \"\")\n",
    "    \n",
    "    return tweet"
   ]
  },
  {
   "cell_type": "code",
   "execution_count": 3,
   "metadata": {
    "collapsed": false
   },
   "outputs": [],
   "source": [
    "df = pd.read_json('C:/Users/shekh/Desktop/rentallisting/train.json')"
   ]
  },
  {
   "cell_type": "code",
   "execution_count": 4,
   "metadata": {
    "collapsed": false
   },
   "outputs": [],
   "source": [
    "df['display_address'] = df['display_address'].astype('category')\n",
    "df['display_address_codes'] = df['display_address'].cat.codes\n",
    "\n",
    "df['latitude'] = df['latitude'].astype('category')\n",
    "df['latitude_codes'] = df['latitude'].cat.codes\n",
    "\n",
    "df['longitude'] = df['longitude'].astype('category')\n",
    "df['longitude_codes'] = df['longitude'].cat.codes\n",
    "\n",
    "df['manager_id'] = df['manager_id'].astype('category')\n",
    "df['manager_id_codes'] = df['manager_id'].cat.codes\n",
    "\n",
    "df['interest_level'] = df['interest_level'].astype('category')\n",
    "df['interest_level_codes'] = df['interest_level'].cat.codes"
   ]
  },
  {
   "cell_type": "code",
   "execution_count": 5,
   "metadata": {
    "collapsed": false
   },
   "outputs": [],
   "source": [
    "features_column = df['features']\n",
    "label_column = df['interest_level_codes']"
   ]
  },
  {
   "cell_type": "code",
   "execution_count": 6,
   "metadata": {
    "collapsed": false
   },
   "outputs": [
    {
     "name": "stdout",
     "output_type": "stream",
     "text": [
      "49352\n"
     ]
    }
   ],
   "source": [
    "feature_column_list = []\n",
    "for row in features_column.iteritems():\n",
    "    tempList = row[1];\n",
    "    featureStr = ''.join(row[1]); \n",
    "    featureStr = cleanTweet(featureStr).encode('ascii', 'ignore').strip();\n",
    "    feature_column_list.append(featureStr);\n",
    "\n",
    "print len(feature_column_list)"
   ]
  },
  {
   "cell_type": "code",
   "execution_count": 7,
   "metadata": {
    "collapsed": false
   },
   "outputs": [
    {
     "name": "stdout",
     "output_type": "stream",
     "text": [
      "49352\n"
     ]
    }
   ],
   "source": [
    "label_column_list = label_column.tolist();\n",
    "print len(feature_column_list)"
   ]
  },
  {
   "cell_type": "code",
   "execution_count": 8,
   "metadata": {
    "collapsed": true
   },
   "outputs": [],
   "source": [
    "# Create feature vectors\n",
    "vectorizer = TfidfVectorizer(min_df=0.00125,\n",
    "                             max_df = 0.80,\n",
    "                             sublinear_tf=True,\n",
    "                             use_idf=True,\n",
    "                             stop_words=u'english',\n",
    "                             analyzer='word',\n",
    "                             ngram_range=(1,5),lowercase=True)"
   ]
  },
  {
   "cell_type": "code",
   "execution_count": 9,
   "metadata": {
    "collapsed": false
   },
   "outputs": [
    {
     "name": "stdout",
     "output_type": "stream",
     "text": [
      "(49352, 1248)\n"
     ]
    }
   ],
   "source": [
    "totalVectors = vectorizer.fit_transform(feature_column_list);\n",
    "print totalVectors.shape"
   ]
  },
  {
   "cell_type": "code",
   "execution_count": 10,
   "metadata": {
    "collapsed": false
   },
   "outputs": [],
   "source": [
    "X_train, X_test, y_train, y_test = train_test_split(totalVectors,label_column_list,test_size=0.25,random_state=15,stratify=label_column_list);"
   ]
  },
  {
   "cell_type": "code",
   "execution_count": 11,
   "metadata": {
    "collapsed": false
   },
   "outputs": [
    {
     "name": "stdout",
     "output_type": "stream",
     "text": [
      "(37014, 1248)\n",
      "(12338, 1248)\n"
     ]
    }
   ],
   "source": [
    "print X_train.shape\n",
    "print X_test.shape"
   ]
  },
  {
   "cell_type": "code",
   "execution_count": 12,
   "metadata": {
    "collapsed": false
   },
   "outputs": [],
   "source": [
    "def generate_rf(X_train, y_train, X_test, y_test):\n",
    "    rf = RandomForestClassifier(n_estimators=50, min_samples_leaf=10)\n",
    "    rf.fit(X_train, y_train)\n",
    "    print \"rf score \", rf.score(X_test, y_test)\n",
    "    return rf\n",
    "\n",
    "def combine_rfs(rf_a, rf_b):\n",
    "    rf_a.estimators_ += rf_b.estimators_\n",
    "    rf_a.n_estimators = len(rf_a.estimators_)\n",
    "    return rf_a"
   ]
  },
  {
   "cell_type": "code",
   "execution_count": 13,
   "metadata": {
    "collapsed": false
   },
   "outputs": [
    {
     "name": "stdout",
     "output_type": "stream",
     "text": [
      "rf score  0.696871454044\n",
      "rf score  0.697195655698\n",
      "rf score  0.696790403631\n",
      "rf score  0.697195655698\n",
      "rf score  0.696952504458\n",
      "rf score  0.696871454044\n",
      "rf score  0.696628302804\n",
      "rf score  0.697438806938\n",
      "rf score  0.696790403631\n",
      "rf score  0.696304101151\n",
      "rf combined score 0.696385151564\n"
     ]
    }
   ],
   "source": [
    "rfs = [generate_rf(X_train, y_train, X_test, y_test) for i in xrange(10)]\n",
    "rf_combined = reduce(combine_rfs, rfs)\n",
    "\n",
    "print \"rf combined score\", rf_combined.score(X_test, y_test)"
   ]
  },
  {
   "cell_type": "code",
   "execution_count": 14,
   "metadata": {
    "collapsed": false
   },
   "outputs": [],
   "source": [
    "predicted_labels = rf_combined.predict(X_test)"
   ]
  },
  {
   "cell_type": "code",
   "execution_count": 15,
   "metadata": {
    "collapsed": true
   },
   "outputs": [],
   "source": [
    "target_names = ['0', '1', '2']"
   ]
  },
  {
   "cell_type": "code",
   "execution_count": 16,
   "metadata": {
    "collapsed": false
   },
   "outputs": [],
   "source": [
    "actual_class_labels = y_test;\n",
    "predicted_class_labels = predicted_labels.tolist();"
   ]
  },
  {
   "cell_type": "code",
   "execution_count": 17,
   "metadata": {
    "collapsed": false
   },
   "outputs": [
    {
     "name": "stdout",
     "output_type": "stream",
     "text": [
      "             precision    recall  f1-score   support\n",
      "\n",
      "          0       0.60      0.01      0.01       960\n",
      "          1       0.71      0.98      0.82      8571\n",
      "          2       0.42      0.06      0.10      2807\n",
      "\n",
      "avg / total       0.63      0.70      0.60     12338\n",
      "\n"
     ]
    }
   ],
   "source": [
    "print(classification_report(actual_class_labels, predicted_class_labels, target_names=target_names))"
   ]
  },
  {
   "cell_type": "code",
   "execution_count": 18,
   "metadata": {
    "collapsed": false
   },
   "outputs": [],
   "source": [
    "description_column = df['description']"
   ]
  },
  {
   "cell_type": "code",
   "execution_count": 19,
   "metadata": {
    "collapsed": false
   },
   "outputs": [
    {
     "name": "stdout",
     "output_type": "stream",
     "text": [
      "49352\n"
     ]
    }
   ],
   "source": [
    "desc_column_list = []\n",
    "for row in description_column.iteritems():\n",
    "    tempList = row[1];\n",
    "    descStr = ''.join(row[1]); \n",
    "    descStr = cleanTweet(descStr).encode('ascii', 'ignore').strip();\n",
    "    desc_column_list.append(descStr);\n",
    "\n",
    "print len(desc_column_list)"
   ]
  },
  {
   "cell_type": "code",
   "execution_count": 20,
   "metadata": {
    "collapsed": false
   },
   "outputs": [
    {
     "name": "stdout",
     "output_type": "stream",
     "text": [
      "(49352, 13759)\n"
     ]
    }
   ],
   "source": [
    "totalDescVectors = vectorizer.fit_transform(desc_column_list);\n",
    "print totalDescVectors.shape"
   ]
  },
  {
   "cell_type": "code",
   "execution_count": 21,
   "metadata": {
    "collapsed": true
   },
   "outputs": [],
   "source": [
    "X_desc_train, X_desc_test, y_desc_train, y_desc_test = train_test_split(totalDescVectors,label_column_list,test_size=0.25,random_state=15,stratify=label_column_list);"
   ]
  },
  {
   "cell_type": "code",
   "execution_count": 22,
   "metadata": {
    "collapsed": false
   },
   "outputs": [],
   "source": [
    "def generate_rf(X_desc_train, y_desc_train, X_desc_test, y_desc_test):\n",
    "    rf = RandomForestClassifier(n_estimators=50, min_samples_leaf=10)\n",
    "    rf.fit(X_desc_train, y_desc_train)\n",
    "    print \"rf score \", rf.score(X_desc_test, y_desc_test)\n",
    "    return rf\n",
    "\n",
    "def combine_rfs(rf_a, rf_b):\n",
    "    rf_a.estimators_ += rf_b.estimators_\n",
    "    rf_a.n_estimators = len(rf_a.estimators_)\n",
    "    return rf_a"
   ]
  },
  {
   "cell_type": "code",
   "execution_count": 23,
   "metadata": {
    "collapsed": false
   },
   "outputs": [
    {
     "name": "stdout",
     "output_type": "stream",
     "text": [
      "rf score  0.70351758794\n",
      "rf score  0.70376073918\n",
      "rf score  0.70424704166\n",
      "rf score  0.70376073918\n",
      "rf score  0.703922840006\n",
      "rf score  0.70376073918\n",
      "rf score  0.702220781326\n",
      "rf score  0.703679688766\n",
      "rf score  0.70400389042\n",
      "rf score  0.704165991247\n",
      "rf combined score 0.70376073918\n"
     ]
    }
   ],
   "source": [
    "rfs = [generate_rf(X_desc_train, y_desc_train, X_desc_test, y_desc_test) for i in xrange(10)]\n",
    "rf_combined = reduce(combine_rfs, rfs)\n",
    "\n",
    "print \"rf combined score\", rf_combined.score(X_desc_test, y_desc_test)"
   ]
  },
  {
   "cell_type": "code",
   "execution_count": 24,
   "metadata": {
    "collapsed": true
   },
   "outputs": [],
   "source": [
    "desc_predicted_labels = rf_combined.predict(X_desc_test)"
   ]
  },
  {
   "cell_type": "code",
   "execution_count": 25,
   "metadata": {
    "collapsed": true
   },
   "outputs": [],
   "source": [
    "desc_actual_class_labels = y_desc_test;\n",
    "desc_predicted_class_labels = desc_predicted_labels.tolist();"
   ]
  },
  {
   "cell_type": "code",
   "execution_count": 26,
   "metadata": {
    "collapsed": false
   },
   "outputs": [
    {
     "name": "stdout",
     "output_type": "stream",
     "text": [
      "             precision    recall  f1-score   support\n",
      "\n",
      "          0       0.51      0.02      0.05       960\n",
      "          1       0.71      0.99      0.83      8571\n",
      "          2       0.54      0.07      0.12      2807\n",
      "\n",
      "avg / total       0.65      0.70      0.60     12338\n",
      "\n"
     ]
    }
   ],
   "source": [
    "print(classification_report(desc_actual_class_labels, desc_predicted_class_labels, target_names=target_names))"
   ]
  },
  {
   "cell_type": "code",
   "execution_count": 27,
   "metadata": {
    "collapsed": false
   },
   "outputs": [
    {
     "data": {
      "text/plain": [
       "Index([            u'bathrooms',              u'bedrooms',\n",
       "                 u'building_id',               u'created',\n",
       "                 u'description',       u'display_address',\n",
       "                    u'features',        u'interest_level',\n",
       "                    u'latitude',            u'listing_id',\n",
       "                   u'longitude',            u'manager_id',\n",
       "                      u'photos',                 u'price',\n",
       "              u'street_address', u'display_address_codes',\n",
       "              u'latitude_codes',       u'longitude_codes',\n",
       "            u'manager_id_codes',  u'interest_level_codes'],\n",
       "      dtype='object')"
      ]
     },
     "execution_count": 27,
     "metadata": {},
     "output_type": "execute_result"
    }
   ],
   "source": [
    "df.columns"
   ]
  },
  {
   "cell_type": "code",
   "execution_count": 28,
   "metadata": {
    "collapsed": true
   },
   "outputs": [],
   "source": [
    "featuresDF = df[['bathrooms','bedrooms','price','longitude_codes','latitude_codes','photos','display_address_codes','manager_id_codes']]"
   ]
  },
  {
   "cell_type": "code",
   "execution_count": 29,
   "metadata": {
    "collapsed": false
   },
   "outputs": [
    {
     "data": {
      "text/html": [
       "<div>\n",
       "<table border=\"1\" class=\"dataframe\">\n",
       "  <thead>\n",
       "    <tr style=\"text-align: right;\">\n",
       "      <th></th>\n",
       "      <th>bathrooms</th>\n",
       "      <th>bedrooms</th>\n",
       "      <th>price</th>\n",
       "      <th>longitude_codes</th>\n",
       "      <th>latitude_codes</th>\n",
       "      <th>photos</th>\n",
       "      <th>display_address_codes</th>\n",
       "      <th>manager_id_codes</th>\n",
       "    </tr>\n",
       "  </thead>\n",
       "  <tbody>\n",
       "    <tr>\n",
       "      <th>10</th>\n",
       "      <td>1.5</td>\n",
       "      <td>3</td>\n",
       "      <td>3000</td>\n",
       "      <td>879</td>\n",
       "      <td>867</td>\n",
       "      <td>[https://photos.renthop.com/2/7211212_1ed4542e...</td>\n",
       "      <td>6544</td>\n",
       "      <td>1239</td>\n",
       "    </tr>\n",
       "  </tbody>\n",
       "</table>\n",
       "</div>"
      ],
      "text/plain": [
       "    bathrooms  bedrooms  price  longitude_codes  latitude_codes  \\\n",
       "10        1.5         3   3000              879             867   \n",
       "\n",
       "                                               photos  display_address_codes  \\\n",
       "10  [https://photos.renthop.com/2/7211212_1ed4542e...                   6544   \n",
       "\n",
       "    manager_id_codes  \n",
       "10              1239  "
      ]
     },
     "execution_count": 29,
     "metadata": {},
     "output_type": "execute_result"
    }
   ],
   "source": [
    "featuresDF.head(1)"
   ]
  },
  {
   "cell_type": "code",
   "execution_count": 30,
   "metadata": {
    "collapsed": false
   },
   "outputs": [
    {
     "data": {
      "text/plain": [
       "(0, 0)"
      ]
     },
     "execution_count": 30,
     "metadata": {},
     "output_type": "execute_result"
    }
   ],
   "source": [
    "new_features_df = pd.DataFrame();\n",
    "type(new_features_df)\n",
    "new_features_df.shape"
   ]
  },
  {
   "cell_type": "code",
   "execution_count": 31,
   "metadata": {
    "collapsed": false
   },
   "outputs": [],
   "source": [
    "for row in featuresDF.iterrows():\n",
    "    row[1].set_value('no_of_photos',len((row[1])['photos']));\n",
    "    new_features_df = new_features_df.append(row[1]);"
   ]
  },
  {
   "cell_type": "code",
   "execution_count": 32,
   "metadata": {
    "collapsed": false
   },
   "outputs": [],
   "source": [
    "new_features_df = new_features_df.drop('photos', axis=1)"
   ]
  },
  {
   "cell_type": "code",
   "execution_count": 33,
   "metadata": {
    "collapsed": false
   },
   "outputs": [
    {
     "data": {
      "text/html": [
       "<div>\n",
       "<table border=\"1\" class=\"dataframe\">\n",
       "  <thead>\n",
       "    <tr style=\"text-align: right;\">\n",
       "      <th></th>\n",
       "      <th>bathrooms</th>\n",
       "      <th>bedrooms</th>\n",
       "      <th>display_address_codes</th>\n",
       "      <th>latitude_codes</th>\n",
       "      <th>longitude_codes</th>\n",
       "      <th>manager_id_codes</th>\n",
       "      <th>no_of_photos</th>\n",
       "      <th>price</th>\n",
       "    </tr>\n",
       "  </thead>\n",
       "  <tbody>\n",
       "    <tr>\n",
       "      <th>10</th>\n",
       "      <td>1.5</td>\n",
       "      <td>3.0</td>\n",
       "      <td>6544.0</td>\n",
       "      <td>867.0</td>\n",
       "      <td>879.0</td>\n",
       "      <td>1239.0</td>\n",
       "      <td>5.0</td>\n",
       "      <td>3000.0</td>\n",
       "    </tr>\n",
       "  </tbody>\n",
       "</table>\n",
       "</div>"
      ],
      "text/plain": [
       "    bathrooms  bedrooms  display_address_codes  latitude_codes  \\\n",
       "10        1.5       3.0                 6544.0           867.0   \n",
       "\n",
       "    longitude_codes  manager_id_codes  no_of_photos   price  \n",
       "10            879.0            1239.0           5.0  3000.0  "
      ]
     },
     "execution_count": 33,
     "metadata": {},
     "output_type": "execute_result"
    }
   ],
   "source": [
    "new_features_df.head(1)"
   ]
  },
  {
   "cell_type": "code",
   "execution_count": 36,
   "metadata": {
    "collapsed": false
   },
   "outputs": [
    {
     "name": "stdout",
     "output_type": "stream",
     "text": [
      "37014\n",
      "12338\n",
      "37014\n",
      "12338\n"
     ]
    }
   ],
   "source": [
    "new_features_train, new_features_test, new_features_y_train, new_features_y_test = train_test_split(new_features_df,label_column_list,test_size=0.25,random_state=15,stratify=label_column_list)\n",
    "print len(new_features_train)\n",
    "print len(new_features_test)\n",
    "print len(new_features_y_train)\n",
    "print len(new_features_y_test)"
   ]
  },
  {
   "cell_type": "code",
   "execution_count": 40,
   "metadata": {
    "collapsed": false
   },
   "outputs": [
    {
     "data": {
      "text/plain": [
       "LogisticRegression(C=100000.0, class_weight=None, dual=False,\n",
       "          fit_intercept=True, intercept_scaling=1, max_iter=100,\n",
       "          multi_class='ovr', n_jobs=1, penalty='l2', random_state=None,\n",
       "          solver='liblinear', tol=0.0001, verbose=0, warm_start=False)"
      ]
     },
     "execution_count": 40,
     "metadata": {},
     "output_type": "execute_result"
    }
   ],
   "source": [
    "logit = LogisticRegression(C=1e5)\n",
    "logit.fit(new_features_train,new_features_y_train)"
   ]
  },
  {
   "cell_type": "code",
   "execution_count": 41,
   "metadata": {
    "collapsed": true
   },
   "outputs": [],
   "source": [
    "predict_lab = logit.predict(new_features_test)"
   ]
  },
  {
   "cell_type": "code",
   "execution_count": 42,
   "metadata": {
    "collapsed": true
   },
   "outputs": [],
   "source": [
    "new_features_actual_class_labels = new_features_y_test;\n",
    "new_features_predicted_class_labels = predict_lab.tolist();"
   ]
  },
  {
   "cell_type": "code",
   "execution_count": 44,
   "metadata": {
    "collapsed": false
   },
   "outputs": [
    {
     "name": "stdout",
     "output_type": "stream",
     "text": [
      "             precision    recall  f1-score   support\n",
      "\n",
      "          0       0.50      0.01      0.01       960\n",
      "          1       0.70      0.99      0.82      8571\n",
      "          2       0.33      0.02      0.03      2807\n",
      "\n",
      "avg / total       0.60      0.69      0.58     12338\n",
      "\n"
     ]
    }
   ],
   "source": [
    "print(classification_report(new_features_actual_class_labels, new_features_predicted_class_labels, target_names=target_names))"
   ]
  },
  {
   "cell_type": "code",
   "execution_count": null,
   "metadata": {
    "collapsed": true
   },
   "outputs": [],
   "source": []
  },
  {
   "cell_type": "code",
   "execution_count": null,
   "metadata": {
    "collapsed": true
   },
   "outputs": [],
   "source": []
  },
  {
   "cell_type": "code",
   "execution_count": null,
   "metadata": {
    "collapsed": true
   },
   "outputs": [],
   "source": []
  },
  {
   "cell_type": "code",
   "execution_count": null,
   "metadata": {
    "collapsed": true
   },
   "outputs": [],
   "source": []
  }
 ],
 "metadata": {
  "anaconda-cloud": {},
  "kernelspec": {
   "display_name": "Python 2",
   "language": "python",
   "name": "python2"
  },
  "language_info": {
   "codemirror_mode": {
    "name": "ipython",
    "version": 2
   },
   "file_extension": ".py",
   "mimetype": "text/x-python",
   "name": "python",
   "nbconvert_exporter": "python",
   "pygments_lexer": "ipython2",
   "version": "2.7.13"
  }
 },
 "nbformat": 4,
 "nbformat_minor": 2
}
