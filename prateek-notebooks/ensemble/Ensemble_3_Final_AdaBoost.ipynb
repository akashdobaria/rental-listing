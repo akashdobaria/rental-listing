{
 "cells": [
  {
   "cell_type": "code",
   "execution_count": 1,
   "metadata": {
    "collapsed": false
   },
   "outputs": [
    {
     "name": "stderr",
     "output_type": "stream",
     "text": [
      "C:\\Users\\shekh\\Anaconda2\\lib\\site-packages\\sklearn\\cross_validation.py:44: DeprecationWarning: This module was deprecated in version 0.18 in favor of the model_selection module into which all the refactored classes and functions are moved. Also note that the interface of the new CV iterators are different from that of this module. This module will be removed in 0.20.\n",
      "  \"This module will be removed in 0.20.\", DeprecationWarning)\n"
     ]
    }
   ],
   "source": [
    "import pandas as pd\n",
    "import sklearn\n",
    "import re\n",
    "from sklearn import preprocessing\n",
    "from sklearn.cross_validation import train_test_split\n",
    "from sklearn.cross_validation import cross_val_score\n",
    "from sklearn import svm\n",
    "from sklearn.metrics import precision_recall_fscore_support as prfs\n",
    "from sklearn.metrics import classification_report\n",
    "from nltk.stem.porter import PorterStemmer as porterStemmer\n",
    "from sklearn.feature_extraction.text import TfidfVectorizer\n",
    "from sklearn.metrics import precision_recall_fscore_support\n",
    "from sklearn.ensemble import AdaBoostClassifier\n",
    "from sklearn.metrics import accuracy_score\n",
    "from sklearn.tree import DecisionTreeClassifier\n",
    "from nltk.corpus import stopwords"
   ]
  },
  {
   "cell_type": "code",
   "execution_count": 2,
   "metadata": {
    "collapsed": true
   },
   "outputs": [],
   "source": [
    "stopwords_set = set(stopwords.words('english'));"
   ]
  },
  {
   "cell_type": "code",
   "execution_count": 3,
   "metadata": {
    "collapsed": true
   },
   "outputs": [],
   "source": [
    "def cleanText(inputText):\n",
    "    tempText = inputText;\n",
    "    tempText = re.sub('<[^<]+?>', ' ', tempText);\n",
    "    tempText = re.sub(r'&amp[;]?', r' ', tempText);\n",
    "    tempText = re.sub(r'\\'s', ' ', tempText);\n",
    "    tempText = re.sub(r'[\\w\\.-]+@[\\w\\.-]+', ' ', tempText);\n",
    "    tempText = re.sub(r'[<>!#\\[\\]@/$:.,;%\\()*?-]+', r' ', tempText);\n",
    "    tempText = re.sub(r'\\s+', r' ', tempText);\n",
    "    words_filtered =[word.lower() for word in tempText.split()]\n",
    "    cleanWordsList = [word for word in words_filtered if word not in stopwords_set]      #remove stopwords except few exceptions  \n",
    "    cleanfeature = ' '.join(cleanWordsList)\n",
    "    return cleanfeature"
   ]
  },
  {
   "cell_type": "code",
   "execution_count": 4,
   "metadata": {
    "collapsed": false
   },
   "outputs": [],
   "source": [
    "df = pd.read_json('C:/Users/shekh/Desktop/rentallisting/train.json')"
   ]
  },
  {
   "cell_type": "code",
   "execution_count": 5,
   "metadata": {
    "collapsed": false
   },
   "outputs": [],
   "source": [
    "df['display_address'] = df['display_address'].astype('category')\n",
    "df['display_address_codes'] = df['display_address'].cat.codes\n",
    "\n",
    "df['latitude'] = df['latitude'].astype('category')\n",
    "df['latitude_codes'] = df['latitude'].cat.codes\n",
    "\n",
    "df['longitude'] = df['longitude'].astype('category')\n",
    "df['longitude_codes'] = df['longitude'].cat.codes\n",
    "\n",
    "df['manager_id'] = df['manager_id'].astype('category')\n",
    "df['manager_id_codes'] = df['manager_id'].cat.codes\n",
    "\n",
    "df['interest_level'] = df['interest_level'].astype('category')\n",
    "df['interest_level_codes'] = df['interest_level'].cat.codes"
   ]
  },
  {
   "cell_type": "code",
   "execution_count": 21,
   "metadata": {
    "collapsed": false
   },
   "outputs": [],
   "source": [
    "# jointFeaturesDescDF = df[['description','features']];\n",
    "label_column = df['interest_level_codes']\n",
    "# type(jointFeaturesDescDF)"
   ]
  },
  {
   "cell_type": "code",
   "execution_count": null,
   "metadata": {
    "collapsed": false
   },
   "outputs": [],
   "source": [
    "# jointFeaturesDescList = []\n",
    "# for row in jointFeaturesDescDF.iterrows():\n",
    "#     tempList = row[1];\n",
    "#     description = tempList['description'];\n",
    "#     featureStr = ' '.join(tempList['features']);\n",
    "#     joinedStr = ' '.join([description,\";\",featureStr]);\n",
    "#     joinedStr = cleanText(joinedStr).encode('ascii', 'ignore').strip();\n",
    "#     jointFeaturesDescList.append(joinedStr);"
   ]
  },
  {
   "cell_type": "code",
   "execution_count": null,
   "metadata": {
    "collapsed": false
   },
   "outputs": [],
   "source": [
    "# print len(jointFeaturesDescList);"
   ]
  },
  {
   "cell_type": "code",
   "execution_count": null,
   "metadata": {
    "collapsed": false
   },
   "outputs": [],
   "source": [
    "# jointFeaturesDescList[1]"
   ]
  },
  {
   "cell_type": "code",
   "execution_count": 22,
   "metadata": {
    "collapsed": false
   },
   "outputs": [],
   "source": [
    "label_column_list = label_column.tolist();"
   ]
  },
  {
   "cell_type": "code",
   "execution_count": null,
   "metadata": {
    "collapsed": true
   },
   "outputs": [],
   "source": [
    "# # Create feature vectors\n",
    "# vectorizer = TfidfVectorizer(min_df=0.00125,\n",
    "#                              max_df = 0.80,\n",
    "#                              sublinear_tf=True,\n",
    "#                              use_idf=True,\n",
    "#                              stop_words=u'english',\n",
    "#                              analyzer='word',\n",
    "#                              ngram_range=(1,3),lowercase=True)"
   ]
  },
  {
   "cell_type": "code",
   "execution_count": null,
   "metadata": {
    "collapsed": false
   },
   "outputs": [],
   "source": [
    "# totalVectors = vectorizer.fit_transform(jointFeaturesDescList);\n",
    "# print totalVectors.shape"
   ]
  },
  {
   "cell_type": "code",
   "execution_count": null,
   "metadata": {
    "collapsed": false
   },
   "outputs": [],
   "source": [
    "# X_train, X_test, y_train, y_test = train_test_split(totalVectors,label_column_list,test_size=0.25,random_state=15,stratify=label_column_list);"
   ]
  },
  {
   "cell_type": "code",
   "execution_count": null,
   "metadata": {
    "collapsed": false
   },
   "outputs": [],
   "source": [
    "# print X_train.shape\n",
    "# print X_test.shape"
   ]
  },
  {
   "cell_type": "code",
   "execution_count": null,
   "metadata": {
    "collapsed": false
   },
   "outputs": [],
   "source": [
    "# adaBoostClassifier = AdaBoostClassifier(DecisionTreeClassifier(max_depth=3),n_estimators=600,learning_rate=1)"
   ]
  },
  {
   "cell_type": "code",
   "execution_count": null,
   "metadata": {
    "collapsed": false
   },
   "outputs": [],
   "source": [
    "# adaBoostClassifier.fit(X_train,y_train)"
   ]
  },
  {
   "cell_type": "code",
   "execution_count": null,
   "metadata": {
    "collapsed": false
   },
   "outputs": [],
   "source": [
    "# # predicted_labels = adaBoostClassifier.predict(X_test)\n",
    "# predicted_labels = adaBoostClassifier.predict(X_test)\n",
    "# staged_predictions = [p for p in adaBoostClassifier.staged_predict(X_test)]\n",
    "# staged_scores = [s for s in adaBoostClassifier.staged_score(X_test,y_test)]"
   ]
  },
  {
   "cell_type": "code",
   "execution_count": null,
   "metadata": {
    "collapsed": false
   },
   "outputs": [],
   "source": [
    "# print len(staged_scores)\n",
    "# print staged_scores;"
   ]
  },
  {
   "cell_type": "code",
   "execution_count": null,
   "metadata": {
    "collapsed": false
   },
   "outputs": [],
   "source": [
    "# for i in range(1,601):\n",
    "#     if i % 60 == 0:\n",
    "#         print staged_scores[i];"
   ]
  },
  {
   "cell_type": "code",
   "execution_count": 6,
   "metadata": {
    "collapsed": true
   },
   "outputs": [],
   "source": [
    "target_names = ['0', '1', '2']"
   ]
  },
  {
   "cell_type": "code",
   "execution_count": null,
   "metadata": {
    "collapsed": false
   },
   "outputs": [],
   "source": [
    "# actual_class_labels = y_test;\n",
    "# predicted_class_labels = predicted_labels.tolist();"
   ]
  },
  {
   "cell_type": "code",
   "execution_count": null,
   "metadata": {
    "collapsed": false
   },
   "outputs": [],
   "source": [
    "# print(classification_report(actual_class_labels, predicted_class_labels, target_names=target_names))"
   ]
  },
  {
   "cell_type": "code",
   "execution_count": null,
   "metadata": {
    "collapsed": true
   },
   "outputs": [],
   "source": [
    "# cvScores = cross_val_score(adaBoostClassifier, totalVectors, label_column_list, cv=10, scoring='f1_micro');\n",
    "# print cvScores;"
   ]
  },
  {
   "cell_type": "code",
   "execution_count": 7,
   "metadata": {
    "collapsed": false
   },
   "outputs": [
    {
     "data": {
      "text/plain": [
       "Index([            u'bathrooms',              u'bedrooms',\n",
       "                 u'building_id',               u'created',\n",
       "                 u'description',       u'display_address',\n",
       "                    u'features',        u'interest_level',\n",
       "                    u'latitude',            u'listing_id',\n",
       "                   u'longitude',            u'manager_id',\n",
       "                      u'photos',                 u'price',\n",
       "              u'street_address', u'display_address_codes',\n",
       "              u'latitude_codes',       u'longitude_codes',\n",
       "            u'manager_id_codes',  u'interest_level_codes'],\n",
       "      dtype='object')"
      ]
     },
     "execution_count": 7,
     "metadata": {},
     "output_type": "execute_result"
    }
   ],
   "source": [
    "df.columns"
   ]
  },
  {
   "cell_type": "code",
   "execution_count": 8,
   "metadata": {
    "collapsed": true
   },
   "outputs": [],
   "source": [
    "featuresDF = df[['bathrooms','bedrooms','price','longitude_codes','latitude_codes','photos','display_address_codes','manager_id_codes']]"
   ]
  },
  {
   "cell_type": "code",
   "execution_count": 9,
   "metadata": {
    "collapsed": false
   },
   "outputs": [
    {
     "data": {
      "text/html": [
       "<div>\n",
       "<table border=\"1\" class=\"dataframe\">\n",
       "  <thead>\n",
       "    <tr style=\"text-align: right;\">\n",
       "      <th></th>\n",
       "      <th>bathrooms</th>\n",
       "      <th>bedrooms</th>\n",
       "      <th>price</th>\n",
       "      <th>longitude_codes</th>\n",
       "      <th>latitude_codes</th>\n",
       "      <th>photos</th>\n",
       "      <th>display_address_codes</th>\n",
       "      <th>manager_id_codes</th>\n",
       "    </tr>\n",
       "  </thead>\n",
       "  <tbody>\n",
       "    <tr>\n",
       "      <th>10</th>\n",
       "      <td>1.5</td>\n",
       "      <td>3</td>\n",
       "      <td>3000</td>\n",
       "      <td>879</td>\n",
       "      <td>867</td>\n",
       "      <td>[https://photos.renthop.com/2/7211212_1ed4542e...</td>\n",
       "      <td>6544</td>\n",
       "      <td>1239</td>\n",
       "    </tr>\n",
       "  </tbody>\n",
       "</table>\n",
       "</div>"
      ],
      "text/plain": [
       "    bathrooms  bedrooms  price  longitude_codes  latitude_codes  \\\n",
       "10        1.5         3   3000              879             867   \n",
       "\n",
       "                                               photos  display_address_codes  \\\n",
       "10  [https://photos.renthop.com/2/7211212_1ed4542e...                   6544   \n",
       "\n",
       "    manager_id_codes  \n",
       "10              1239  "
      ]
     },
     "execution_count": 9,
     "metadata": {},
     "output_type": "execute_result"
    }
   ],
   "source": [
    "featuresDF.head(1)"
   ]
  },
  {
   "cell_type": "code",
   "execution_count": 10,
   "metadata": {
    "collapsed": false
   },
   "outputs": [
    {
     "data": {
      "text/plain": [
       "(0, 0)"
      ]
     },
     "execution_count": 10,
     "metadata": {},
     "output_type": "execute_result"
    }
   ],
   "source": [
    "new_features_df = pd.DataFrame();\n",
    "type(new_features_df)\n",
    "new_features_df.shape"
   ]
  },
  {
   "cell_type": "code",
   "execution_count": 11,
   "metadata": {
    "collapsed": false
   },
   "outputs": [],
   "source": [
    "for row in featuresDF.iterrows():\n",
    "    row[1].set_value('no_of_photos',len((row[1])['photos']));\n",
    "    new_features_df = new_features_df.append(row[1]);"
   ]
  },
  {
   "cell_type": "code",
   "execution_count": 16,
   "metadata": {
    "collapsed": false
   },
   "outputs": [],
   "source": [
    "#new_features_df = new_features_df.drop('photos', axis=1)\n",
    "new_features_df['bathrooms'] = new_features_df['bathrooms'].astype('category')\n",
    "new_features_df['bedrooms'] = new_features_df['bedrooms'].astype('category')\n",
    "new_features_df['latitude_codes'] = new_features_df['latitude_codes'].astype('category')\n",
    "new_features_df['longitude_codes'] = new_features_df['longitude_codes'].astype('category')\n",
    "new_features_df['manager_id_codes'] = new_features_df['manager_id_codes'].astype('category')\n",
    "new_features_df['no_of_photos'] = new_features_df['no_of_photos'].astype('category')\n",
    "new_features_df['price'] = new_features_df['price'].astype('category')"
   ]
  },
  {
   "cell_type": "code",
   "execution_count": 17,
   "metadata": {
    "collapsed": false
   },
   "outputs": [
    {
     "data": {
      "text/html": [
       "<div>\n",
       "<table border=\"1\" class=\"dataframe\">\n",
       "  <thead>\n",
       "    <tr style=\"text-align: right;\">\n",
       "      <th></th>\n",
       "      <th>bathrooms</th>\n",
       "      <th>bedrooms</th>\n",
       "      <th>display_address_codes</th>\n",
       "      <th>latitude_codes</th>\n",
       "      <th>longitude_codes</th>\n",
       "      <th>manager_id_codes</th>\n",
       "      <th>no_of_photos</th>\n",
       "      <th>price</th>\n",
       "    </tr>\n",
       "  </thead>\n",
       "  <tbody>\n",
       "    <tr>\n",
       "      <th>10</th>\n",
       "      <td>1.5</td>\n",
       "      <td>3.0</td>\n",
       "      <td>6544.0</td>\n",
       "      <td>867.0</td>\n",
       "      <td>879.0</td>\n",
       "      <td>1239.0</td>\n",
       "      <td>5.0</td>\n",
       "      <td>3000.0</td>\n",
       "    </tr>\n",
       "  </tbody>\n",
       "</table>\n",
       "</div>"
      ],
      "text/plain": [
       "   bathrooms bedrooms  display_address_codes latitude_codes longitude_codes  \\\n",
       "10       1.5      3.0                 6544.0          867.0           879.0   \n",
       "\n",
       "   manager_id_codes no_of_photos   price  \n",
       "10           1239.0          5.0  3000.0  "
      ]
     },
     "execution_count": 17,
     "metadata": {},
     "output_type": "execute_result"
    }
   ],
   "source": [
    "new_features_df.head(1)"
   ]
  },
  {
   "cell_type": "code",
   "execution_count": 23,
   "metadata": {
    "collapsed": false
   },
   "outputs": [
    {
     "name": "stdout",
     "output_type": "stream",
     "text": [
      "37014\n",
      "12338\n",
      "37014\n",
      "12338\n",
      "(37014, 8)\n",
      "(37014, 1)\n"
     ]
    }
   ],
   "source": [
    "label_df = pd.DataFrame(label_column_list);\n",
    "new_features_train, new_features_test, new_features_y_train, new_features_y_test = train_test_split(new_features_df,label_df,test_size=0.25,random_state=15,stratify=label_column_list)\n",
    "print len(new_features_train)\n",
    "print len(new_features_test)\n",
    "print len(new_features_y_train)\n",
    "print len(new_features_y_test)\n",
    "print new_features_train.shape\n",
    "print new_features_y_train.shape"
   ]
  },
  {
   "cell_type": "code",
   "execution_count": 25,
   "metadata": {
    "collapsed": false
   },
   "outputs": [
    {
     "name": "stdout",
     "output_type": "stream",
     "text": [
      "      bathrooms bedrooms  display_address_codes latitude_codes  \\\n",
      "99373       1.0      1.0                 5143.0         1401.0   \n",
      "\n",
      "      longitude_codes manager_id_codes no_of_photos   price  \n",
      "99373           760.0           3390.0          4.0  2100.0  \n"
     ]
    }
   ],
   "source": [
    "print new_features_train.head(1)"
   ]
  },
  {
   "cell_type": "code",
   "execution_count": 26,
   "metadata": {
    "collapsed": false
   },
   "outputs": [],
   "source": [
    "adaBoostClassifier_NumericCols = AdaBoostClassifier(DecisionTreeClassifier(max_depth=3),n_estimators=600,learning_rate=1)"
   ]
  },
  {
   "cell_type": "code",
   "execution_count": 27,
   "metadata": {
    "collapsed": false
   },
   "outputs": [
    {
     "name": "stderr",
     "output_type": "stream",
     "text": [
      "C:\\Users\\shekh\\Anaconda2\\lib\\site-packages\\sklearn\\utils\\validation.py:526: DataConversionWarning: A column-vector y was passed when a 1d array was expected. Please change the shape of y to (n_samples, ), for example using ravel().\n",
      "  y = column_or_1d(y, warn=True)\n"
     ]
    },
    {
     "data": {
      "text/plain": [
       "AdaBoostClassifier(algorithm='SAMME.R',\n",
       "          base_estimator=DecisionTreeClassifier(class_weight=None, criterion='gini', max_depth=3,\n",
       "            max_features=None, max_leaf_nodes=None,\n",
       "            min_impurity_split=1e-07, min_samples_leaf=1,\n",
       "            min_samples_split=2, min_weight_fraction_leaf=0.0,\n",
       "            presort=False, random_state=None, splitter='best'),\n",
       "          learning_rate=1, n_estimators=600, random_state=None)"
      ]
     },
     "execution_count": 27,
     "metadata": {},
     "output_type": "execute_result"
    }
   ],
   "source": [
    "adaBoostClassifier_NumericCols.fit(new_features_train,new_features_y_train)"
   ]
  },
  {
   "cell_type": "code",
   "execution_count": 28,
   "metadata": {
    "collapsed": true
   },
   "outputs": [],
   "source": [
    "# predict_lab = adaBoostClassifier_NumericCols.predict(new_features_test)\n",
    "# predicted_labels = adaBoostClassifier.predict(X_test)\n",
    "staged_predictions_new_features = adaBoostClassifier_NumericCols.staged_predict(new_features_test)\n",
    "staged_scores_new_features = [s for s in adaBoostClassifier_NumericCols.staged_score(new_features_test,new_features_y_test)]"
   ]
  },
  {
   "cell_type": "code",
   "execution_count": 31,
   "metadata": {
    "collapsed": false
   },
   "outputs": [
    {
     "name": "stdout",
     "output_type": "stream",
     "text": [
      "600\n",
      "[0.69760090776462957, 0.69751985735127253, 0.69784405900470092, 0.70059977305884258, 0.70108607553898528, 0.70197763008591341, 0.70222078132598476, 0.70230183173934191, 0.70343653752634139, 0.70197763008591341, 0.70432809207326952, 0.70586804992705465, 0.70643540282055439, 0.70538174744691196, 0.70659750364726859, 0.70846166315448211, 0.70911006646133901, 0.70838061274112496, 0.70854271356783916, 0.7089479656346247, 0.7089479656346247, 0.70773220943426807, 0.70748905819419683, 0.70902901604798185, 0.70789431026098237, 0.70716485654076833, 0.70773220943426807, 0.70870481439455346, 0.70789431026098237, 0.70886691522126766, 0.70886691522126766, 0.71000162100826714, 0.71000162100826714, 0.71073107472848107, 0.71065002431512403, 0.71113632679526662, 0.71032582266169553, 0.71024477224833849, 0.70992057059490998, 0.70992057059490998, 0.70935321770141024, 0.70911006646133901, 0.70951531852812444, 0.7092721672880532, 0.70992057059490998, 0.71024477224833849, 0.7087858648079105, 0.7087858648079105, 0.70813746150105361, 0.70870481439455346, 0.70902901604798185, 0.70992057059490998, 0.70911006646133901, 0.70959636894148159, 0.70992057059490998, 0.7087858648079105, 0.70911006646133901, 0.70975846976819579, 0.70902901604798185, 0.71032582266169553, 0.71146052844869512, 0.70992057059490998, 0.70959636894148159, 0.70935321770141024, 0.70983952018155294, 0.7094342681147674, 0.71056897390176688, 0.70975846976819579, 0.70959636894148159, 0.70975846976819579, 0.70967741935483875, 0.70975846976819579, 0.70919111687469605, 0.70951531852812444, 0.71056897390176688, 0.71040687307505268, 0.70983952018155294, 0.70975846976819579, 0.71040687307505268, 0.71024477224833849, 0.71048792348840983, 0.71137947803533796, 0.71089317555519538, 0.71032582266169553, 0.71089317555519538, 0.71073107472848107, 0.71170367968876647, 0.7119468309288377, 0.71178473010212351, 0.71178473010212351, 0.71154157886205216, 0.71081212514183822, 0.71097422596855242, 0.7121089317555519, 0.71105527638190957, 0.71154157886205216, 0.71081212514183822, 0.71024477224833849, 0.71081212514183822, 0.71129842762198092, 0.71073107472848107, 0.71073107472848107, 0.71089317555519538, 0.71121737720862377, 0.71065002431512403, 0.71129842762198092, 0.71218998216890905, 0.71162262927540931, 0.71146052844869512, 0.71178473010212351, 0.71348678878262284, 0.71381099043605123, 0.71445939374290812, 0.71397309126276542, 0.71348678878262284, 0.71300048630248014, 0.71308153671583729, 0.71251418382233744, 0.71267628464905175, 0.71202788134219486, 0.71300048630248014, 0.71275733506240879, 0.71348678878262284, 0.71372994002269408, 0.71340573836926569, 0.71356783919597988, 0.71364888960933703, 0.71462149456962232, 0.71535094828983625, 0.71445939374290812, 0.71494569622305071, 0.71478359539633651, 0.71429729291619393, 0.71372994002269408, 0.71356783919597988, 0.71437834332955097, 0.71454044415626516, 0.7155940995299076, 0.7155940995299076, 0.71486464580969367, 0.7157562003566218, 0.7160804020100503, 0.71689090614362139, 0.71535094828983625, 0.71486464580969367, 0.71462149456962232, 0.71372994002269408, 0.71421624250283677, 0.71454044415626516, 0.71445939374290812, 0.71445939374290812, 0.71429729291619393, 0.71437834332955097, 0.71413519208947962, 0.71478359539633651, 0.71478359539633651, 0.71356783919597988, 0.71372994002269408, 0.71356783919597988, 0.71291943588912299, 0.71283838547576595, 0.7125952342356946, 0.71235208299562325, 0.71178473010212351, 0.71218998216890905, 0.71218998216890905, 0.71202788134219486, 0.71218998216890905, 0.71275733506240879, 0.7125952342356946, 0.7119468309288377, 0.71283838547576595, 0.71267628464905175, 0.71137947803533796, 0.71170367968876647, 0.71235208299562325, 0.7119468309288377, 0.71097422596855242, 0.71154157886205216, 0.71162262927540931, 0.71154157886205216, 0.71097422596855242, 0.71105527638190957, 0.71048792348840983, 0.70992057059490998, 0.71008267142162429, 0.71024477224833849, 0.71121737720862377, 0.7094342681147674, 0.71008267142162429, 0.71000162100826714, 0.71024477224833849, 0.70983952018155294, 0.71016372183498133, 0.71040687307505268, 0.71024477224833849, 0.71016372183498133, 0.70870481439455346, 0.70902901604798185, 0.70846166315448211, 0.70813746150105361, 0.70724590695412548, 0.7057869995136975, 0.7056248986869833, 0.70570594910034046, 0.70651645323391155, 0.70643540282055439, 0.7062733019938402, 0.70659750364726859, 0.70594910034041169, 0.706111201167126, 0.70667855406062574, 0.70684065488733994, 0.70692170530069698, 0.70675960447398278, 0.70765115902091102, 0.70675960447398278, 0.70700275571405413, 0.70594910034041169, 0.70692170530069698, 0.70740800778083968, 0.70773220943426807, 0.70781325984762522, 0.70821851191441076, 0.7087858648079105, 0.70862376398119631, 0.70846166315448211, 0.70757010860755387, 0.70797536067433942, 0.7087858648079105, 0.70846166315448211, 0.70846166315448211, 0.7087858648079105, 0.70870481439455346, 0.70829956232776792, 0.70805641108769657, 0.70829956232776792, 0.70789431026098237, 0.70757010860755387, 0.70765115902091102, 0.70829956232776792, 0.70732695736748252, 0.70675960447398278, 0.70521964662019776, 0.70594910034041169, 0.70659750364726859, 0.70684065488733994, 0.70619225158048304, 0.7062733019938402, 0.70724590695412548, 0.70789431026098237, 0.70667855406062574, 0.70740800778083968, 0.70700275571405413, 0.70675960447398278, 0.70635435240719724, 0.70643540282055439, 0.7057869995136975, 0.70489544496676937, 0.70449019289998382, 0.70586804992705465, 0.70619225158048304, 0.706111201167126, 0.70708380612741129, 0.70603015075376885, 0.70603015075376885, 0.70473334414005506, 0.70489544496676937, 0.70513859620684061, 0.7056248986869833, 0.70521964662019776, 0.7056248986869833, 0.70497649538012641, 0.70594910034041169, 0.7056248986869833, 0.70367968876641274, 0.70376073917976978, 0.70295023504619869, 0.70367968876641274, 0.70440914248662667, 0.70400389041984113, 0.70424704165991248, 0.70400389041984113, 0.70359863835305558, 0.70335548711298423, 0.70376073917976978, 0.70327443669962719, 0.70335548711298423, 0.70335548711298423, 0.70376073917976978, 0.70376073917976978, 0.70400389041984113, 0.70408494083319828, 0.70416599124655532, 0.70400389041984113, 0.70367968876641274, 0.70449019289998382, 0.70457124331334087, 0.70416599124655532, 0.70408494083319828, 0.70408494083319828, 0.70465229372669802, 0.70457124331334087, 0.70449019289998382, 0.70392284000648409, 0.70400389041984113, 0.70343653752634139, 0.70359863835305558, 0.70392284000648409, 0.70400389041984113, 0.70473334414005506, 0.70319338628627004, 0.70367968876641274, 0.70335548711298423, 0.70343653752634139, 0.70367968876641274, 0.70343653752634139, 0.70254498297941315, 0.70359863835305558, 0.703112335872913, 0.70384178959312693, 0.70392284000648409, 0.70392284000648409, 0.70303128545955584, 0.70295023504619869, 0.70343653752634139, 0.70327443669962719, 0.70367968876641274, 0.70384178959312693, 0.70254498297941315, 0.70205868049927056, 0.70230183173934191, 0.70197763008591341, 0.70222078132598476, 0.7026260333927703, 0.70230183173934191, 0.70278813421948449, 0.70270708380612745, 0.70238288215269895, 0.70222078132598476, 0.70327443669962719, 0.70286918463284165, 0.70157237801912786, 0.70132922677905662, 0.70141027719241367, 0.70124817636569947, 0.70132922677905662, 0.70116712595234232, 0.70132922677905662, 0.70173447884584217, 0.70011347057869999, 0.70100502512562812, 0.70173447884584217, 0.70157237801912786, 0.70197763008591341, 0.70149132760577082, 0.70181552925919921, 0.7021397309126276, 0.70116712595234232, 0.70108607553898528, 0.70197763008591341, 0.70197763008591341, 0.70141027719241367, 0.70124817636569947, 0.70132922677905662, 0.70051872264548554, 0.70108607553898528, 0.69978926892527149, 0.70141027719241367, 0.70059977305884258, 0.70124817636569947, 0.70230183173934191, 0.70035662181877123, 0.69808721024477227, 0.69841141189820066, 0.69808721024477227, 0.69776300859134377, 0.69833036148484362, 0.69808721024477227, 0.69768195817798673, 0.69857351272491486, 0.6994650672718431, 0.69873561355162916, 0.69922191603177175, 0.6993029664451289, 0.6993029664451289, 0.69849246231155782, 0.69833036148484362, 0.69784405900470092, 0.69760090776462957, 0.69816826065812931, 0.69833036148484362, 0.69792510941805808, 0.69865456313827201, 0.69954611768520014, 0.69881666396498621, 0.69889771437834336, 0.69865456313827201, 0.6989787647917004, 0.69873561355162916, 0.69905981520505756, 0.69914086561841471, 0.6993029664451289, 0.69849246231155782, 0.69905981520505756, 0.69865456313827201, 0.69873561355162916, 0.6993029664451289, 0.6994650672718431, 0.69922191603177175, 0.6993029664451289, 0.69987031933862864, 0.69922191603177175, 0.69938401685848595, 0.70011347057869999, 0.69914086561841471, 0.69914086561841471, 0.69914086561841471, 0.69881666396498621, 0.69873561355162916, 0.6989787647917004, 0.69857351272491486, 0.69816826065812931, 0.69833036148484362, 0.69987031933862864, 0.69978926892527149, 0.69995136975198569, 0.70011347057869999, 0.70068082347219973, 0.70076187388555677, 0.70068082347219973, 0.70051872264548554, 0.6989787647917004, 0.69833036148484362, 0.69857351272491486, 0.69784405900470092, 0.69719565569784403, 0.69751985735127253, 0.69751985735127253, 0.69865456313827201, 0.69922191603177175, 0.69938401685848595, 0.69970821851191445, 0.69849246231155782, 0.6961420003242017, 0.69662830280434429, 0.69525044577727346, 0.69452099205705953, 0.69492624412384507, 0.69468309288377372, 0.69330523585670289, 0.69395363916355979, 0.69338628627005994, 0.69322418544334574, 0.69338628627005994, 0.69427784081698818, 0.69411573999027398, 0.69379153833684548, 0.69354838709677424, 0.69354838709677424, 0.69289998378991735, 0.69257578213648885, 0.69241368130977465, 0.69257578213648885, 0.69306208461663155, 0.69354838709677424, 0.69257578213648885, 0.69273788296320316, 0.69306208461663155, 0.69346733668341709, 0.69362943751013129, 0.692656832549846, 0.69362943751013129, 0.69403468957691683, 0.69403468957691683, 0.69411573999027398, 0.69419679040363103, 0.69435889123034522, 0.69411573999027398, 0.69354838709677424, 0.69379153833684548, 0.6928189333765602, 0.69249473172313181, 0.69354838709677424, 0.69338628627005994, 0.69379153833684548, 0.69346733668341709, 0.6928189333765602, 0.69298103420327439, 0.69273788296320316, 0.69257578213648885, 0.69289998378991735, 0.6921705300697033, 0.69160317717620357, 0.69200842924298911, 0.69249473172313181, 0.6928189333765602, 0.69289998378991735, 0.6931431350299887, 0.69257578213648885, 0.69289998378991735, 0.6928189333765602, 0.69257578213648885, 0.69241368130977465, 0.69241368130977465, 0.69200842924298911, 0.69184632841627491, 0.69119792510941802, 0.69095477386934678, 0.69119792510941802, 0.69144107634948937, 0.69152212676284652, 0.69257578213648885, 0.69289998378991735, 0.69306208461663155, 0.69362943751013129, 0.6928189333765602, 0.69354838709677424, 0.69330523585670289, 0.69330523585670289, 0.69443994164370237, 0.69427784081698818, 0.69435889123034522, 0.69419679040363103, 0.69403468957691683, 0.69403468957691683, 0.69338628627005994, 0.69233263089641761, 0.69273788296320316, 0.69208947965634626, 0.69192737882963207, 0.69233263089641761, 0.69208947965634626, 0.69233263089641761, 0.69160317717620357, 0.69168422758956072, 0.69160317717620357, 0.69241368130977465, 0.69249473172313181, 0.69192737882963207, 0.69119792510941802, 0.69208947965634626, 0.69136002593613233, 0.69160317717620357, 0.69176527800291776, 0.69111687469606098, 0.68982006808234719, 0.69030637056248989, 0.69022532014913274, 0.6901442697357757, 0.689657967255633, 0.689657967255633, 0.689657967255633, 0.68933376560220461, 0.69063057221591828, 0.69103582428270383, 0.68925271518884745, 0.69038742097584693, 0.69127897552277517, 0.69046847138920409, 0.68990111849570435, 0.68973901766899015, 0.68973901766899015, 0.69006321932241854, 0.6894958664289188, 0.68973901766899015, 0.68844221105527637, 0.68884746312206191, 0.68836116064191932, 0.6901442697357757, 0.68941481601556165, 0.68819905981520502, 0.68828011022856217, 0.68844221105527637, 0.68819905981520502, 0.68982006808234719, 0.69046847138920409, 0.69079267304263248, 0.69063057221591828, 0.69022532014913274, 0.69038742097584693, 0.69136002593613233, 0.69030637056248989, 0.69127897552277517, 0.69111687469606098, 0.69192737882963207, 0.69168422758956072, 0.692656832549846, 0.69273788296320316, 0.69322418544334574, 0.69387258875020263, 0.69371048792348844, 0.69411573999027398, 0.69395363916355979, 0.69508834495055927, 0.69508834495055927, 0.69460204247041657, 0.69443994164370237, 0.69395363916355979, 0.69330523585670289]\n"
     ]
    }
   ],
   "source": [
    "print len(staged_scores_new_features)\n",
    "print staged_scores_new_features;"
   ]
  },
  {
   "cell_type": "code",
   "execution_count": 32,
   "metadata": {
    "collapsed": false
   },
   "outputs": [
    {
     "name": "stdout",
     "output_type": "stream",
     "text": [
      "0.711460528449\n",
      "0.713000486302\n",
      "0.711541578862\n",
      "0.708299562328\n",
      "0.704084940833\n",
      "0.701977630086\n",
      "0.698978764792\n",
      "0.693791538337\n",
      "0.691197925109\n"
     ]
    },
    {
     "ename": "IndexError",
     "evalue": "list index out of range",
     "output_type": "error",
     "traceback": [
      "\u001b[0;31m---------------------------------------------------------------------------\u001b[0m",
      "\u001b[0;31mIndexError\u001b[0m                                Traceback (most recent call last)",
      "\u001b[0;32m<ipython-input-32-6f344a32d0b7>\u001b[0m in \u001b[0;36m<module>\u001b[0;34m()\u001b[0m\n\u001b[1;32m      1\u001b[0m \u001b[1;32mfor\u001b[0m \u001b[0mi\u001b[0m \u001b[1;32min\u001b[0m \u001b[0mrange\u001b[0m\u001b[1;33m(\u001b[0m\u001b[1;36m1\u001b[0m\u001b[1;33m,\u001b[0m\u001b[1;36m601\u001b[0m\u001b[1;33m)\u001b[0m\u001b[1;33m:\u001b[0m\u001b[1;33m\u001b[0m\u001b[0m\n\u001b[1;32m      2\u001b[0m     \u001b[1;32mif\u001b[0m \u001b[0mi\u001b[0m \u001b[1;33m%\u001b[0m \u001b[1;36m60\u001b[0m \u001b[1;33m==\u001b[0m \u001b[1;36m0\u001b[0m\u001b[1;33m:\u001b[0m\u001b[1;33m\u001b[0m\u001b[0m\n\u001b[0;32m----> 3\u001b[0;31m         \u001b[1;32mprint\u001b[0m \u001b[0mstaged_scores_new_features\u001b[0m\u001b[1;33m[\u001b[0m\u001b[0mi\u001b[0m\u001b[1;33m]\u001b[0m\u001b[1;33m;\u001b[0m\u001b[1;33m\u001b[0m\u001b[0m\n\u001b[0m",
      "\u001b[0;31mIndexError\u001b[0m: list index out of range"
     ]
    }
   ],
   "source": [
    "for i in range(1,601):\n",
    "    if i % 60 == 0:\n",
    "        print staged_scores_new_features[i];"
   ]
  },
  {
   "cell_type": "code",
   "execution_count": null,
   "metadata": {
    "collapsed": true
   },
   "outputs": [],
   "source": [
    "new_features_actual_class_labels = new_features_y_test;\n",
    "new_features_predicted_class_labels = predict_lab.tolist();"
   ]
  },
  {
   "cell_type": "code",
   "execution_count": null,
   "metadata": {
    "collapsed": false
   },
   "outputs": [],
   "source": [
    "print(classification_report(new_features_actual_class_labels, new_features_predicted_class_labels, target_names=target_names))"
   ]
  },
  {
   "cell_type": "code",
   "execution_count": null,
   "metadata": {
    "collapsed": true
   },
   "outputs": [],
   "source": [
    "cvScores = cross_val_score(adaBoostClassifier_NumericCols, new_features_df, label_df, cv=10, scoring='f1_micro');\n",
    "print cvScores;"
   ]
  },
  {
   "cell_type": "code",
   "execution_count": 37,
   "metadata": {
    "collapsed": false
   },
   "outputs": [
    {
     "data": {
      "image/png": "[encoded data removed]",
      "text/plain": [
       "<matplotlib.figure.Figure at 0x2355cef0>"
      ]
     },
     "metadata": {},
     "output_type": "display_data"
    }
   ],
   "source": [
    "import matplotlib.pyplot as plt\n",
    "import numpy as np\n",
    "\n",
    "builds = np.array([1, 2, 3, 4,5,6,7,8,9,10])\n",
    "y_stack = np.row_stack(([1, 2, 3, 4,5,6,7,8,9,10],[0.693305236,0.691197925,0.693791538,0.698978765,0.70197763,0.704084941,0.708299562,0.711541579,0.713000486,0.711460528],[0.716728805317,0.71510779705,0.713729940023,0.715675149943,0.715269897876,0.715188847463,0.71559409953,0.71583725077,0.715026746636,0.71486464581])) \n",
    "\n",
    "fig = plt.figure(figsize=(11,8))\n",
    "ax1 = fig.add_subplot(111)\n",
    "\n",
    "ax1.plot(builds, y_stack[1,:], label='Categorical Features - Ada Boost', color='r', marker='o')\n",
    "ax1.plot(builds, y_stack[2,:], label='Categorical Features - Random Forest', color='g', marker='o')\n",
    "# ax1.plot(builds, y_stack[1,:], label='Component 2', color='g', marker='o')\n",
    "\n",
    "plt.xticks(builds)\n",
    "plt.xlabel('No of Iterations')\n",
    "plt.ylabel('Accuracy Score')\n",
    "\n",
    "handles, labels = ax1.get_legend_handles_labels()\n",
    "lgd = ax1.legend(handles, labels, loc='upper center', bbox_to_anchor=(1.15,1))\n",
    "ax1.grid('on')\n",
    "\n",
    "plt.show()"
   ]
  },
  {
   "cell_type": "code",
   "execution_count": null,
   "metadata": {
    "collapsed": true
   },
   "outputs": [],
   "source": []
  },
  {
   "cell_type": "code",
   "execution_count": null,
   "metadata": {
    "collapsed": true
   },
   "outputs": [],
   "source": []
  }
 ],
 "metadata": {
  "anaconda-cloud": {},
  "kernelspec": {
   "display_name": "Python 2",
   "language": "python",
   "name": "python2"
  },
  "language_info": {
   "codemirror_mode": {
    "name": "ipython",
    "version": 2
   },
   "file_extension": ".py",
   "mimetype": "text/x-python",
   "name": "python",
   "nbconvert_exporter": "python",
   "pygments_lexer": "ipython2",
   "version": "2.7.13"
  }
 },
 "nbformat": 4,
 "nbformat_minor": 2
}
