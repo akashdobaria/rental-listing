{
 "cells": [
  {
   "cell_type": "code",
   "execution_count": 1,
   "metadata": {
    "collapsed": false
   },
   "outputs": [
    {
     "name": "stderr",
     "output_type": "stream",
     "text": [
      "C:\\Users\\shekh\\Anaconda2\\lib\\site-packages\\sklearn\\cross_validation.py:44: DeprecationWarning: This module was deprecated in version 0.18 in favor of the model_selection module into which all the refactored classes and functions are moved. Also note that the interface of the new CV iterators are different from that of this module. This module will be removed in 0.20.\n",
      "  \"This module will be removed in 0.20.\", DeprecationWarning)\n"
     ]
    }
   ],
   "source": [
    "import pandas as pd\n",
    "from sklearn import preprocessing\n",
    "from sklearn.cross_validation import train_test_split\n",
    "from sklearn import svm\n",
    "from sklearn.metrics import precision_recall_fscore_support as prfs\n",
    "from sklearn.metrics import classification_report\n",
    "from sklearn.cross_validation import cross_val_score\n",
    "import sklearn\n",
    "import HTMLParser\n",
    "import re\n",
    "from nltk.stem.porter import PorterStemmer as porterStemmer\n",
    "from sklearn.feature_extraction.text import TfidfVectorizer\n",
    "from sklearn.ensemble import ExtraTreesClassifier\n",
    "from sklearn.ensemble import RandomForestClassifier\n",
    "from sklearn.metrics import precision_recall_fscore_support\n",
    "from sklearn.linear_model import LogisticRegression\n",
    "from nltk.corpus import stopwords"
   ]
  },
  {
   "cell_type": "code",
   "execution_count": 2,
   "metadata": {
    "collapsed": true
   },
   "outputs": [],
   "source": [
    "stopwords_set = set(stopwords.words('english'));"
   ]
  },
  {
   "cell_type": "code",
   "execution_count": 3,
   "metadata": {
    "collapsed": true
   },
   "outputs": [],
   "source": [
    "def cleanText(inputText):\n",
    "    tempText = inputText;\n",
    "    tempText = re.sub('<[^<]+?>', ' ', tempText);\n",
    "    tempText = re.sub(r'&amp[;]?', r' ', tempText);\n",
    "    tempText = re.sub(r'\\'s', ' ', tempText);\n",
    "    tempText = re.sub(r'[\\w\\.-]+@[\\w\\.-]+', ' ', tempText);\n",
    "    tempText = re.sub(r'[<>!#\\[\\]@/$:.,;%\\()*?-]+', r' ', tempText);\n",
    "    tempText = re.sub(r'\\s+', r' ', tempText);\n",
    "    words_filtered =[word.lower() for word in tempText.split()]\n",
    "    cleanWordsList = [word for word in words_filtered if word not in stopwords_set]      #remove stopwords except few exceptions  \n",
    "    cleanfeature = ' '.join(cleanWordsList)\n",
    "    return cleanfeature"
   ]
  },
  {
   "cell_type": "code",
   "execution_count": 4,
   "metadata": {
    "collapsed": false
   },
   "outputs": [],
   "source": [
    "df = pd.read_json('C:/Users/shekh/Desktop/rentallisting/train.json')"
   ]
  },
  {
   "cell_type": "code",
   "execution_count": 5,
   "metadata": {
    "collapsed": false
   },
   "outputs": [],
   "source": [
    "df['display_address'] = df['display_address'].astype('category')\n",
    "df['display_address_codes'] = df['display_address'].cat.codes\n",
    "\n",
    "df['latitude'] = df['latitude'].astype('category')\n",
    "df['latitude_codes'] = df['latitude'].cat.codes\n",
    "\n",
    "df['longitude'] = df['longitude'].astype('category')\n",
    "df['longitude_codes'] = df['longitude'].cat.codes\n",
    "\n",
    "df['manager_id'] = df['manager_id'].astype('category')\n",
    "df['manager_id_codes'] = df['manager_id'].cat.codes\n",
    "\n",
    "df['interest_level'] = df['interest_level'].astype('category')\n",
    "df['interest_level_codes'] = df['interest_level'].cat.codes"
   ]
  },
  {
   "cell_type": "code",
   "execution_count": 6,
   "metadata": {
    "collapsed": false
   },
   "outputs": [
    {
     "data": {
      "text/plain": [
       "10                                                       []\n",
       "10000     [Doorman, Elevator, Fitness Center, Cats Allow...\n",
       "100004    [Laundry In Building, Dishwasher, Hardwood Flo...\n",
       "100007                            [Hardwood Floors, No Fee]\n",
       "100013                                            [Pre-War]\n",
       "100014                                                   []\n",
       "100016    [prewar, elevator, Dogs Allowed, Cats Allowed,...\n",
       "100020    [Doorman, Elevator, Pre-War, Terrace, Laundry ...\n",
       "100026    [Cats Allowed, Dogs Allowed, Elevator, Laundry...\n",
       "100027                        [Dishwasher, Hardwood Floors]\n",
       "Name: features, dtype: object"
      ]
     },
     "execution_count": 6,
     "metadata": {},
     "output_type": "execute_result"
    }
   ],
   "source": [
    "df['features'].head(10)"
   ]
  },
  {
   "cell_type": "code",
   "execution_count": 7,
   "metadata": {
    "collapsed": false
   },
   "outputs": [
    {
     "data": {
      "text/plain": [
       "pandas.core.frame.DataFrame"
      ]
     },
     "execution_count": 7,
     "metadata": {},
     "output_type": "execute_result"
    }
   ],
   "source": [
    "jointFeaturesDescDF = df[['description','features']];\n",
    "label_column = df['interest_level_codes']\n",
    "type(jointFeaturesDescDF)"
   ]
  },
  {
   "cell_type": "code",
   "execution_count": 8,
   "metadata": {
    "collapsed": false
   },
   "outputs": [],
   "source": [
    "jointFeaturesDescList = []\n",
    "for row in jointFeaturesDescDF.iterrows():\n",
    "    tempList = row[1];\n",
    "    description = tempList['description'];\n",
    "    featureStr = ' '.join(tempList['features']);\n",
    "    joinedStr = ' '.join([description,\";\",featureStr]);\n",
    "    joinedStr = cleanText(joinedStr).encode('ascii', 'ignore').strip();\n",
    "    jointFeaturesDescList.append(joinedStr);"
   ]
  },
  {
   "cell_type": "code",
   "execution_count": 9,
   "metadata": {
    "collapsed": false
   },
   "outputs": [
    {
     "name": "stdout",
     "output_type": "stream",
     "text": [
      "49352\n"
     ]
    }
   ],
   "source": [
    "print len(jointFeaturesDescList);"
   ]
  },
  {
   "cell_type": "code",
   "execution_count": 10,
   "metadata": {
    "collapsed": false
   },
   "outputs": [
    {
     "data": {
      "text/plain": [
       "'doorman elevator fitness center cats allowed dogs allowed'"
      ]
     },
     "execution_count": 10,
     "metadata": {},
     "output_type": "execute_result"
    }
   ],
   "source": [
    "jointFeaturesDescList[1]"
   ]
  },
  {
   "cell_type": "code",
   "execution_count": 11,
   "metadata": {
    "collapsed": false
   },
   "outputs": [],
   "source": [
    "label_column_list = label_column.tolist();"
   ]
  },
  {
   "cell_type": "code",
   "execution_count": 12,
   "metadata": {
    "collapsed": true
   },
   "outputs": [],
   "source": [
    "# Create feature vectors\n",
    "vectorizer = TfidfVectorizer(min_df=0.00125,\n",
    "                             max_df = 0.75,\n",
    "                             sublinear_tf=True,\n",
    "                             use_idf=True,\n",
    "                             stop_words=u'english',\n",
    "                             analyzer='word',\n",
    "                             ngram_range=(1,3),lowercase=True)"
   ]
  },
  {
   "cell_type": "code",
   "execution_count": 13,
   "metadata": {
    "collapsed": false
   },
   "outputs": [
    {
     "name": "stdout",
     "output_type": "stream",
     "text": [
      "(49352, 12780)\n"
     ]
    }
   ],
   "source": [
    "totalVectors = vectorizer.fit_transform(jointFeaturesDescList);\n",
    "print totalVectors.shape"
   ]
  },
  {
   "cell_type": "code",
   "execution_count": 14,
   "metadata": {
    "collapsed": false
   },
   "outputs": [],
   "source": [
    "X_train, X_test, y_train, y_test = train_test_split(totalVectors,label_column_list,test_size=0.25,random_state=15,stratify=label_column_list);"
   ]
  },
  {
   "cell_type": "code",
   "execution_count": 15,
   "metadata": {
    "collapsed": false
   },
   "outputs": [
    {
     "name": "stdout",
     "output_type": "stream",
     "text": [
      "(37014, 12780)\n",
      "(12338, 12780)\n"
     ]
    }
   ],
   "source": [
    "print X_train.shape\n",
    "print X_test.shape"
   ]
  },
  {
   "cell_type": "code",
   "execution_count": 16,
   "metadata": {
    "collapsed": false
   },
   "outputs": [],
   "source": [
    "def generate_rf(X_train, y_train, X_test, y_test):\n",
    "    rf = RandomForestClassifier(n_estimators=50, min_samples_leaf=10,bootstrap=True,oob_score=True)\n",
    "    rf.fit(X_train, y_train)\n",
    "    print \"rf score \", rf.score(X_test, y_test)\n",
    "    return rf\n",
    "\n",
    "def combine_rfs(rf_a, rf_b):\n",
    "    rf_a.estimators_ += rf_b.estimators_\n",
    "    rf_a.n_estimators = len(rf_a.estimators_)\n",
    "    return rf_a"
   ]
  },
  {
   "cell_type": "code",
   "execution_count": 17,
   "metadata": {
    "collapsed": false
   },
   "outputs": [
    {
     "name": "stdout",
     "output_type": "stream",
     "text": [
      "rf score  0.706759604474\n",
      "rf score  0.707245906954\n",
      "rf score  0.705057545793\n",
      "rf score  0.707164856541\n",
      "rf score  0.706354352407\n",
      "rf score  0.707002755714\n",
      "rf score  0.705624898687\n",
      "rf score  0.706354352407\n",
      "rf score  0.706597503647\n",
      "rf score  0.706921705301\n",
      "rf combined score 0.706597503647\n"
     ]
    }
   ],
   "source": [
    "rfs = [generate_rf(X_train, y_train, X_test, y_test) for i in xrange(10)]\n",
    "rf_combined = reduce(combine_rfs, rfs)\n",
    "\n",
    "print \"rf combined score\", rf_combined.score(X_test, y_test)"
   ]
  },
  {
   "cell_type": "code",
   "execution_count": 18,
   "metadata": {
    "collapsed": false
   },
   "outputs": [],
   "source": [
    "predicted_labels = rf_combined.predict(X_test)"
   ]
  },
  {
   "cell_type": "code",
   "execution_count": 19,
   "metadata": {
    "collapsed": true
   },
   "outputs": [],
   "source": [
    "target_names = ['0', '1', '2']"
   ]
  },
  {
   "cell_type": "code",
   "execution_count": 20,
   "metadata": {
    "collapsed": false
   },
   "outputs": [],
   "source": [
    "actual_class_labels = y_test;\n",
    "predicted_class_labels = predicted_labels.tolist();"
   ]
  },
  {
   "cell_type": "code",
   "execution_count": 21,
   "metadata": {
    "collapsed": false
   },
   "outputs": [
    {
     "name": "stdout",
     "output_type": "stream",
     "text": [
      "             precision    recall  f1-score   support\n",
      "\n",
      "          0       0.64      0.03      0.05       960\n",
      "          1       0.71      0.99      0.83      8571\n",
      "          2       0.54      0.08      0.14      2807\n",
      "\n",
      "avg / total       0.67      0.71      0.61     12338\n",
      "\n"
     ]
    }
   ],
   "source": [
    "print(classification_report(actual_class_labels, predicted_class_labels, target_names=target_names))"
   ]
  },
  {
   "cell_type": "code",
   "execution_count": 22,
   "metadata": {
    "collapsed": false
   },
   "outputs": [
    {
     "data": {
      "text/plain": [
       "Index([            u'bathrooms',              u'bedrooms',\n",
       "                 u'building_id',               u'created',\n",
       "                 u'description',       u'display_address',\n",
       "                    u'features',        u'interest_level',\n",
       "                    u'latitude',            u'listing_id',\n",
       "                   u'longitude',            u'manager_id',\n",
       "                      u'photos',                 u'price',\n",
       "              u'street_address', u'display_address_codes',\n",
       "              u'latitude_codes',       u'longitude_codes',\n",
       "            u'manager_id_codes',  u'interest_level_codes'],\n",
       "      dtype='object')"
      ]
     },
     "execution_count": 22,
     "metadata": {},
     "output_type": "execute_result"
    }
   ],
   "source": [
    "df.columns"
   ]
  },
  {
   "cell_type": "code",
   "execution_count": 23,
   "metadata": {
    "collapsed": true
   },
   "outputs": [],
   "source": [
    "featuresDF = df[['bathrooms','bedrooms','price','longitude_codes','latitude_codes','photos','display_address_codes','manager_id_codes']]"
   ]
  },
  {
   "cell_type": "code",
   "execution_count": 24,
   "metadata": {
    "collapsed": false
   },
   "outputs": [
    {
     "data": {
      "text/html": [
       "<div>\n",
       "<table border=\"1\" class=\"dataframe\">\n",
       "  <thead>\n",
       "    <tr style=\"text-align: right;\">\n",
       "      <th></th>\n",
       "      <th>bathrooms</th>\n",
       "      <th>bedrooms</th>\n",
       "      <th>price</th>\n",
       "      <th>longitude_codes</th>\n",
       "      <th>latitude_codes</th>\n",
       "      <th>photos</th>\n",
       "      <th>display_address_codes</th>\n",
       "      <th>manager_id_codes</th>\n",
       "    </tr>\n",
       "  </thead>\n",
       "  <tbody>\n",
       "    <tr>\n",
       "      <th>10</th>\n",
       "      <td>1.5</td>\n",
       "      <td>3</td>\n",
       "      <td>3000</td>\n",
       "      <td>879</td>\n",
       "      <td>867</td>\n",
       "      <td>[https://photos.renthop.com/2/7211212_1ed4542e...</td>\n",
       "      <td>6544</td>\n",
       "      <td>1239</td>\n",
       "    </tr>\n",
       "  </tbody>\n",
       "</table>\n",
       "</div>"
      ],
      "text/plain": [
       "    bathrooms  bedrooms  price  longitude_codes  latitude_codes  \\\n",
       "10        1.5         3   3000              879             867   \n",
       "\n",
       "                                               photos  display_address_codes  \\\n",
       "10  [https://photos.renthop.com/2/7211212_1ed4542e...                   6544   \n",
       "\n",
       "    manager_id_codes  \n",
       "10              1239  "
      ]
     },
     "execution_count": 24,
     "metadata": {},
     "output_type": "execute_result"
    }
   ],
   "source": [
    "featuresDF.head(1)"
   ]
  },
  {
   "cell_type": "code",
   "execution_count": 25,
   "metadata": {
    "collapsed": false
   },
   "outputs": [
    {
     "data": {
      "text/plain": [
       "(0, 0)"
      ]
     },
     "execution_count": 25,
     "metadata": {},
     "output_type": "execute_result"
    }
   ],
   "source": [
    "new_features_df = pd.DataFrame();\n",
    "type(new_features_df)\n",
    "new_features_df.shape"
   ]
  },
  {
   "cell_type": "code",
   "execution_count": 26,
   "metadata": {
    "collapsed": false
   },
   "outputs": [],
   "source": [
    "for row in featuresDF.iterrows():\n",
    "    row[1].set_value('no_of_photos',len((row[1])['photos']));\n",
    "    new_features_df = new_features_df.append(row[1]);"
   ]
  },
  {
   "cell_type": "code",
   "execution_count": 27,
   "metadata": {
    "collapsed": false
   },
   "outputs": [],
   "source": [
    "new_features_df = new_features_df.drop('photos', axis=1)\n",
    "new_features_df['bathrooms'] = new_features_df['bathrooms'].astype('category')\n",
    "new_features_df['bedrooms'] = new_features_df['bedrooms'].astype('category')\n",
    "new_features_df['latitude_codes'] = new_features_df['latitude_codes'].astype('category')\n",
    "new_features_df['longitude_codes'] = new_features_df['longitude_codes'].astype('category')\n",
    "new_features_df['manager_id_codes'] = new_features_df['manager_id_codes'].astype('category')\n",
    "new_features_df['no_of_photos'] = new_features_df['no_of_photos'].astype('category')\n",
    "new_features_df['price'] = new_features_df['price'].astype('category')"
   ]
  },
  {
   "cell_type": "code",
   "execution_count": 28,
   "metadata": {
    "collapsed": false
   },
   "outputs": [
    {
     "data": {
      "text/html": [
       "<div>\n",
       "<table border=\"1\" class=\"dataframe\">\n",
       "  <thead>\n",
       "    <tr style=\"text-align: right;\">\n",
       "      <th></th>\n",
       "      <th>bathrooms</th>\n",
       "      <th>bedrooms</th>\n",
       "      <th>display_address_codes</th>\n",
       "      <th>latitude_codes</th>\n",
       "      <th>longitude_codes</th>\n",
       "      <th>manager_id_codes</th>\n",
       "      <th>no_of_photos</th>\n",
       "      <th>price</th>\n",
       "    </tr>\n",
       "  </thead>\n",
       "  <tbody>\n",
       "    <tr>\n",
       "      <th>10</th>\n",
       "      <td>1.5</td>\n",
       "      <td>3.0</td>\n",
       "      <td>6544.0</td>\n",
       "      <td>867.0</td>\n",
       "      <td>879.0</td>\n",
       "      <td>1239.0</td>\n",
       "      <td>5.0</td>\n",
       "      <td>3000.0</td>\n",
       "    </tr>\n",
       "  </tbody>\n",
       "</table>\n",
       "</div>"
      ],
      "text/plain": [
       "   bathrooms bedrooms  display_address_codes latitude_codes longitude_codes  \\\n",
       "10       1.5      3.0                 6544.0          867.0           879.0   \n",
       "\n",
       "   manager_id_codes no_of_photos   price  \n",
       "10           1239.0          5.0  3000.0  "
      ]
     },
     "execution_count": 28,
     "metadata": {},
     "output_type": "execute_result"
    }
   ],
   "source": [
    "new_features_df.head(1)"
   ]
  },
  {
   "cell_type": "code",
   "execution_count": 29,
   "metadata": {
    "collapsed": false
   },
   "outputs": [
    {
     "name": "stdout",
     "output_type": "stream",
     "text": [
      "37014\n",
      "12338\n",
      "37014\n",
      "12338\n"
     ]
    }
   ],
   "source": [
    "new_features_train, new_features_test, new_features_y_train, new_features_y_test = train_test_split(new_features_df,label_column_list,test_size=0.25,random_state=15,stratify=label_column_list)\n",
    "print len(new_features_train)\n",
    "print len(new_features_test)\n",
    "print len(new_features_y_train)\n",
    "print len(new_features_y_test)"
   ]
  },
  {
   "cell_type": "code",
   "execution_count": 30,
   "metadata": {
    "collapsed": false
   },
   "outputs": [],
   "source": [
    "def generate_rf(new_features_train, new_features_y_train, new_features_test, new_features_y_test):\n",
    "    rf = RandomForestClassifier(n_estimators=50, min_samples_leaf=10,bootstrap=True,oob_score=True)\n",
    "    rf.fit(new_features_train, new_features_y_train)\n",
    "    print \"rf score \", rf.score(new_features_test, new_features_y_test)\n",
    "    return rf\n",
    "\n",
    "def combine_rfs(rf_a, rf_b):\n",
    "    rf_a.estimators_ += rf_b.estimators_\n",
    "    rf_a.n_estimators = len(rf_a.estimators_)\n",
    "    return rf_a"
   ]
  },
  {
   "cell_type": "code",
   "execution_count": 31,
   "metadata": {
    "collapsed": false
   },
   "outputs": [
    {
     "name": "stdout",
     "output_type": "stream",
     "text": [
      "rf score  0.716728805317\n",
      "rf score  0.71510779705\n",
      "rf score  0.713729940023\n",
      "rf score  0.715675149943\n",
      "rf score  0.715269897876\n",
      "rf score  0.715188847463\n",
      "rf score  0.71559409953\n",
      "rf score  0.71583725077\n",
      "rf score  0.715026746636\n",
      "rf score  0.71486464581\n",
      "rf combined score 0.715756200357\n"
     ]
    }
   ],
   "source": [
    "rfs = [generate_rf(new_features_train, new_features_y_train, new_features_test, new_features_y_test) for i in xrange(10)]\n",
    "rf_combined = reduce(combine_rfs, rfs)\n",
    "\n",
    "print \"rf combined score\", rf_combined.score(new_features_test, new_features_y_test)"
   ]
  },
  {
   "cell_type": "code",
   "execution_count": 32,
   "metadata": {
    "collapsed": true
   },
   "outputs": [],
   "source": [
    "predict_lab = rf_combined.predict(new_features_test)"
   ]
  },
  {
   "cell_type": "code",
   "execution_count": 33,
   "metadata": {
    "collapsed": true
   },
   "outputs": [],
   "source": [
    "new_features_actual_class_labels = new_features_y_test;\n",
    "new_features_predicted_class_labels = predict_lab.tolist();"
   ]
  },
  {
   "cell_type": "code",
   "execution_count": 34,
   "metadata": {
    "collapsed": false
   },
   "outputs": [
    {
     "name": "stdout",
     "output_type": "stream",
     "text": [
      "             precision    recall  f1-score   support\n",
      "\n",
      "          0       0.65      0.15      0.25       960\n",
      "          1       0.74      0.96      0.84      8571\n",
      "          2       0.44      0.16      0.24      2807\n",
      "\n",
      "avg / total       0.67      0.72      0.66     12338\n",
      "\n"
     ]
    }
   ],
   "source": [
    "print(classification_report(new_features_actual_class_labels, new_features_predicted_class_labels, target_names=target_names))"
   ]
  },
  {
   "cell_type": "code",
   "execution_count": 39,
   "metadata": {
    "collapsed": false
   },
   "outputs": [],
   "source": [
    "import plotly.plotly as py\n",
    "import plotly.graph_objs as go\n",
    "import matplotlib.pyplot as plt"
   ]
  },
  {
   "cell_type": "code",
   "execution_count": 37,
   "metadata": {
    "collapsed": true
   },
   "outputs": [],
   "source": [
    "trace1 = go.Scatter(\n",
    "    x=[1, 2, 3, 4, 5, \n",
    "       6, 7, 8, 9, 10],\n",
    "    y=+[0.716728805317,0.71510779705,0.713729940023,0.715675149943,0.715269897876,0.715188847463,0.71559409953,0.71583725077,0.715026746636,0.71486464581],\n",
    "    name = '<b>No</b> Gaps', # Style name/legend entry with html tags\n",
    "    connectgaps=True\n",
    ")\n",
    "trace2 = go.Scatter(\n",
    "    x=[1, 2, 3, 4, 5,\n",
    "       6, 7, 8, 9, 10],\n",
    "    y=[0.706759604474,0.707245906954,0.705057545793,0.707164856541,0.706354352407,0.707002755714,0.705624898687,0.706354352407,0.706597503647,0.706921705301],\n",
    "    name = 'Gaps',\n",
    ")\n",
    "\n",
    "data = [trace1, trace2]\n",
    "\n"
   ]
  },
  {
   "cell_type": "code",
   "execution_count": 40,
   "metadata": {
    "collapsed": false
   },
   "outputs": [
    {
     "data": {
      "text/plain": [
       "[<matplotlib.lines.Line2D at 0x19a6b6a0>]"
      ]
     },
     "execution_count": 40,
     "metadata": {},
     "output_type": "execute_result"
    }
   ],
   "source": [
    "plt.plot([1, 2, 3, 4, 5, \n",
    "       6, 7, 8, 9, 10],[0.716728805317,0.71510779705,0.713729940023,0.715675149943,0.715269897876,0.715188847463,0.71559409953,0.71583725077,0.715026746636,0.71486464581])"
   ]
  },
  {
   "cell_type": "code",
   "execution_count": 51,
   "metadata": {
    "collapsed": false
   },
   "outputs": [
    {
     "data": {
      "image/png": "[encoded data removed]",
      "text/plain": [
       "<matplotlib.figure.Figure at 0x1b8252b0>"
      ]
     },
     "metadata": {},
     "output_type": "display_data"
    }
   ],
   "source": [
    "import matplotlib.pyplot as plt\n",
    "import numpy as np\n",
    "\n",
    "builds = np.array([1, 2, 3, 4,5,6,7,8,9,10])\n",
    "y_stack = np.row_stack(([1, 2, 3, 4,5,6,7,8,9,10],[0.706759604474,0.707245906954,0.705057545793,0.707164856541,0.706354352407,0.707002755714,0.705624898687,0.706354352407,0.706597503647,0.706921705301],[0.716728805317,0.71510779705,0.713729940023,0.715675149943,0.715269897876,0.715188847463,0.71559409953,0.71583725077,0.715026746636,0.71486464581])) \n",
    "\n",
    "fig = plt.figure(figsize=(11,8))\n",
    "ax1 = fig.add_subplot(111)\n",
    "\n",
    "ax1.plot(builds, y_stack[1,:], label='Textual Features', color='r', marker='o')\n",
    "ax1.plot(builds, y_stack[2,:], label='Numerical Features', color='g', marker='o')\n",
    "# ax1.plot(builds, y_stack[1,:], label='Component 2', color='g', marker='o')\n",
    "\n",
    "plt.xticks(builds)\n",
    "plt.xlabel('No of Iterations')\n",
    "plt.ylabel('Accuracy Score using Out-Of-Bag Error.')\n",
    "\n",
    "handles, labels = ax1.get_legend_handles_labels()\n",
    "lgd = ax1.legend(handles, labels, loc='upper center', bbox_to_anchor=(1.15,1))\n",
    "ax1.grid('on')\n",
    "\n",
    "plt.show()"
   ]
  },
  {
   "cell_type": "code",
   "execution_count": null,
   "metadata": {
    "collapsed": true
   },
   "outputs": [],
   "source": []
  }
 ],
 "metadata": {
  "anaconda-cloud": {},
  "kernelspec": {
   "display_name": "Python 2",
   "language": "python",
   "name": "python2"
  },
  "language_info": {
   "codemirror_mode": {
    "name": "ipython",
    "version": 2
   },
   "file_extension": ".py",
   "mimetype": "text/x-python",
   "name": "python",
   "nbconvert_exporter": "python",
   "pygments_lexer": "ipython2",
   "version": "2.7.13"
  }
 },
 "nbformat": 4,
 "nbformat_minor": 2
}
