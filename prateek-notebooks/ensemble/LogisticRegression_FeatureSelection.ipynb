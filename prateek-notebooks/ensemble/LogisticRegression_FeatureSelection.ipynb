{
 "cells": [
  {
   "cell_type": "code",
   "execution_count": 1,
   "metadata": {
    "collapsed": false
   },
   "outputs": [
    {
     "name": "stderr",
     "output_type": "stream",
     "text": [
      "C:\\Users\\shekh\\Anaconda2\\lib\\site-packages\\sklearn\\cross_validation.py:44: DeprecationWarning: This module was deprecated in version 0.18 in favor of the model_selection module into which all the refactored classes and functions are moved. Also note that the interface of the new CV iterators are different from that of this module. This module will be removed in 0.20.\n",
      "  \"This module will be removed in 0.20.\", DeprecationWarning)\n"
     ]
    }
   ],
   "source": [
    "import numpy as np\n",
    "import pandas as pd\n",
    "from sklearn.linear_model import LogisticRegression, LinearRegression\n",
    "from sklearn.cross_validation import train_test_split\n",
    "from sklearn.feature_selection import VarianceThreshold\n",
    "from sklearn.feature_selection import RFE\n",
    "from sklearn.metrics import classification_report"
   ]
  },
  {
   "cell_type": "code",
   "execution_count": 2,
   "metadata": {
    "collapsed": false
   },
   "outputs": [],
   "source": [
    "dataFrame = pd.read_csv('C:/Users/shekh/Desktop/rentallisting/extrapolated_trained_data_new_1.csv');\n",
    "df = pd.DataFrame(dataFrame);"
   ]
  },
  {
   "cell_type": "code",
   "execution_count": 3,
   "metadata": {
    "collapsed": true
   },
   "outputs": [],
   "source": [
    "df['interest_level'] = df['interest_level'].astype('category')\n",
    "df['interest_level_codes'] = df['interest_level'].cat.codes\n",
    "\n",
    "df['display_address'] = df['display_address'].astype('category')\n",
    "df['display_address_codes'] = df['display_address'].cat.codes\n",
    "\n",
    "df['latitude'] = df['latitude'].astype('category')\n",
    "df['latitude_codes'] = df['latitude'].cat.codes\n",
    "\n",
    "df['longitude'] = df['longitude'].astype('category')\n",
    "df['longitude_codes'] = df['longitude'].cat.codes"
   ]
  },
  {
   "cell_type": "code",
   "execution_count": 4,
   "metadata": {
    "collapsed": false
   },
   "outputs": [
    {
     "data": {
      "text/plain": [
       "(45342, 289)"
      ]
     },
     "execution_count": 4,
     "metadata": {},
     "output_type": "execute_result"
    }
   ],
   "source": [
    "featuresDF = df.drop('interest_level', axis=1)\n",
    "featuresDF = featuresDF.drop('building_id', axis=1)\n",
    "featuresDF = featuresDF.drop('created', axis=1)\n",
    "featuresDF = featuresDF.drop('description', axis=1)\n",
    "featuresDF = featuresDF.drop('display_address', axis=1)\n",
    "featuresDF = featuresDF.drop('latitude', axis=1)\n",
    "featuresDF = featuresDF.drop('longitude', axis=1)\n",
    "featuresDF = featuresDF.drop('manager_id', axis=1)\n",
    "featuresDF = featuresDF.drop('photos', axis=1)\n",
    "featuresDF = featuresDF.drop('street_address', axis=1)\n",
    "featuresDF = featuresDF.drop('listing_id', axis=1)\n",
    "\n",
    "featuresDF.shape"
   ]
  },
  {
   "cell_type": "code",
   "execution_count": 5,
   "metadata": {
    "collapsed": false
   },
   "outputs": [],
   "source": [
    "# featuresDF.iloc[:,[0,1,2]]"
   ]
  },
  {
   "cell_type": "code",
   "execution_count": 6,
   "metadata": {
    "collapsed": false
   },
   "outputs": [],
   "source": [
    "# #1. Using RFE model and select 30 features\n",
    "# rfe = RFE(lr_classifier, 30)\n",
    "# rfe = rfe.fit(featuresDF, y_label)\n",
    "# # summarize the selection of the attributes\n",
    "# print(rfe.support_)\n",
    "# print(rfe.ranking_)"
   ]
  },
  {
   "cell_type": "code",
   "execution_count": 7,
   "metadata": {
    "collapsed": false
   },
   "outputs": [],
   "source": [
    "#2. Using Variance Threshold for feature selection\n",
    "selector = VarianceThreshold(threshold=(.9 * (1 - .9)));\n",
    "temp = selector.fit_transform(featuresDF);"
   ]
  },
  {
   "cell_type": "code",
   "execution_count": 8,
   "metadata": {
    "collapsed": false
   },
   "outputs": [
    {
     "data": {
      "text/plain": [
       "numpy.ndarray"
      ]
     },
     "execution_count": 8,
     "metadata": {},
     "output_type": "execute_result"
    }
   ],
   "source": [
    "type(temp)"
   ]
  },
  {
   "cell_type": "code",
   "execution_count": 9,
   "metadata": {
    "collapsed": false
   },
   "outputs": [
    {
     "data": {
      "text/plain": [
       "(45342L, 22L)"
      ]
     },
     "execution_count": 9,
     "metadata": {},
     "output_type": "execute_result"
    }
   ],
   "source": [
    "temp.shape"
   ]
  },
  {
   "cell_type": "code",
   "execution_count": 10,
   "metadata": {
    "collapsed": false
   },
   "outputs": [],
   "source": [
    "selected_features = selector.get_support(indices=True)"
   ]
  },
  {
   "cell_type": "code",
   "execution_count": 11,
   "metadata": {
    "collapsed": false
   },
   "outputs": [],
   "source": [
    "reducedFeatureDF = featuresDF.iloc[:,selected_features]"
   ]
  },
  {
   "cell_type": "code",
   "execution_count": 12,
   "metadata": {
    "collapsed": false
   },
   "outputs": [
    {
     "data": {
      "text/plain": [
       "Index([u'bathrooms', u'bedrooms', u'no_of_photos', u'price', u'dish_washer',\n",
       "       u'fitness_center', u'hardwood_floors', u'dining_room', u'elevator',\n",
       "       u'doorman', u'dog_allowed', u'roof_deck', u'laundry', u'pre_war',\n",
       "       u'cat_allowed', u'outdoor_space', u'laundry_bldg', u'no_fee',\n",
       "       u'interest_level_codes', u'display_address_codes', u'latitude_codes',\n",
       "       u'longitude_codes'],\n",
       "      dtype='object')"
      ]
     },
     "execution_count": 12,
     "metadata": {},
     "output_type": "execute_result"
    }
   ],
   "source": [
    "reducedFeatureDF.columns"
   ]
  },
  {
   "cell_type": "code",
   "execution_count": 13,
   "metadata": {
    "collapsed": true
   },
   "outputs": [],
   "source": [
    "y_label = reducedFeatureDF['interest_level_codes']"
   ]
  },
  {
   "cell_type": "code",
   "execution_count": 14,
   "metadata": {
    "collapsed": false
   },
   "outputs": [
    {
     "name": "stdout",
     "output_type": "stream",
     "text": [
      "36273\n",
      "4534\n",
      "4535\n",
      "36273\n",
      "4534\n",
      "4535\n",
      "36273\n",
      "4534\n",
      "4535\n"
     ]
    }
   ],
   "source": [
    "# X_train, X_test, y_train, y_test = train_test_split(reducedFeatureDF,y_label, test_size=0.40,random_state=15,stratify=y_label)\n",
    "train, validate, test = np.split(reducedFeatureDF.sample(frac=1), [int(.8*len(df)), int(.9*len(df))])\n",
    "print len(train);\n",
    "print len(validate);\n",
    "print len(test);\n",
    "X_train = train.drop('interest_level_codes', axis=1)\n",
    "X_validate = validate.drop('interest_level_codes', axis=1)\n",
    "X_test = test.drop('interest_level_codes', axis=1)\n",
    "\n",
    "y_train = train['interest_level_codes']\n",
    "y_validate = validate['interest_level_codes']\n",
    "y_test = test['interest_level_codes']\n",
    "\n",
    "print len(X_train)\n",
    "print len(X_validate)\n",
    "print len(X_test)\n",
    "print len(y_train)\n",
    "print len(y_validate)\n",
    "print len(y_test)"
   ]
  },
  {
   "cell_type": "code",
   "execution_count": 15,
   "metadata": {
    "collapsed": false
   },
   "outputs": [
    {
     "name": "stdout",
     "output_type": "stream",
     "text": [
      "1    25769\n",
      "2     7992\n",
      "0     2512\n",
      "Name: interest_level_codes, dtype: int64\n",
      "1    3201\n",
      "2     998\n",
      "0     335\n",
      "Name: interest_level_codes, dtype: int64\n",
      "1    3246\n",
      "2     962\n",
      "0     327\n",
      "Name: interest_level_codes, dtype: int64\n"
     ]
    }
   ],
   "source": [
    "print y_train.value_counts();\n",
    "print y_validate.value_counts();\n",
    "print y_test.value_counts();"
   ]
  },
  {
   "cell_type": "code",
   "execution_count": 16,
   "metadata": {
    "collapsed": false
   },
   "outputs": [
    {
     "data": {
      "text/plain": [
       "LogisticRegression(C=100000.0, class_weight=None, dual=False,\n",
       "          fit_intercept=True, intercept_scaling=1, max_iter=100,\n",
       "          multi_class='ovr', n_jobs=1, penalty='l2', random_state=None,\n",
       "          solver='liblinear', tol=0.0001, verbose=0, warm_start=False)"
      ]
     },
     "execution_count": 16,
     "metadata": {},
     "output_type": "execute_result"
    }
   ],
   "source": [
    "lr_classifier = LogisticRegression(C=1e5)\n",
    "lr_classifier.fit(X_train,y_train)"
   ]
  },
  {
   "cell_type": "code",
   "execution_count": 17,
   "metadata": {
    "collapsed": false
   },
   "outputs": [],
   "source": [
    "predict_labels_validation = lr_classifier.predict(X_validate)\n",
    "target_names = ['0', '1', '2'];"
   ]
  },
  {
   "cell_type": "code",
   "execution_count": 18,
   "metadata": {
    "collapsed": false
   },
   "outputs": [
    {
     "name": "stdout",
     "output_type": "stream",
     "text": [
      "             precision    recall  f1-score   support\n",
      "\n",
      "          0       0.50      0.00      0.01       335\n",
      "          1       0.73      0.98      0.83      3201\n",
      "          2       0.42      0.10      0.16       998\n",
      "\n",
      "avg / total       0.64      0.71      0.62      4534\n",
      "\n"
     ]
    }
   ],
   "source": [
    "print(classification_report(y_validate, predict_labels_validation, target_names=target_names))"
   ]
  },
  {
   "cell_type": "code",
   "execution_count": 19,
   "metadata": {
    "collapsed": false
   },
   "outputs": [],
   "source": [
    "predict_labels_test = lr_classifier.predict(X_test)"
   ]
  },
  {
   "cell_type": "code",
   "execution_count": 20,
   "metadata": {
    "collapsed": false
   },
   "outputs": [
    {
     "name": "stdout",
     "output_type": "stream",
     "text": [
      "             precision    recall  f1-score   support\n",
      "\n",
      "          0       1.00      0.00      0.01       327\n",
      "          1       0.73      0.97      0.84      3246\n",
      "          2       0.40      0.09      0.15       962\n",
      "\n",
      "avg / total       0.68      0.72      0.63      4535\n",
      "\n"
     ]
    }
   ],
   "source": [
    "print(classification_report(y_test, predict_labels_test, target_names=target_names))"
   ]
  }
 ],
 "metadata": {
  "kernelspec": {
   "display_name": "Python 2",
   "language": "python",
   "name": "python2"
  },
  "language_info": {
   "codemirror_mode": {
    "name": "ipython",
    "version": 2
   },
   "file_extension": ".py",
   "mimetype": "text/x-python",
   "name": "python",
   "nbconvert_exporter": "python",
   "pygments_lexer": "ipython2",
   "version": "2.7.13"
  }
 },
 "nbformat": 4,
 "nbformat_minor": 2
}
